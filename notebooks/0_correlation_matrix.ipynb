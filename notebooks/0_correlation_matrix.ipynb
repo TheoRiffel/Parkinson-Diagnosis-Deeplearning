{
 "cells": [
  {
   "cell_type": "markdown",
   "id": "fc7b43c2",
   "metadata": {},
   "source": [
    "# Reading Files"
   ]
  },
  {
   "cell_type": "code",
   "execution_count": null,
   "id": "f10d2033",
   "metadata": {},
   "outputs": [],
   "source": [
    "import os\n",
    "\n",
    "import pandas as pd\n",
    "import networkx as nx\n",
    "import numpy as np\n",
    "\n",
    "from fastdtw import fastdtw\n",
    "from tqdm import tqdm\n",
    "from node2vec import Node2Vec\n",
    "from sklearn.neural_network import MLPClassifier\n",
    "from sklearn.model_selection import train_test_split, RandomizedSearchCV\n",
    "from scipy.spatial.distance import euclidean"
   ]
  },
  {
   "cell_type": "code",
   "execution_count": 3,
   "id": "d7628160",
   "metadata": {},
   "outputs": [],
   "source": [
    "def batch_read(path: str) -> list[pd.DataFrame]:\n",
    "    df_list = []\n",
    "    for file in tqdm(os.listdir(path)):\n",
    "        df = pd.read_csv(f'{path}/{file}')\n",
    "        df_list.append(df)\n",
    "    return df_list"
   ]
  },
  {
   "cell_type": "code",
   "execution_count": 4,
   "id": "6f41a9b6",
   "metadata": {},
   "outputs": [
    {
     "name": "stderr",
     "output_type": "stream",
     "text": [
      "100%|██████████| 66/66 [00:03<00:00, 19.13it/s]\n"
     ]
    }
   ],
   "source": [
    "control_data = batch_read('../data/Controls_columns')"
   ]
  },
  {
   "cell_type": "code",
   "execution_count": 5,
   "id": "2042221d",
   "metadata": {},
   "outputs": [
    {
     "name": "stderr",
     "output_type": "stream",
     "text": [
      "100%|██████████| 113/113 [00:05<00:00, 21.18it/s]\n"
     ]
    }
   ],
   "source": [
    "parkinson_data = batch_read('../data/PDs_columns')"
   ]
  },
  {
   "cell_type": "code",
   "execution_count": 6,
   "id": "04a8806d",
   "metadata": {},
   "outputs": [
    {
     "data": {
      "text/plain": [
       "array(['AAL3', 'CSF', 'Grey Matter', 'Shen_268', 'White Matter', 'atlas',\n",
       "       'networks'], dtype='<U12')"
      ]
     },
     "execution_count": 6,
     "metadata": {},
     "output_type": "execute_result"
    }
   ],
   "source": [
    "np.unique([column.split('.')[0] for column in parkinson_data[0].columns])"
   ]
  },
  {
   "cell_type": "markdown",
   "id": "2655c0e7",
   "metadata": {},
   "source": [
    "Os atlas possíveis são AAL3, Shen_268 e atlas. Cada atlas particiona o cérebro de maneiras diferentes. Devemos selecionar as colunas correspondentes para aplicar o processamento"
   ]
  },
  {
   "cell_type": "code",
   "execution_count": 7,
   "id": "7785175c",
   "metadata": {},
   "outputs": [
    {
     "data": {
      "text/plain": [
       "Index(['AAL3.cluster001', 'AAL3.cluster002', 'AAL3.cluster003',\n",
       "       'AAL3.cluster004', 'AAL3.cluster005'],\n",
       "      dtype='object')"
      ]
     },
     "execution_count": 7,
     "metadata": {},
     "output_type": "execute_result"
    }
   ],
   "source": [
    "all_columns = parkinson_data[0].columns\n",
    "AAL3_columns = all_columns[np.where([column.split('.')[0] == 'AAL3' for column in all_columns])[0]]\n",
    "AAL3_columns[:5]"
   ]
  },
  {
   "cell_type": "code",
   "execution_count": 8,
   "id": "9c9216d3",
   "metadata": {},
   "outputs": [],
   "source": [
    "control_AAL3_data = [data[AAL3_columns] for data in control_data]\n",
    "parkinson_AAL3_data = [data[AAL3_columns] for data in parkinson_data]"
   ]
  },
  {
   "cell_type": "markdown",
   "id": "4f73063b",
   "metadata": {},
   "source": [
    "## Create Graphs\n",
    "\n",
    "Demora muito para calcular a rede funcional com DTW"
   ]
  },
  {
   "cell_type": "code",
   "execution_count": 9,
   "id": "f8482fda",
   "metadata": {},
   "outputs": [],
   "source": [
    "def dtw_distance(time_series1: np.array, time_series2: np.array) -> float:\n",
    "    distance, _ = fastdtw(time_series1.reshape(-1, 1), time_series2.reshape(-1, 1), dist=euclidean)\n",
    "    return distance\n",
    "\n",
    "def compute_functional_network(time_series: np.array, distance_function: callable) -> np.array:\n",
    "    n = time_series.shape[0]\n",
    "    functional_network = np.zeros((n, n))\n",
    "    for i in tqdm(range(1, n), leave=True):\n",
    "        for j in tqdm(range(i+1, n), leave=False):\n",
    "            distance = distance_function(time_series[i].reshape(-1, 1), time_series[j].reshape(-1, 1))\n",
    "            functional_network[i, j] = distance\n",
    "            functional_network[j, i] = distance\n",
    "    return functional_network"
   ]
  },
  {
   "cell_type": "markdown",
   "id": "11920f53",
   "metadata": {},
   "source": [
    "Vamos utilizar Pearson"
   ]
  },
  {
   "cell_type": "markdown",
   "id": "2e7c0f93",
   "metadata": {},
   "source": [
    "### Teste com a Triangular Superior"
   ]
  },
  {
   "cell_type": "code",
   "execution_count": 12,
   "id": "be62fac0",
   "metadata": {},
   "outputs": [
    {
     "data": {
      "text/plain": [
       "(240, 166)"
      ]
     },
     "execution_count": 12,
     "metadata": {},
     "output_type": "execute_result"
    }
   ],
   "source": [
    "parkinson_AAL3_data[0].shape"
   ]
  },
  {
   "cell_type": "code",
   "execution_count": 13,
   "id": "ec7e31ff",
   "metadata": {},
   "outputs": [],
   "source": [
    "upper_triangular_indices = np.triu_indices(166)\n",
    "\n",
    "parkinson_correlation_matrix = [time_series.corr().to_numpy()[upper_triangular_indices] for time_series in parkinson_AAL3_data]\n",
    "control_correlation_matrix = [time_series.corr().to_numpy()[upper_triangular_indices] for time_series in control_AAL3_data]"
   ]
  },
  {
   "cell_type": "markdown",
   "id": "397459ab",
   "metadata": {},
   "source": [
    "#### Removendo pacientes com erros"
   ]
  },
  {
   "cell_type": "markdown",
   "id": "6b782fc9",
   "metadata": {},
   "source": [
    "Checando pacientes que possuem séries constantes (resultando em valores nulos na matriz de correlação)"
   ]
  },
  {
   "cell_type": "code",
   "execution_count": 14,
   "id": "ac64fe05",
   "metadata": {},
   "outputs": [
    {
     "data": {
      "text/plain": [
       "(array([79]),)"
      ]
     },
     "execution_count": 14,
     "metadata": {},
     "output_type": "execute_result"
    }
   ],
   "source": [
    "np.where(pd.DataFrame(parkinson_correlation_matrix).isna().any(axis=1) == True)"
   ]
  },
  {
   "cell_type": "code",
   "execution_count": 15,
   "id": "453d73bb",
   "metadata": {},
   "outputs": [
    {
     "data": {
      "text/plain": [
       "Index(['AAL3.cluster106'], dtype='object')"
      ]
     },
     "execution_count": 15,
     "metadata": {},
     "output_type": "execute_result"
    }
   ],
   "source": [
    "AAL3_columns[np.where(parkinson_AAL3_data[79].std() == 0)]"
   ]
  },
  {
   "cell_type": "markdown",
   "id": "f04e5e63",
   "metadata": {},
   "source": [
    "O paciente indice 79 do grupo com Parkinson possui a série AAL3.cluster106 com valor constante"
   ]
  },
  {
   "cell_type": "code",
   "execution_count": 16,
   "id": "f9d12957",
   "metadata": {},
   "outputs": [
    {
     "data": {
      "text/plain": [
       "0      0\n",
       "1      0\n",
       "2      0\n",
       "3      0\n",
       "4      0\n",
       "      ..\n",
       "235    0\n",
       "236    0\n",
       "237    0\n",
       "238    0\n",
       "239    0\n",
       "Name: AAL3.cluster106, Length: 240, dtype: int64"
      ]
     },
     "execution_count": 16,
     "metadata": {},
     "output_type": "execute_result"
    }
   ],
   "source": [
    "parkinson_AAL3_data[79]['AAL3.cluster106']"
   ]
  },
  {
   "cell_type": "code",
   "execution_count": 17,
   "id": "7ee61e42",
   "metadata": {},
   "outputs": [],
   "source": [
    "X = np.concatenate([\n",
    "    parkinson_correlation_matrix,\n",
    "    control_correlation_matrix\n",
    "], axis=0)"
   ]
  },
  {
   "cell_type": "code",
   "execution_count": 18,
   "id": "dec63803",
   "metadata": {},
   "outputs": [],
   "source": [
    "y = np.concatenate([\n",
    "    [1 for _ in range(len(parkinson_data))],\n",
    "    [0 for _ in range(len(control_data))]\n",
    "])"
   ]
  },
  {
   "cell_type": "markdown",
   "id": "794c78f4",
   "metadata": {},
   "source": [
    "Selecionando séries temporais corretas"
   ]
  },
  {
   "cell_type": "code",
   "execution_count": 19,
   "id": "248cc3d3",
   "metadata": {},
   "outputs": [
    {
     "name": "stdout",
     "output_type": "stream",
     "text": [
      "(178, 13861) (178,)\n"
     ]
    }
   ],
   "source": [
    "notna_indices = np.logical_not(np.isnan(X).any(axis=1))\n",
    "X = X[notna_indices, :]\n",
    "y = y[notna_indices]\n",
    "print(X.shape, y.shape)"
   ]
  },
  {
   "cell_type": "markdown",
   "id": "24f0abc4",
   "metadata": {},
   "source": [
    "#### Train/Test Split"
   ]
  },
  {
   "cell_type": "code",
   "execution_count": 20,
   "id": "c2d4a205",
   "metadata": {},
   "outputs": [],
   "source": [
    "X_train, X_test, y_train, y_test = train_test_split(X, y)"
   ]
  },
  {
   "cell_type": "code",
   "execution_count": 21,
   "id": "6886c60e",
   "metadata": {},
   "outputs": [],
   "source": [
    "params = {\n",
    "    'alpha': np.arange(1e-4, 1e-2, 1e-3),\n",
    "    'learning_rate': ['constant', 'adaptive'],\n",
    "}"
   ]
  },
  {
   "cell_type": "markdown",
   "id": "1ffe69c4",
   "metadata": {},
   "source": [
    "#### Training\n",
    "\n",
    "Why are there NaN values?"
   ]
  },
  {
   "cell_type": "code",
   "execution_count": 22,
   "id": "d68a8675",
   "metadata": {},
   "outputs": [
    {
     "data": {
      "text/plain": [
       "{'learning_rate': 'adaptive', 'alpha': 0.0031}"
      ]
     },
     "execution_count": 22,
     "metadata": {},
     "output_type": "execute_result"
    }
   ],
   "source": [
    "model = MLPClassifier(early_stopping=True, hidden_layer_sizes=(100, 100))\n",
    "hyperparam_optimization = RandomizedSearchCV(model, params, random_state=1)\n",
    "search = hyperparam_optimization.fit(X_train, y_train)\n",
    "search.best_params_"
   ]
  },
  {
   "cell_type": "code",
   "execution_count": 23,
   "id": "ea4602b2",
   "metadata": {},
   "outputs": [
    {
     "data": {
      "text/plain": [
       "0.7555555555555555"
      ]
     },
     "execution_count": 23,
     "metadata": {},
     "output_type": "execute_result"
    }
   ],
   "source": [
    "optimized_model = MLPClassifier(early_stopping=True, **search.best_params_).fit(X_train, y_train)\n",
    "optimized_model.score(X_test, y_test)"
   ]
  },
  {
   "cell_type": "code",
   "execution_count": 27,
   "id": "7a98d393",
   "metadata": {},
   "outputs": [
    {
     "data": {
      "text/plain": [
       "array([1, 1, 0, 1, 1, 1, 1, 1, 1, 1, 0, 1, 1, 0, 1, 0, 1, 0, 0, 1, 1, 0,\n",
       "       1, 0, 0, 1, 1, 0, 1, 1, 0, 1, 0, 1, 1, 1, 1, 0, 1, 1, 1, 0, 1, 0,\n",
       "       1])"
      ]
     },
     "execution_count": 27,
     "metadata": {},
     "output_type": "execute_result"
    }
   ],
   "source": [
    "optimized_model.predict(X_test)"
   ]
  }
 ],
 "metadata": {
  "kernelspec": {
   "display_name": "parkinson",
   "language": "python",
   "name": "python3"
  },
  "language_info": {
   "codemirror_mode": {
    "name": "ipython",
    "version": 3
   },
   "file_extension": ".py",
   "mimetype": "text/x-python",
   "name": "python",
   "nbconvert_exporter": "python",
   "pygments_lexer": "ipython3",
   "version": "3.9.0"
  }
 },
 "nbformat": 4,
 "nbformat_minor": 5
}
