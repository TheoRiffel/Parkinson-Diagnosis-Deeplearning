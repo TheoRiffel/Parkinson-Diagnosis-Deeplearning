{
 "cells": [
  {
   "cell_type": "markdown",
   "id": "fc7b43c2",
   "metadata": {},
   "source": [
    "# Reading Files"
   ]
  },
  {
   "cell_type": "code",
   "execution_count": 29,
   "id": "f10d2033",
   "metadata": {},
   "outputs": [],
   "source": [
    "import os\n",
    "import parkinson\n",
    "\n",
    "import pandas as pd\n",
    "import networkx as nx\n",
    "import numpy as np\n",
    "\n",
    "from fastdtw import fastdtw\n",
    "from tqdm import tqdm\n",
    "from node2vec import Node2Vec\n",
    "from sklearn.neural_network import MLPClassifier\n",
    "from sklearn.model_selection import train_test_split, RandomizedSearchCV\n",
    "from scipy.spatial.distance import euclidean"
   ]
  },
  {
   "cell_type": "code",
   "execution_count": 2,
   "id": "d7628160",
   "metadata": {},
   "outputs": [],
   "source": [
    "from parkinson.utils.data import batch_read"
   ]
  },
  {
   "cell_type": "code",
   "execution_count": 3,
   "id": "6f41a9b6",
   "metadata": {},
   "outputs": [
    {
     "name": "stderr",
     "output_type": "stream",
     "text": [
      "  0%|          | 0/66 [00:00<?, ?it/s]"
     ]
    },
    {
     "name": "stderr",
     "output_type": "stream",
     "text": [
      "100%|██████████| 66/66 [00:03<00:00, 17.29it/s]\n"
     ]
    }
   ],
   "source": [
    "control_data = parkinson.utils.data.batch_read('../data/Controls_columns')"
   ]
  },
  {
   "cell_type": "code",
   "execution_count": 4,
   "id": "2042221d",
   "metadata": {},
   "outputs": [
    {
     "name": "stderr",
     "output_type": "stream",
     "text": [
      "100%|██████████| 113/113 [00:06<00:00, 17.64it/s]\n"
     ]
    }
   ],
   "source": [
    "parkinson_data = parkinson.utils.data.batch_read('../data/PDs_columns')"
   ]
  },
  {
   "cell_type": "code",
   "execution_count": 6,
   "id": "04a8806d",
   "metadata": {},
   "outputs": [
    {
     "data": {
      "text/plain": [
       "array(['AAL3', 'CSF', 'Grey Matter', 'Shen_268', 'White Matter', 'atlas',\n",
       "       'networks'], dtype='<U12')"
      ]
     },
     "execution_count": 6,
     "metadata": {},
     "output_type": "execute_result"
    }
   ],
   "source": [
    "np.unique([column.split('.')[0] for column in parkinson_data[0].columns])"
   ]
  },
  {
   "cell_type": "markdown",
   "id": "2655c0e7",
   "metadata": {},
   "source": [
    "Os atlas possíveis são AAL3, Shen_268 e atlas. Cada atlas particiona o cérebro de maneiras diferentes. Devemos selecionar as colunas correspondentes para aplicar o processamento"
   ]
  },
  {
   "cell_type": "code",
   "execution_count": 23,
   "id": "7785175c",
   "metadata": {},
   "outputs": [
    {
     "data": {
      "text/plain": [
       "Index(['AAL3.cluster001', 'AAL3.cluster002', 'AAL3.cluster003',\n",
       "       'AAL3.cluster004', 'AAL3.cluster005'],\n",
       "      dtype='object')"
      ]
     },
     "execution_count": 23,
     "metadata": {},
     "output_type": "execute_result"
    }
   ],
   "source": [
    "all_columns = parkinson_data[0].columns\n",
    "AAL3_columns = all_columns[np.where([column.split('.')[0] == 'AAL3' for column in all_columns])[0]]\n",
    "AAL3_columns[:5]"
   ]
  },
  {
   "cell_type": "code",
   "execution_count": 25,
   "id": "9c9216d3",
   "metadata": {},
   "outputs": [],
   "source": [
    "control_AAL3_data = parkinson.utils.data.select_atlas_columns(control_data, 'atlas')\n",
    "parkinson_AAL3_data = parkinson.utils.data.select_atlas_columns(parkinson_data, 'atlas')"
   ]
  },
  {
   "cell_type": "markdown",
   "id": "4f73063b",
   "metadata": {},
   "source": [
    "## Create Graphs\n",
    "\n",
    "Demora muito para calcular a rede funcional com DTW"
   ]
  },
  {
   "cell_type": "code",
   "execution_count": 30,
   "id": "f8482fda",
   "metadata": {},
   "outputs": [],
   "source": [
    "def dtw_distance(time_series1: np.array, time_series2: np.array) -> float:\n",
    "    distance, _ = fastdtw(time_series1.reshape(-1, 1), time_series2.reshape(-1, 1), dist=euclidean)\n",
    "    return distance\n",
    "\n",
    "def compute_functional_network(time_series: np.array, distance_function: callable) -> np.array:\n",
    "    n = time_series.shape[0]\n",
    "    functional_network = np.zeros((n, n))\n",
    "    for i in tqdm(range(1, n), leave=True):\n",
    "        for j in tqdm(range(i+1, n), leave=False):\n",
    "            distance = distance_function(time_series[i].reshape(-1, 1), time_series[j].reshape(-1, 1))\n",
    "            functional_network[i, j] = distance\n",
    "            functional_network[j, i] = distance\n",
    "    return functional_network"
   ]
  },
  {
   "cell_type": "markdown",
   "id": "11920f53",
   "metadata": {},
   "source": [
    "Vamos utilizar Pearson"
   ]
  },
  {
   "cell_type": "markdown",
   "id": "2e7c0f93",
   "metadata": {},
   "source": [
    "### Teste com a Triangular Superior"
   ]
  },
  {
   "cell_type": "code",
   "execution_count": 37,
   "id": "be62fac0",
   "metadata": {},
   "outputs": [
    {
     "data": {
      "text/plain": [
       "(240, 132)"
      ]
     },
     "execution_count": 37,
     "metadata": {},
     "output_type": "execute_result"
    }
   ],
   "source": [
    "parkinson_AAL3_data[0].shape"
   ]
  },
  {
   "cell_type": "code",
   "execution_count": 87,
   "id": "ec7e31ff",
   "metadata": {},
   "outputs": [
    {
     "ename": "IndexError",
     "evalue": "index 132 is out of bounds for axis 0 with size 132",
     "output_type": "error",
     "traceback": [
      "\u001b[0;31m---------------------------------------------------------------------------\u001b[0m",
      "\u001b[0;31mIndexError\u001b[0m                                Traceback (most recent call last)",
      "Cell \u001b[0;32mIn[14], line 3\u001b[0m\n\u001b[1;32m      1\u001b[0m upper_triangular_indices \u001b[38;5;241m=\u001b[39m np\u001b[38;5;241m.\u001b[39mtriu_indices(\u001b[38;5;241m166\u001b[39m)\n\u001b[0;32m----> 3\u001b[0m parkinson_correlation_matrix \u001b[38;5;241m=\u001b[39m [time_series\u001b[38;5;241m.\u001b[39mcorr()\u001b[38;5;241m.\u001b[39mto_numpy()[upper_triangular_indices] \u001b[38;5;28;01mfor\u001b[39;00m time_series \u001b[38;5;129;01min\u001b[39;00m parkinson_AAL3_data]\n\u001b[1;32m      4\u001b[0m control_correlation_matrix \u001b[38;5;241m=\u001b[39m [time_series\u001b[38;5;241m.\u001b[39mcorr()\u001b[38;5;241m.\u001b[39mto_numpy()[upper_triangular_indices] \u001b[38;5;28;01mfor\u001b[39;00m time_series \u001b[38;5;129;01min\u001b[39;00m control_AAL3_data]\n",
      "Cell \u001b[0;32mIn[14], line 3\u001b[0m, in \u001b[0;36m<listcomp>\u001b[0;34m(.0)\u001b[0m\n\u001b[1;32m      1\u001b[0m upper_triangular_indices \u001b[38;5;241m=\u001b[39m np\u001b[38;5;241m.\u001b[39mtriu_indices(\u001b[38;5;241m166\u001b[39m)\n\u001b[0;32m----> 3\u001b[0m parkinson_correlation_matrix \u001b[38;5;241m=\u001b[39m [\u001b[43mtime_series\u001b[49m\u001b[38;5;241;43m.\u001b[39;49m\u001b[43mcorr\u001b[49m\u001b[43m(\u001b[49m\u001b[43m)\u001b[49m\u001b[38;5;241;43m.\u001b[39;49m\u001b[43mto_numpy\u001b[49m\u001b[43m(\u001b[49m\u001b[43m)\u001b[49m\u001b[43m[\u001b[49m\u001b[43mupper_triangular_indices\u001b[49m\u001b[43m]\u001b[49m \u001b[38;5;28;01mfor\u001b[39;00m time_series \u001b[38;5;129;01min\u001b[39;00m parkinson_AAL3_data]\n\u001b[1;32m      4\u001b[0m control_correlation_matrix \u001b[38;5;241m=\u001b[39m [time_series\u001b[38;5;241m.\u001b[39mcorr()\u001b[38;5;241m.\u001b[39mto_numpy()[upper_triangular_indices] \u001b[38;5;28;01mfor\u001b[39;00m time_series \u001b[38;5;129;01min\u001b[39;00m control_AAL3_data]\n",
      "\u001b[0;31mIndexError\u001b[0m: index 132 is out of bounds for axis 0 with size 132"
     ]
    }
   ],
   "source": [
    "upper_triangular_indices = np.triu_indices(166)\n",
    "\n",
    "parkinson_correlation_matrix = [time_series.corr().to_numpy()[upper_triangular_indices] for time_series in parkinson_AAL3_data]\n",
    "control_correlation_matrix = [time_series.corr().to_numpy()[upper_triangular_indices] for time_series in control_AAL3_data]"
   ]
  },
  {
   "cell_type": "markdown",
   "id": "397459ab",
   "metadata": {},
   "source": [
    "#### Removendo pacientes com erros"
   ]
  },
  {
   "cell_type": "markdown",
   "id": "6b782fc9",
   "metadata": {},
   "source": [
    "Checando pacientes que possuem séries constantes (resultando em valores nulos na matriz de correlação)"
   ]
  },
  {
   "cell_type": "code",
   "execution_count": 14,
   "id": "ac64fe05",
   "metadata": {},
   "outputs": [
    {
     "data": {
      "text/plain": [
       "(array([79]),)"
      ]
     },
     "execution_count": 14,
     "metadata": {},
     "output_type": "execute_result"
    }
   ],
   "source": [
    "np.where(pd.DataFrame(parkinson_correlation_matrix).isna().any(axis=1) == True)"
   ]
  },
  {
   "cell_type": "code",
   "execution_count": 15,
   "id": "453d73bb",
   "metadata": {},
   "outputs": [
    {
     "data": {
      "text/plain": [
       "Index(['AAL3.cluster106'], dtype='object')"
      ]
     },
     "execution_count": 15,
     "metadata": {},
     "output_type": "execute_result"
    }
   ],
   "source": [
    "AAL3_columns[np.where(parkinson_AAL3_data[79].std() == 0)]"
   ]
  },
  {
   "cell_type": "markdown",
   "id": "f04e5e63",
   "metadata": {},
   "source": [
    "O paciente indice 79 do grupo com Parkinson possui a série AAL3.cluster106 com valor constante"
   ]
  },
  {
   "cell_type": "code",
   "execution_count": 16,
   "id": "f9d12957",
   "metadata": {},
   "outputs": [
    {
     "data": {
      "text/plain": [
       "0      0\n",
       "1      0\n",
       "2      0\n",
       "3      0\n",
       "4      0\n",
       "      ..\n",
       "235    0\n",
       "236    0\n",
       "237    0\n",
       "238    0\n",
       "239    0\n",
       "Name: AAL3.cluster106, Length: 240, dtype: int64"
      ]
     },
     "execution_count": 16,
     "metadata": {},
     "output_type": "execute_result"
    }
   ],
   "source": [
    "parkinson_AAL3_data[79]['AAL3.cluster106']"
   ]
  },
  {
   "cell_type": "code",
   "execution_count": 150,
   "id": "7ee61e42",
   "metadata": {},
   "outputs": [],
   "source": [
    "X = np.concatenate([\n",
    "    parkinson_correlation_matrix,\n",
    "    control_correlation_matrix\n",
    "], axis=0)"
   ]
  },
  {
   "cell_type": "code",
   "execution_count": 151,
   "id": "dec63803",
   "metadata": {},
   "outputs": [],
   "source": [
    "y = np.concatenate([\n",
    "    [1 for _ in range(len(parkinson_data))],\n",
    "    [0 for _ in range(len(control_data))]\n",
    "], axis=0)"
   ]
  },
  {
   "cell_type": "markdown",
   "id": "794c78f4",
   "metadata": {},
   "source": [
    "Selecionando séries temporais corretas"
   ]
  },
  {
   "cell_type": "code",
   "execution_count": 152,
   "id": "248cc3d3",
   "metadata": {},
   "outputs": [
    {
     "name": "stdout",
     "output_type": "stream",
     "text": [
      "(178, 13861) (178,)\n"
     ]
    }
   ],
   "source": [
    "notna_indices = np.logical_not(np.isnan(X).any(axis=1))\n",
    "X = X[notna_indices]\n",
    "y = y[notna_indices]\n",
    "print(X.shape, y.shape)"
   ]
  },
  {
   "cell_type": "markdown",
   "id": "24f0abc4",
   "metadata": {},
   "source": [
    "#### Train/Test Split"
   ]
  },
  {
   "cell_type": "code",
   "execution_count": 20,
   "id": "c2d4a205",
   "metadata": {},
   "outputs": [],
   "source": [
    "X_train, X_test, y_train, y_test = train_test_split(X, y)"
   ]
  },
  {
   "cell_type": "code",
   "execution_count": 21,
   "id": "6886c60e",
   "metadata": {},
   "outputs": [],
   "source": [
    "params = {\n",
    "    'alpha': np.arange(1e-4, 1e-2, 1e-3),\n",
    "    'learning_rate': ['constant', 'adaptive'],\n",
    "}"
   ]
  },
  {
   "cell_type": "markdown",
   "id": "1ffe69c4",
   "metadata": {},
   "source": [
    "#### Training\n",
    "\n",
    "Why are there NaN values?"
   ]
  },
  {
   "cell_type": "code",
   "execution_count": 22,
   "id": "d68a8675",
   "metadata": {},
   "outputs": [
    {
     "data": {
      "text/plain": [
       "{'learning_rate': 'adaptive', 'alpha': 0.0031}"
      ]
     },
     "execution_count": 22,
     "metadata": {},
     "output_type": "execute_result"
    }
   ],
   "source": [
    "model = MLPClassifier(early_stopping=True, hidden_layer_sizes=(100, 100))\n",
    "hyperparam_optimization = RandomizedSearchCV(model, params, random_state=1)\n",
    "search = hyperparam_optimization.fit(X_train, y_train)\n",
    "search.best_params_"
   ]
  },
  {
   "cell_type": "code",
   "execution_count": 23,
   "id": "ea4602b2",
   "metadata": {},
   "outputs": [
    {
     "data": {
      "text/plain": [
       "0.7555555555555555"
      ]
     },
     "execution_count": 23,
     "metadata": {},
     "output_type": "execute_result"
    }
   ],
   "source": [
    "optimized_model = MLPClassifier(early_stopping=True, **search.best_params_).fit(X_train, y_train)\n",
    "optimized_model.score(X_test, y_test)"
   ]
  },
  {
   "cell_type": "code",
   "execution_count": 27,
   "id": "7a98d393",
   "metadata": {},
   "outputs": [
    {
     "data": {
      "text/plain": [
       "array([1, 1, 0, 1, 1, 1, 1, 1, 1, 1, 0, 1, 1, 0, 1, 0, 1, 0, 0, 1, 1, 0,\n",
       "       1, 0, 0, 1, 1, 0, 1, 1, 0, 1, 0, 1, 1, 1, 1, 0, 1, 1, 1, 0, 1, 0,\n",
       "       1])"
      ]
     },
     "execution_count": 27,
     "metadata": {},
     "output_type": "execute_result"
    }
   ],
   "source": [
    "optimized_model.predict(X_test)"
   ]
  }
 ],
 "metadata": {
  "kernelspec": {
   "display_name": "parkinson",
   "language": "python",
   "name": "python3"
  },
  "language_info": {
   "codemirror_mode": {
    "name": "ipython",
    "version": 3
   },
   "file_extension": ".py",
   "mimetype": "text/x-python",
   "name": "python",
   "nbconvert_exporter": "python",
   "pygments_lexer": "ipython3",
   "version": "3.9.0"
  }
 },
 "nbformat": 4,
 "nbformat_minor": 5
}
