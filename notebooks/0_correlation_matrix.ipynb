{
 "cells": [
  {
   "cell_type": "markdown",
   "id": "fc7b43c2",
   "metadata": {},
   "source": [
    "# Correlation Matrix Baseline"
   ]
  },
  {
   "cell_type": "code",
   "execution_count": 1,
   "id": "a677c71b",
   "metadata": {},
   "outputs": [],
   "source": [
    "%load_ext autoreload"
   ]
  },
  {
   "cell_type": "code",
   "execution_count": 2,
   "id": "f10d2033",
   "metadata": {},
   "outputs": [],
   "source": [
    "import os\n",
    "import parkinson\n",
    "\n",
    "import pandas as pd\n",
    "import networkx as nx\n",
    "import numpy as np\n",
    "\n",
    "from fastdtw import fastdtw\n",
    "from tqdm import tqdm\n",
    "from node2vec import Node2Vec\n",
    "from sklearn.neural_network import MLPClassifier\n",
    "from sklearn.model_selection import train_test_split, RandomizedSearchCV\n",
    "from scipy.spatial.distance import euclidean"
   ]
  },
  {
   "cell_type": "code",
   "execution_count": null,
   "id": "6f41a9b6",
   "metadata": {},
   "outputs": [
    {
     "name": "stderr",
     "output_type": "stream",
     "text": [
      "100%|██████████| 66/66 [00:02<00:00, 23.28it/s]\n"
     ]
    }
   ],
   "source": [
    "control_data = parkinson.utils.data.batch_read('../data/Controls_columns')\n",
    "parkinson_data = parkinson.utils.data.batch_read('../data/PDs_columns')"
   ]
  },
  {
   "cell_type": "markdown",
   "id": "2655c0e7",
   "metadata": {},
   "source": [
    "Os atlas possíveis são AAL3, Shen_268 e atlas. Cada atlas particiona o cérebro de maneiras diferentes. Devemos selecionar as colunas correspondentes para aplicar o processamento"
   ]
  },
  {
   "cell_type": "code",
   "execution_count": null,
   "id": "9c9216d3",
   "metadata": {},
   "outputs": [],
   "source": [
    "control_atlas_data = parkinson.utils.data.select_atlas_columns(control_data, 'atlas')\n",
    "parkinson_atlas_data = parkinson.utils.data.select_atlas_columns(parkinson_data, 'atlas')"
   ]
  },
  {
   "cell_type": "markdown",
   "id": "4f73063b",
   "metadata": {},
   "source": [
    "## Create Graphs\n",
    "\n",
    "Demora muito para calcular a rede funcional com DTW"
   ]
  },
  {
   "cell_type": "markdown",
   "id": "2e7c0f93",
   "metadata": {},
   "source": [
    "### Teste com a Triangular Superior"
   ]
  },
  {
   "cell_type": "code",
   "execution_count": null,
   "id": "ec7e31ff",
   "metadata": {},
   "outputs": [],
   "source": [
    "parkinson_correlation_matrix = [parkinson.utils.graph.compute_correlation_matrix(time_series) for time_series in parkinson_atlas_data]\n",
    "control_correlation_matrix = [parkinson.utils.graph.compute_correlation_matrix(time_series) for time_series in control_atlas_data]\n",
    "\n",
    "X = parkinson.utils.data.concatenate_data(parkinson_correlation_matrix, control_correlation_matrix)\n",
    "y = parkinson.utils.data.concatenate_data([1 for _ in range(len(parkinson_data))], [0 for _ in range(len(control_data))])"
   ]
  },
  {
   "cell_type": "markdown",
   "id": "397459ab",
   "metadata": {},
   "source": [
    "#### Removendo pacientes com erros"
   ]
  },
  {
   "cell_type": "code",
   "execution_count": 8,
   "id": "2c47ba96",
   "metadata": {},
   "outputs": [],
   "source": [
    "X, y = parkinson.utils.data.filter_data(X, y)"
   ]
  },
  {
   "cell_type": "markdown",
   "id": "24f0abc4",
   "metadata": {},
   "source": [
    "#### Train/Test Split"
   ]
  },
  {
   "cell_type": "code",
   "execution_count": 9,
   "id": "c2d4a205",
   "metadata": {},
   "outputs": [],
   "source": [
    "X_train, X_test, y_train, y_test = train_test_split(X, y)"
   ]
  },
  {
   "cell_type": "code",
   "execution_count": 10,
   "id": "6886c60e",
   "metadata": {},
   "outputs": [],
   "source": [
    "params = {\n",
    "    'alpha': np.arange(1e-4, 1e-2, 1e-3),\n",
    "    'learning_rate': ['constant', 'adaptive'],\n",
    "}"
   ]
  },
  {
   "cell_type": "markdown",
   "id": "1ffe69c4",
   "metadata": {},
   "source": [
    "#### Training"
   ]
  },
  {
   "cell_type": "code",
   "execution_count": 11,
   "id": "d68a8675",
   "metadata": {},
   "outputs": [
    {
     "data": {
      "text/plain": [
       "{'learning_rate': 'adaptive', 'alpha': 0.0001}"
      ]
     },
     "execution_count": 11,
     "metadata": {},
     "output_type": "execute_result"
    }
   ],
   "source": [
    "model = MLPClassifier(early_stopping=True, hidden_layer_sizes=(100, 100))\n",
    "hyperparam_optimization = RandomizedSearchCV(model, params, random_state=1)\n",
    "search = hyperparam_optimization.fit(X_train, y_train)\n",
    "search.best_params_"
   ]
  },
  {
   "cell_type": "code",
   "execution_count": 12,
   "id": "ea4602b2",
   "metadata": {},
   "outputs": [
    {
     "data": {
      "text/plain": [
       "0.6666666666666666"
      ]
     },
     "execution_count": 12,
     "metadata": {},
     "output_type": "execute_result"
    }
   ],
   "source": [
    "optimized_model = MLPClassifier(early_stopping=True, **search.best_params_).fit(X_train, y_train)\n",
    "optimized_model.score(X_test, y_test)"
   ]
  },
  {
   "cell_type": "code",
   "execution_count": 13,
   "id": "7a98d393",
   "metadata": {},
   "outputs": [
    {
     "data": {
      "text/plain": [
       "array([1, 1, 1, 1, 1, 1, 1, 1, 1, 1, 1, 1, 1, 1, 1, 1, 1, 1, 1, 1, 1, 0,\n",
       "       1, 1, 1, 1, 0, 1, 1, 1, 1, 0, 0, 0, 1, 1, 0, 0, 1, 1, 1, 1, 0, 1,\n",
       "       1])"
      ]
     },
     "execution_count": 13,
     "metadata": {},
     "output_type": "execute_result"
    }
   ],
   "source": [
    "optimized_model.predict(X_test)"
   ]
  }
 ],
 "metadata": {
  "kernelspec": {
   "display_name": "Python 3",
   "language": "python",
   "name": "python3"
  },
  "language_info": {
   "codemirror_mode": {
    "name": "ipython",
    "version": 3
   },
   "file_extension": ".py",
   "mimetype": "text/x-python",
   "name": "python",
   "nbconvert_exporter": "python",
   "pygments_lexer": "ipython3",
   "version": "3.10.12"
  }
 },
 "nbformat": 4,
 "nbformat_minor": 5
}
