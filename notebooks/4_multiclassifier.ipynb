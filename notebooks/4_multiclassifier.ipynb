{
 "cells": [
  {
   "cell_type": "markdown",
   "id": "bf616f97",
   "metadata": {},
   "source": [
    "# Multiclassifier"
   ]
  },
  {
   "cell_type": "markdown",
   "id": "b1c44d2f",
   "metadata": {},
   "source": [
    "Agora vamos ter 3 classes\n",
    "\n",
    "> Pacientes Controle, Parkinson em estágio avançado, Parkinson em estágio inicial"
   ]
  },
  {
   "cell_type": "code",
   "execution_count": 1,
   "id": "271ffdd7",
   "metadata": {},
   "outputs": [],
   "source": [
    "%load_ext autoreload"
   ]
  },
  {
   "cell_type": "code",
   "execution_count": 14,
   "id": "3b47c77b",
   "metadata": {},
   "outputs": [],
   "source": [
    "import parkinson\n",
    "import torch\n",
    "\n",
    "import numpy as np\n",
    "import seaborn as sns\n",
    "import matplotlib.pyplot as plt\n",
    "import pandas as pd\n",
    "\n",
    "from torch import nn\n",
    "from tqdm import tqdm\n",
    "from sklearn.preprocessing import StandardScaler\n",
    "from sklearn.model_selection import StratifiedKFold, train_test_split\n",
    "from sklearn.metrics import confusion_matrix, accuracy_score, f1_score, precision_score, recall_score, classification_report, ConfusionMatrixDisplay\n",
    "from sklearn.utils.class_weight import compute_class_weight"
   ]
  },
  {
   "cell_type": "markdown",
   "id": "86e82a96",
   "metadata": {},
   "source": [
    "--------------\n"
   ]
  },
  {
   "cell_type": "markdown",
   "id": "2044efb0",
   "metadata": {},
   "source": [
    "### Leitura dos Dados"
   ]
  },
  {
   "cell_type": "code",
   "execution_count": 3,
   "id": "8d58928f",
   "metadata": {},
   "outputs": [
    {
     "name": "stderr",
     "output_type": "stream",
     "text": [
      "100%|██████████| 153/153 [00:07<00:00, 19.65it/s]\n",
      "100%|██████████| 66/66 [00:03<00:00, 18.75it/s]\n",
      "100%|██████████| 188/188 [00:09<00:00, 19.03it/s]\n"
     ]
    }
   ],
   "source": [
    "parkinson_data = parkinson.utils.data.batch_read('../data/PDs_columns')\n",
    "control_data = parkinson.utils.data.batch_read('../data/Controls_columns')\n",
    "prodomal_data = parkinson.utils.data.batch_read('../data/Prodomals_columns')"
   ]
  },
  {
   "cell_type": "code",
   "execution_count": 4,
   "id": "c3f81bc6",
   "metadata": {},
   "outputs": [],
   "source": [
    "control_atlas_data = parkinson.utils.data.select_atlas_columns(control_data, 'AAL3')\n",
    "parkinson_atlas_data = parkinson.utils.data.select_atlas_columns(parkinson_data, 'AAL3')\n",
    "prodomal_atlas_data = parkinson.utils.data.select_atlas_columns(prodomal_data, 'AAL3')\n",
    "\n",
    "parkinson_correlation_matrix = parkinson.utils.graph.compute_correlation_matrix(parkinson_atlas_data, \"pearson\")\n",
    "control_correlation_matrix = parkinson.utils.graph.compute_correlation_matrix(control_atlas_data, \"pearson\")\n",
    "prodomal_correlation_matrix = parkinson.utils.graph.compute_correlation_matrix(prodomal_atlas_data, \"pearson\")\n",
    "\n",
    "X = np.concatenate([parkinson_correlation_matrix, prodomal_correlation_matrix, control_correlation_matrix], axis=0)\n",
    "y = np.concatenate([\n",
    "    [2 for _ in range(len(parkinson_data))],\n",
    "    [1 for _ in range(len(prodomal_data))],\n",
    "    [0 for _ in range(len(control_data))]\n",
    "], axis=0)\n",
    "\n",
    "X, y = parkinson.utils.data.filter_data(X, y)"
   ]
  },
  {
   "cell_type": "markdown",
   "id": "e3918435",
   "metadata": {},
   "source": [
    "-----------\n"
   ]
  },
  {
   "cell_type": "markdown",
   "id": "87e67f31",
   "metadata": {},
   "source": [
    "### Hiperparâmetros"
   ]
  },
  {
   "cell_type": "code",
   "execution_count": 5,
   "id": "e6f94a1d",
   "metadata": {},
   "outputs": [],
   "source": [
    "RANDOM_STATE = 50\n",
    "N_SPLITS = 5  # Number of folds for cross-validation\n",
    "TEST_SIZE = 0.2 # Hold-out test set size\n",
    "\n",
    "# Model Hyperparameters\n",
    "INPUT_DIM = X.shape[1] # Will be set after data loading\n",
    "HIDDEN_DIM_1 = 32\n",
    "HIDDEN_DIM_2 = 16\n",
    "OUTPUT_DIM = 3\n",
    "DROPOUT = 0.5\n",
    "\n",
    "# Training Hyperparameters\n",
    "NUM_EPOCHS = 150\n",
    "BATCH_SIZE = 32\n",
    "LEARNING_RATE = 0.001\n",
    "PATIENCE = 2"
   ]
  },
  {
   "cell_type": "markdown",
   "id": "8def943e",
   "metadata": {},
   "source": [
    "----------"
   ]
  },
  {
   "cell_type": "markdown",
   "id": "c1d302ab",
   "metadata": {},
   "source": [
    "### Split dos dados"
   ]
  },
  {
   "cell_type": "code",
   "execution_count": 6,
   "id": "ea284eea",
   "metadata": {},
   "outputs": [],
   "source": [
    "X_trainval, X_test, y_trainval, y_test = train_test_split(X, y, test_size=0.2, random_state=RANDOM_STATE, stratify=y, shuffle=True)\n",
    "X_train, X_val, y_train, y_val = train_test_split(X_trainval, y_trainval, test_size=0.20, random_state=RANDOM_STATE, stratify=y_trainval, shuffle=True)"
   ]
  },
  {
   "cell_type": "code",
   "execution_count": 7,
   "id": "7f5b6d34",
   "metadata": {},
   "outputs": [],
   "source": [
    "scaler = StandardScaler().fit(X_trainval)\n",
    "X_trainval = scaler.transform(X_trainval)\n",
    "X_test     = scaler.transform(X_test)"
   ]
  },
  {
   "cell_type": "markdown",
   "id": "1a52863d",
   "metadata": {},
   "source": [
    "### Rede Neural Multiclasse"
   ]
  },
  {
   "cell_type": "markdown",
   "id": "d244a60e",
   "metadata": {},
   "source": [
    "Network Multiclasse (`output_dim=3`)"
   ]
  },
  {
   "cell_type": "code",
   "execution_count": 8,
   "id": "49c44902",
   "metadata": {},
   "outputs": [],
   "source": [
    "device = torch.device(\"cuda\" if torch.cuda.is_available() else \"cpu\")\n",
    "model = parkinson.NetworkModels.SimpleMLP(input_dim=X_train.shape[1], hidden_dim=16, output_dim=3)\n",
    "class_weights = parkinson.utils.data.get_torch_class_weights(y_train)"
   ]
  },
  {
   "cell_type": "code",
   "execution_count": 9,
   "id": "1cb5de6a",
   "metadata": {},
   "outputs": [],
   "source": [
    "test_loader = parkinson.utils.data.get_torch_dataloader(X_test, y_test, batch_size=BATCH_SIZE, shuffle=False)\n",
    "train_loader = parkinson.utils.data.get_torch_dataloader(X_train, y_train, batch_size=BATCH_SIZE, shuffle=False)\n",
    "val_loader = parkinson.utils.data.get_torch_dataloader(X_val, y_val, batch_size=BATCH_SIZE, shuffle=False)"
   ]
  },
  {
   "cell_type": "code",
   "execution_count": 10,
   "id": "d40a8fdd",
   "metadata": {},
   "outputs": [
    {
     "name": "stderr",
     "output_type": "stream",
     "text": [
      "train-loss: 0.7180  train-acc: 0.8154 | val-loss: 0.9363  val-acc: 0.5385:  13%|█▎        | 19/150 [00:06<00:47,  2.78it/s]"
     ]
    },
    {
     "name": "stdout",
     "output_type": "stream",
     "text": [
      "Early stopping at epoch 20\n"
     ]
    },
    {
     "name": "stderr",
     "output_type": "stream",
     "text": [
      "\n"
     ]
    }
   ],
   "source": [
    "criterion = nn.CrossEntropyLoss(weight=class_weights.to(device))\n",
    "out = parkinson.utils.train.train(model, train_loader, val_loader, class_weights, device, num_epochs=NUM_EPOCHS, patience=5, lr=0.0001)"
   ]
  },
  {
   "cell_type": "code",
   "execution_count": 11,
   "id": "78940bd0",
   "metadata": {},
   "outputs": [],
   "source": [
    "model.eval()\n",
    "y_pred_probabilities = model(torch.Tensor(X_test)).detach().numpy()\n",
    "y_pred = np.argmax(y_pred_probabilities, axis=1)"
   ]
  },
  {
   "cell_type": "code",
   "execution_count": 12,
   "id": "21a539ac",
   "metadata": {},
   "outputs": [
    {
     "name": "stdout",
     "output_type": "stream",
     "text": [
      "              precision    recall  f1-score   support\n",
      "\n",
      "     Control       0.25      0.31      0.28        13\n",
      "   Prodromal       0.48      0.58      0.52        38\n",
      "   Parkinson       0.60      0.39      0.47        31\n",
      "\n",
      "    accuracy                           0.46        82\n",
      "   macro avg       0.44      0.42      0.42        82\n",
      "weighted avg       0.49      0.46      0.46        82\n",
      "\n"
     ]
    }
   ],
   "source": [
    "print(classification_report(y_pred=y_pred, y_true=y_test, target_names=['Control', 'Prodromal', 'Parkinson']))"
   ]
  },
  {
   "cell_type": "markdown",
   "id": "65050b8b",
   "metadata": {},
   "source": [
    "Podemos priorizar o Recall por classe para \"Parkinson\" e \"Prodromal\" para garantir que você não vamos perder nenhum caso real. O F1-Score pode ser usado para entender o balanço geral, mas seu objetivo principal é a identificação completa dos casos. A matriz de confusão é essencial para ver detalhadamente onde os erros estão ocorrendo."
   ]
  },
  {
   "cell_type": "code",
   "execution_count": 15,
   "id": "7aaac2f2",
   "metadata": {},
   "outputs": [
    {
     "data": {
      "text/plain": [
       "<sklearn.metrics._plot.confusion_matrix.ConfusionMatrixDisplay at 0x74470e5a1730>"
      ]
     },
     "execution_count": 15,
     "metadata": {},
     "output_type": "execute_result"
    },
    {
     "data": {
      "image/png": "[encoded data removed]",
      "text/plain": [
       "<Figure size 640x480 with 2 Axes>"
      ]
     },
     "metadata": {},
     "output_type": "display_data"
    }
   ],
   "source": [
    "ConfusionMatrixDisplay.from_predictions(y_pred, y_test)"
   ]
  },
  {
   "cell_type": "code",
   "execution_count": null,
   "id": "babd4048",
   "metadata": {},
   "outputs": [],
   "source": []
  }
 ],
 "metadata": {
  "kernelspec": {
   "display_name": "parkinson",
   "language": "python",
   "name": "python3"
  },
  "language_info": {
   "codemirror_mode": {
    "name": "ipython",
    "version": 3
   },
   "file_extension": ".py",
   "mimetype": "text/x-python",
   "name": "python",
   "nbconvert_exporter": "python",
   "pygments_lexer": "ipython3",
   "version": "3.9.0"
  }
 },
 "nbformat": 4,
 "nbformat_minor": 5
}
