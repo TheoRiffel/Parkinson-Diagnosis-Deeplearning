{
 "cells": [
  {
   "cell_type": "markdown",
   "id": "9fad1a33",
   "metadata": {},
   "source": [
    "# Models using only Time Series"
   ]
  },
  {
   "cell_type": "code",
   "execution_count": 1,
   "id": "fb728e44",
   "metadata": {},
   "outputs": [],
   "source": [
    "%load_ext autoreload"
   ]
  },
  {
   "cell_type": "code",
   "execution_count": 2,
   "id": "f85bf098",
   "metadata": {},
   "outputs": [],
   "source": [
    "import sys\n",
    "sys.path.append('/home/labic/merlin_codes/dl/Parkinson-Diagnosis-Deeplearning')\n",
    "\n",
    "import os\n",
    "import time\n",
    "\n",
    "import parkinson\n",
    "\n",
    "import torch\n",
    "from torch import nn\n",
    "\n",
    "import pandas as pd\n",
    "import networkx as nx\n",
    "import numpy as np\n",
    "\n",
    "from tqdm import tqdm\n",
    "from sklearn.model_selection import train_test_split"
   ]
  },
  {
   "cell_type": "code",
   "execution_count": 3,
   "id": "a665f1a8",
   "metadata": {},
   "outputs": [],
   "source": [
    "RDN = 50\n",
    "N_CLASSES = 2\n",
    "BATCH_SIZE = 128\n",
    "N_EPOCHS = 200\n",
    "PATIENCE = 20\n",
    "LR = 0.00005\n",
    "DECAY = 0.1"
   ]
  },
  {
   "cell_type": "markdown",
   "id": "7ba6c920",
   "metadata": {},
   "source": [
    "## Data Processing\n",
    "### Reading"
   ]
  },
  {
   "cell_type": "code",
   "execution_count": 4,
   "id": "e0117c86",
   "metadata": {},
   "outputs": [
    {
     "name": "stderr",
     "output_type": "stream",
     "text": [
      "100%|██████████| 153/153 [00:03<00:00, 41.96it/s]\n",
      "100%|██████████| 66/66 [00:01<00:00, 42.27it/s]\n"
     ]
    }
   ],
   "source": [
    "parkinson_data = parkinson.utils.data.batch_read('../data/PDs_columns')\n",
    "control_data = parkinson.utils.data.batch_read('../data/Controls_columns')\n",
    "\n",
    "control_atlas_data = parkinson.utils.data.select_atlas_columns(control_data, 'AAL3')\n",
    "parkinson_atlas_data = parkinson.utils.data.select_atlas_columns(parkinson_data, 'AAL3')"
   ]
  },
  {
   "cell_type": "code",
   "execution_count": 5,
   "id": "a0d22ae8",
   "metadata": {},
   "outputs": [],
   "source": [
    "control_ts_data = []\n",
    "\n",
    "for idx_person in range(len(control_atlas_data)):\n",
    "    person_ts = []\n",
    "\n",
    "    for idx_region in range(len(control_atlas_data[idx_person].columns)):\n",
    "        person_ts.append(list(control_atlas_data[idx_person].iloc[:,idx_region]))\n",
    "\n",
    "    control_ts_data.append(person_ts)"
   ]
  },
  {
   "cell_type": "code",
   "execution_count": 6,
   "id": "c6ff2931",
   "metadata": {},
   "outputs": [],
   "source": [
    "parkinson_ts_data = []\n",
    "\n",
    "for idx_person in range(len(parkinson_atlas_data)):\n",
    "    person_ts = []\n",
    "\n",
    "    for idx_region in range(len(parkinson_atlas_data[idx_person].columns)):\n",
    "        person_ts.append(list(parkinson_atlas_data[idx_person].iloc[:,idx_region]))\n",
    "\n",
    "    parkinson_ts_data.append(person_ts)"
   ]
  },
  {
   "cell_type": "code",
   "execution_count": 7,
   "id": "28c06147",
   "metadata": {},
   "outputs": [],
   "source": [
    "from imblearn.over_sampling import RandomOverSampler\n",
    "\n",
    "X = parkinson.utils.data.concatenate_data(parkinson_ts_data, control_ts_data)\n",
    "y = parkinson.utils.data.concatenate_data([1 for _ in range(len(parkinson_data))], [0 for _ in range(len(control_data))])\n",
    "\n",
    "X, y = parkinson.utils.data.filter_data(X, y)\n",
    "\n",
    "X_2d = X.reshape(X.shape[0], -1)\n",
    "\n",
    "ros = RandomOverSampler(random_state=RDN)\n",
    "X_res, y_res = ros.fit_resample(X_2d, y)\n",
    "\n",
    "X_res = X_res.reshape(-1, X.shape[1], X.shape[2])\n",
    "\n",
    "X = X_res\n",
    "y = y_res\n",
    "\n",
    "X = X.reshape(len(X), 166 * 240)"
   ]
  },
  {
   "cell_type": "markdown",
   "id": "dd44d5eb",
   "metadata": {},
   "source": [
    "### Split  \n",
    "- 60% treino\n",
    "- 20% validação\n",
    "- 20% teste"
   ]
  },
  {
   "cell_type": "code",
   "execution_count": 8,
   "id": "782b2977",
   "metadata": {},
   "outputs": [],
   "source": [
    "X_trainval, X_test, y_trainval, y_test = train_test_split(X, y, test_size=0.2, random_state=RDN, stratify=y, shuffle=True)\n",
    "X_train, X_val, y_train, y_val = train_test_split(X_trainval, y_trainval, test_size=0.25, random_state=RDN, stratify=y_trainval, shuffle=True)"
   ]
  },
  {
   "cell_type": "markdown",
   "id": "66ad4290",
   "metadata": {},
   "source": [
    "### Dataloaders"
   ]
  },
  {
   "cell_type": "code",
   "execution_count": 9,
   "id": "c0c672ba",
   "metadata": {},
   "outputs": [],
   "source": [
    "train_loader = parkinson.utils.data.get_torch_dataloader(X_train, y_train, batch_size=BATCH_SIZE)\n",
    "val_loader = parkinson.utils.data.get_torch_dataloader(X_val, y_val, batch_size=BATCH_SIZE)\n",
    "test_loader = parkinson.utils.data.get_torch_dataloader(X_test, y_test, batch_size=BATCH_SIZE)"
   ]
  },
  {
   "cell_type": "markdown",
   "id": "91ef1502",
   "metadata": {},
   "source": [
    "## Training"
   ]
  },
  {
   "cell_type": "code",
   "execution_count": 10,
   "id": "b0dcef12",
   "metadata": {},
   "outputs": [],
   "source": [
    "device = torch.device(\"cuda\" if torch.cuda.is_available() else \"cpu\")\n",
    "model = parkinson.NetworkModels.tsMLP(input_dim=X_train.shape[1], hidden_dim=16, output_dim=2)\n",
    "# model = parkinson.NetworkModels.tsFCN(X_train.shape[1], N_CLASSES)\n",
    "class_weights = parkinson.utils.data.get_torch_class_weights(y_train)"
   ]
  },
  {
   "cell_type": "code",
   "execution_count": 11,
   "id": "c6e291dc",
   "metadata": {},
   "outputs": [],
   "source": [
    "model.train()\n",
    "criterion = nn.CrossEntropyLoss(weight=class_weights.to(device))"
   ]
  },
  {
   "cell_type": "code",
   "execution_count": 12,
   "id": "b784e9ff",
   "metadata": {},
   "outputs": [
    {
     "name": "stderr",
     "output_type": "stream",
     "text": [
      "train-loss: 0.1612  train-acc: 0.9399 | val-loss: 0.5380  val-acc: 0.6721: 100%|██████████| 200/200 [01:19<00:00,  2.53it/s]"
     ]
    },
    {
     "name": "stdout",
     "output_type": "stream",
     "text": [
      "CPU times: user 3.77 s, sys: 57.3 s, total: 1min 1s\n",
      "Wall time: 1min 19s\n"
     ]
    },
    {
     "name": "stderr",
     "output_type": "stream",
     "text": [
      "\n"
     ]
    }
   ],
   "source": [
    "%%time\n",
    "out = parkinson.utils.train.train(model, train_loader, val_loader, class_weights, device, N_EPOCHS, PATIENCE, LR, DECAY)"
   ]
  },
  {
   "cell_type": "code",
   "execution_count": 13,
   "id": "c5c03186",
   "metadata": {},
   "outputs": [],
   "source": [
    "val_loss = out['val_loss']"
   ]
  },
  {
   "cell_type": "code",
   "execution_count": 14,
   "id": "4a3bcced",
   "metadata": {},
   "outputs": [
    {
     "data": {
      "text/plain": [
       "[<matplotlib.lines.Line2D at 0x7234e1292930>]"
      ]
     },
     "execution_count": 14,
     "metadata": {},
     "output_type": "execute_result"
    },
    {
     "data": {
      "image/png": "[encoded data removed]",
      "text/plain": [
       "<Figure size 640x480 with 1 Axes>"
      ]
     },
     "metadata": {},
     "output_type": "display_data"
    }
   ],
   "source": [
    "import matplotlib.pyplot as plt\n",
    "\n",
    "plt.plot(np.arange(len(val_loss)), val_loss)"
   ]
  },
  {
   "cell_type": "code",
   "execution_count": 15,
   "id": "5ac743d4",
   "metadata": {},
   "outputs": [
    {
     "name": "stdout",
     "output_type": "stream",
     "text": [
      "Preds: [1, 0, 0, 0, 0, 0, 1, 1, 0, 1, 0, 1, 1, 0, 1, 1, 0, 1, 1, 0, 1, 1, 0, 1, 1, 0, 1, 1, 1, 0, 1, 1, 1, 1, 0, 0, 0, 0, 1, 0, 1, 0, 1, 0, 0, 1, 0, 1, 1, 1, 1, 1, 1, 1, 1, 1, 0, 1, 1, 1, 1, 1]\n",
      "Metrics: {'acc': 0.8387096774193549, 'f1': 0.8359788359788359, 'recall': 0.8387096774193549, 'precision': 0.862876254180602}\n",
      "Done.\n"
     ]
    }
   ],
   "source": [
    "metrics = parkinson.utils.train.evaluate(model, test_loader, device)\n",
    "print('Metrics:', metrics)\n",
    "print('Done.')"
   ]
  }
 ],
 "metadata": {
  "kernelspec": {
   "display_name": "eniac",
   "language": "python",
   "name": "python3"
  },
  "language_info": {
   "codemirror_mode": {
    "name": "ipython",
    "version": 3
   },
   "file_extension": ".py",
   "mimetype": "text/x-python",
   "name": "python",
   "nbconvert_exporter": "python",
   "pygments_lexer": "ipython3",
   "version": "3.12.8"
  }
 },
 "nbformat": 4,
 "nbformat_minor": 5
}
