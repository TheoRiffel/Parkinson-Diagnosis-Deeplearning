{
 "cells": [
  {
   "cell_type": "markdown",
   "id": "5c57a90b",
   "metadata": {},
   "source": [
    "# Matriz de Correlação e Optuna\n",
    "\n",
    "Explorando a possibilidade de otimizar a MLP utilizada sobre a matriz de correlação com Optuna, um otimizador de hiperparâmetros Bayesiano. O teste foi realizado utilizando CV, teste e validação. \n",
    "\n",
    "Devido ao tamanho do dataset, tivemos dificuldade sobre a capacidade de validação e teste com amostras tão pequenas (1/10 da amostra de treino)."
   ]
  },
  {
   "cell_type": "code",
   "execution_count": 12,
   "id": "bd4d47b8",
   "metadata": {},
   "outputs": [
    {
     "name": "stdout",
     "output_type": "stream",
     "text": [
      "The autoreload extension is already loaded. To reload it, use:\n",
      "  %reload_ext autoreload\n"
     ]
    }
   ],
   "source": [
    "%load_ext autoreload\n",
    "%autoreload 2"
   ]
  },
  {
   "cell_type": "code",
   "execution_count": 13,
   "id": "affa8df1",
   "metadata": {},
   "outputs": [],
   "source": [
    "import sys\n",
    "import os\n",
    "import time\n",
    "import torch\n",
    "import pickle\n",
    "import parkinson\n",
    "import optuna\n",
    "\n",
    "import numpy as np\n",
    "import pandas as pd\n",
    "import networkx as nx\n",
    "import seaborn as sns\n",
    "import matplotlib.pyplot as plt\n",
    "\n",
    "from torch import nn\n",
    "from joblib import Parallel, delayed\n",
    "from tqdm import tqdm\n",
    "from sklearn.model_selection import train_test_split, StratifiedKFold\n",
    "from imblearn.over_sampling import RandomOverSampler"
   ]
  },
  {
   "cell_type": "code",
   "execution_count": 14,
   "id": "d28f7899",
   "metadata": {},
   "outputs": [],
   "source": [
    "RDN = 50\n",
    "N_CLASSES = 3"
   ]
  },
  {
   "cell_type": "markdown",
   "id": "7ccc346b",
   "metadata": {},
   "source": [
    "# Processamento dos dados"
   ]
  },
  {
   "cell_type": "code",
   "execution_count": 15,
   "id": "3806cc95",
   "metadata": {
    "scrolled": true
   },
   "outputs": [
    {
     "name": "stderr",
     "output_type": "stream",
     "text": [
      "100%|███████████████████████████████████████████████████████████████████| 153/153 [00:03<00:00, 48.63it/s]\n",
      "100%|█████████████████████████████████████████████████████████████████████| 66/66 [00:01<00:00, 49.26it/s]\n",
      "100%|███████████████████████████████████████████████████████████████████| 188/188 [00:03<00:00, 49.08it/s]\n"
     ]
    }
   ],
   "source": [
    "# lendo os arquivos de dados\n",
    "parkinson_data = parkinson.utils.data.batch_read('../data/PDs_columns')\n",
    "control_data = parkinson.utils.data.batch_read('../data/Controls_columns') \n",
    "prodomal_data =  parkinson.utils.data.batch_read('../data/Prodomals_columns') \n",
    "\n",
    "# selecionando as colunas de atlas AAL3, o atlas de conectividade cerebral\n",
    "control_atlas_data = parkinson.utils.data.select_atlas_columns(control_data, 'AAL3')\n",
    "parkinson_atlas_data = parkinson.utils.data.select_atlas_columns(parkinson_data, 'AAL3')\n",
    "prodomal_atlas_data = parkinson.utils.data.select_atlas_columns(prodomal_data, 'AAL3')\n",
    "\n",
    "# Geração da matriz de correlação utilizando o método especificado para os grupos\n",
    "parkinson_correlation_matrix = parkinson.utils.correlation.pearson_correlation(parkinson_atlas_data)\n",
    "control_correlation_matrix = parkinson.utils.correlation.pearson_correlation(control_atlas_data)\n",
    "prodomal_correlation_matrix = parkinson.utils.correlation.pearson_correlation(prodomal_atlas_data)"
   ]
  },
  {
   "cell_type": "markdown",
   "id": "9eb89322-55aa-4c1f-80ba-9be000a2fe73",
   "metadata": {},
   "source": [
    "- 0: control\n",
    "- 1: prodomal\n",
    "- 2: PD"
   ]
  },
  {
   "cell_type": "code",
   "execution_count": 16,
   "id": "c271a73e-37f7-4bb9-a67e-d8ddc1095311",
   "metadata": {},
   "outputs": [],
   "source": [
    "X = parkinson.utils.data.concatenate_data(parkinson_correlation_matrix, control_correlation_matrix, prodomal_correlation_matrix)\n",
    "y = parkinson.utils.data.concatenate_data([0 for _ in range(len(control_data))], [1 for _ in range(len(prodomal_data))], [2 for _ in range(len(parkinson_data))])\n",
    "X, y = parkinson.utils.data.filter_data(X, y)"
   ]
  },
  {
   "cell_type": "code",
   "execution_count": 17,
   "id": "2b43c666-fd2b-41f0-ab04-988d1d602e69",
   "metadata": {},
   "outputs": [],
   "source": [
    "# Dividindo os dados em 60 para treino, 20 para validação e 20 para teste\n",
    "X_train, X_test, y_train, y_test = train_test_split(X, y, test_size=0.1, random_state=RDN, stratify=y, shuffle=True)\n",
    "\n",
    "# Instanciando OverSampler\n",
    "ros = RandomOverSampler(random_state=RDN)"
   ]
  },
  {
   "cell_type": "markdown",
   "id": "0bf5fe79",
   "metadata": {},
   "source": [
    "## Otimização com Optuna"
   ]
  },
  {
   "cell_type": "code",
   "execution_count": 18,
   "id": "ce6a4da4-0ba1-4750-8c82-53e49775e02e",
   "metadata": {},
   "outputs": [],
   "source": [
    "cross_validation = StratifiedKFold(n_splits=10, shuffle=False)"
   ]
  },
  {
   "cell_type": "code",
   "execution_count": 21,
   "id": "0227efd6-6397-4ab1-ae4a-589a69971930",
   "metadata": {},
   "outputs": [
    {
     "name": "stdout",
     "output_type": "stream",
     "text": [
      "import torch.nn as nn\n",
      "\n",
      "class customMLP(nn.Module):\n",
      "    def __init__(self, input_dim, hidden_dim, output_dim, dropout_rate: float = 0):\n",
      "        super(customMLP, self).__init__()\n",
      "        self.net = nn.Sequential(\n",
      "            nn.Linear(input_dim, hidden_dim),\n",
      "            nn.ReLU(),\n",
      "            nn.Dropout(dropout_rate),\n",
      "            nn.Linear(hidden_dim, output_dim)\n",
      "        )\n",
      "\n",
      "    def forward(self, x):\n",
      "        return self.net(x)"
     ]
    }
   ],
   "source": [
    "!cat ../parkinson/NetworkModels/customMLP.py"
   ]
  },
  {
   "cell_type": "code",
   "execution_count": 19,
   "id": "38f94668-5c33-4d47-acc3-e2a0b5a79592",
   "metadata": {},
   "outputs": [],
   "source": [
    "def objective(trial):\n",
    "    f1_list = []\n",
    "    accuracy_list = []\n",
    "    recall_list = []\n",
    "    \n",
    "    # batch_size = trial.suggest_categorical('batch_size', [16, 32, 64, 128, 256])\n",
    "    batch_size = 128\n",
    "    learning_rate = trial.suggest_float('lr', 1e-5, 1e-1, log=True)\n",
    "    hidden_dim = trial.suggest_categorical('hidden_dim', [16, 32, 64, 128, 256, 512])\n",
    "    weight_decay = trial.suggest_float('weight_decay', 1e-6, 1e-2, log=True)\n",
    "    dropout_rate = trial.suggest_float('dropout_rate', 0.0, 0.5) # From no dropout to 50%\n",
    "    beta1 = trial.suggest_float('beta1', 0.9, 1)\n",
    "    beta2 = trial.suggest_float('beta2', 0.9, 1)\n",
    "    n_epochs = trial.suggest_int('epochs', 0, 80)\n",
    "    \n",
    "    for train_index, test_index in cross_validation.split(X_train, y_train):\n",
    "        X_cv_train = X_train[train_index]\n",
    "        y_cv_train = y_train[train_index]\n",
    "        X_cv_train, y_cv_train = ros.fit_resample(X_cv_train, y_cv_train)\n",
    "\n",
    "        X_cv_test = X_train[test_index]\n",
    "        y_cv_test = y_train[test_index]\n",
    "    \n",
    "        cv_train_loader = parkinson.utils.data.get_torch_dataloader(\n",
    "            X_cv_train, y_cv_train, batch_size=batch_size, shuffle=True # Usually shuffle train data\n",
    "        )\n",
    "\n",
    "        cv_test_loader = parkinson.utils.data.get_torch_dataloader(\n",
    "            X_cv_test, y_cv_test, batch_size=batch_size, shuffle=False # Don't shuffle test data\n",
    "        )\n",
    "        \n",
    "        device = torch.device(\"cuda\" if torch.cuda.is_available() else \"cpu\")\n",
    "        model = parkinson.NetworkModels.customMLP(\n",
    "            input_dim=X_train.shape[1],\n",
    "            hidden_dim=hidden_dim,\n",
    "            output_dim=3,\n",
    "            dropout_rate=dropout_rate\n",
    "        )\n",
    "        class_weights = parkinson.utils.data.get_torch_class_weights(y_cv_train)\n",
    "        \n",
    "        model.train()\n",
    "        criterion = nn.CrossEntropyLoss(weight=class_weights.to(device))\n",
    "    \n",
    "        optimizer = torch.optim.Adam(\n",
    "            model.parameters(),\n",
    "            lr=learning_rate,\n",
    "            betas=(beta1,beta2),\n",
    "            eps=1e-8,\n",
    "            weight_decay=weight_decay\n",
    "        )\n",
    "    \n",
    "        train_results = parkinson.utils.train.train(\n",
    "            model=model, \n",
    "            train_loader=cv_train_loader, \n",
    "            val_loader=None, \n",
    "            class_weights=class_weights,\n",
    "            device=device,\n",
    "            optimizer=optimizer,\n",
    "            num_epochs=n_epochs, \n",
    "            patience=0,\n",
    "            lr=learning_rate,\n",
    "            path=None,\n",
    "            early_stopping=False\n",
    "        )\n",
    "    \n",
    "        metrics = parkinson.utils.train.evaluate(model, cv_test_loader, device, path=None)\n",
    "    \n",
    "        f1_list.append(metrics['f1'])\n",
    "        accuracy_list.append(metrics['acc'])\n",
    "        recall_list.append(metrics['recall'])\n",
    "        \n",
    "    return np.mean(f1_list) - np.std(f1_list)"
   ]
  },
  {
   "cell_type": "code",
   "execution_count": 20,
   "id": "39fc1508-efa1-4ebb-bb1a-b2b140d1ce14",
   "metadata": {
    "scrolled": true
   },
   "outputs": [
    {
     "name": "stderr",
     "output_type": "stream",
     "text": [
      "[I 2025-07-09 15:33:17,086] A new study created in memory with name: no-name-920d5e83-0874-4c3d-8b85-80174f1a90c4\n",
      "[W 2025-07-09 15:33:17,112] Trial 0 failed with parameters: {'lr': 0.026437808116773983, 'hidden_dim': 32, 'weight_decay': 1.8881472441925308e-06, 'dropout_rate': 0.26843381250104575, 'beta1': 0.974990773590964, 'beta2': 0.9661086485591707, 'epochs': 44} because of the following error: TypeError(\"customMLP.__init__() got an unexpected keyword argument 'dropout_rate'\").\n",
      "Traceback (most recent call last):\n",
      "  File \"/home/labic/merlin_codes/dl/Parkinson-Diagnosis-Deeplearning/.venv/lib/python3.12/site-packages/optuna/study/_optimize.py\", line 201, in _run_trial\n",
      "    value_or_values = func(trial)\n",
      "                      ^^^^^^^^^^^\n",
      "  File \"/tmp/ipykernel_3958458/371505711.py\", line 33, in objective\n",
      "    model = parkinson.NetworkModels.customMLP(\n",
      "            ^^^^^^^^^^^^^^^^^^^^^^^^^^^^^^^^^^\n",
      "TypeError: customMLP.__init__() got an unexpected keyword argument 'dropout_rate'\n",
      "[W 2025-07-09 15:33:17,113] Trial 0 failed with value None.\n"
     ]
    },
    {
     "ename": "TypeError",
     "evalue": "customMLP.__init__() got an unexpected keyword argument 'dropout_rate'",
     "output_type": "error",
     "traceback": [
      "\u001b[31m---------------------------------------------------------------------------\u001b[39m",
      "\u001b[31mTypeError\u001b[39m                                 Traceback (most recent call last)",
      "\u001b[36mCell\u001b[39m\u001b[36m \u001b[39m\u001b[32mIn[20]\u001b[39m\u001b[32m, line 2\u001b[39m\n\u001b[32m      1\u001b[39m study = optuna.create_study(direction=\u001b[33m'\u001b[39m\u001b[33mmaximize\u001b[39m\u001b[33m'\u001b[39m)\n\u001b[32m----> \u001b[39m\u001b[32m2\u001b[39m \u001b[43mstudy\u001b[49m\u001b[43m.\u001b[49m\u001b[43moptimize\u001b[49m\u001b[43m(\u001b[49m\u001b[43mobjective\u001b[49m\u001b[43m,\u001b[49m\u001b[43m \u001b[49m\u001b[43mn_trials\u001b[49m\u001b[43m=\u001b[49m\u001b[32;43m250\u001b[39;49m\u001b[43m)\u001b[49m\n",
      "\u001b[36mFile \u001b[39m\u001b[32m~/merlin_codes/dl/Parkinson-Diagnosis-Deeplearning/.venv/lib/python3.12/site-packages/optuna/study/study.py:489\u001b[39m, in \u001b[36mStudy.optimize\u001b[39m\u001b[34m(self, func, n_trials, timeout, n_jobs, catch, callbacks, gc_after_trial, show_progress_bar)\u001b[39m\n\u001b[32m    387\u001b[39m \u001b[38;5;28;01mdef\u001b[39;00m\u001b[38;5;250m \u001b[39m\u001b[34moptimize\u001b[39m(\n\u001b[32m    388\u001b[39m     \u001b[38;5;28mself\u001b[39m,\n\u001b[32m    389\u001b[39m     func: ObjectiveFuncType,\n\u001b[32m   (...)\u001b[39m\u001b[32m    396\u001b[39m     show_progress_bar: \u001b[38;5;28mbool\u001b[39m = \u001b[38;5;28;01mFalse\u001b[39;00m,\n\u001b[32m    397\u001b[39m ) -> \u001b[38;5;28;01mNone\u001b[39;00m:\n\u001b[32m    398\u001b[39m \u001b[38;5;250m    \u001b[39m\u001b[33;03m\"\"\"Optimize an objective function.\u001b[39;00m\n\u001b[32m    399\u001b[39m \n\u001b[32m    400\u001b[39m \u001b[33;03m    Optimization is done by choosing a suitable set of hyperparameter values from a given\u001b[39;00m\n\u001b[32m   (...)\u001b[39m\u001b[32m    487\u001b[39m \u001b[33;03m            If nested invocation of this method occurs.\u001b[39;00m\n\u001b[32m    488\u001b[39m \u001b[33;03m    \"\"\"\u001b[39;00m\n\u001b[32m--> \u001b[39m\u001b[32m489\u001b[39m     \u001b[43m_optimize\u001b[49m\u001b[43m(\u001b[49m\n\u001b[32m    490\u001b[39m \u001b[43m        \u001b[49m\u001b[43mstudy\u001b[49m\u001b[43m=\u001b[49m\u001b[38;5;28;43mself\u001b[39;49m\u001b[43m,\u001b[49m\n\u001b[32m    491\u001b[39m \u001b[43m        \u001b[49m\u001b[43mfunc\u001b[49m\u001b[43m=\u001b[49m\u001b[43mfunc\u001b[49m\u001b[43m,\u001b[49m\n\u001b[32m    492\u001b[39m \u001b[43m        \u001b[49m\u001b[43mn_trials\u001b[49m\u001b[43m=\u001b[49m\u001b[43mn_trials\u001b[49m\u001b[43m,\u001b[49m\n\u001b[32m    493\u001b[39m \u001b[43m        \u001b[49m\u001b[43mtimeout\u001b[49m\u001b[43m=\u001b[49m\u001b[43mtimeout\u001b[49m\u001b[43m,\u001b[49m\n\u001b[32m    494\u001b[39m \u001b[43m        \u001b[49m\u001b[43mn_jobs\u001b[49m\u001b[43m=\u001b[49m\u001b[43mn_jobs\u001b[49m\u001b[43m,\u001b[49m\n\u001b[32m    495\u001b[39m \u001b[43m        \u001b[49m\u001b[43mcatch\u001b[49m\u001b[43m=\u001b[49m\u001b[38;5;28;43mtuple\u001b[39;49m\u001b[43m(\u001b[49m\u001b[43mcatch\u001b[49m\u001b[43m)\u001b[49m\u001b[43m \u001b[49m\u001b[38;5;28;43;01mif\u001b[39;49;00m\u001b[43m \u001b[49m\u001b[38;5;28;43misinstance\u001b[39;49m\u001b[43m(\u001b[49m\u001b[43mcatch\u001b[49m\u001b[43m,\u001b[49m\u001b[43m \u001b[49m\u001b[43mIterable\u001b[49m\u001b[43m)\u001b[49m\u001b[43m \u001b[49m\u001b[38;5;28;43;01melse\u001b[39;49;00m\u001b[43m \u001b[49m\u001b[43m(\u001b[49m\u001b[43mcatch\u001b[49m\u001b[43m,\u001b[49m\u001b[43m)\u001b[49m\u001b[43m,\u001b[49m\n\u001b[32m    496\u001b[39m \u001b[43m        \u001b[49m\u001b[43mcallbacks\u001b[49m\u001b[43m=\u001b[49m\u001b[43mcallbacks\u001b[49m\u001b[43m,\u001b[49m\n\u001b[32m    497\u001b[39m \u001b[43m        \u001b[49m\u001b[43mgc_after_trial\u001b[49m\u001b[43m=\u001b[49m\u001b[43mgc_after_trial\u001b[49m\u001b[43m,\u001b[49m\n\u001b[32m    498\u001b[39m \u001b[43m        \u001b[49m\u001b[43mshow_progress_bar\u001b[49m\u001b[43m=\u001b[49m\u001b[43mshow_progress_bar\u001b[49m\u001b[43m,\u001b[49m\n\u001b[32m    499\u001b[39m \u001b[43m    \u001b[49m\u001b[43m)\u001b[49m\n",
      "\u001b[36mFile \u001b[39m\u001b[32m~/merlin_codes/dl/Parkinson-Diagnosis-Deeplearning/.venv/lib/python3.12/site-packages/optuna/study/_optimize.py:64\u001b[39m, in \u001b[36m_optimize\u001b[39m\u001b[34m(study, func, n_trials, timeout, n_jobs, catch, callbacks, gc_after_trial, show_progress_bar)\u001b[39m\n\u001b[32m     62\u001b[39m \u001b[38;5;28;01mtry\u001b[39;00m:\n\u001b[32m     63\u001b[39m     \u001b[38;5;28;01mif\u001b[39;00m n_jobs == \u001b[32m1\u001b[39m:\n\u001b[32m---> \u001b[39m\u001b[32m64\u001b[39m         \u001b[43m_optimize_sequential\u001b[49m\u001b[43m(\u001b[49m\n\u001b[32m     65\u001b[39m \u001b[43m            \u001b[49m\u001b[43mstudy\u001b[49m\u001b[43m,\u001b[49m\n\u001b[32m     66\u001b[39m \u001b[43m            \u001b[49m\u001b[43mfunc\u001b[49m\u001b[43m,\u001b[49m\n\u001b[32m     67\u001b[39m \u001b[43m            \u001b[49m\u001b[43mn_trials\u001b[49m\u001b[43m,\u001b[49m\n\u001b[32m     68\u001b[39m \u001b[43m            \u001b[49m\u001b[43mtimeout\u001b[49m\u001b[43m,\u001b[49m\n\u001b[32m     69\u001b[39m \u001b[43m            \u001b[49m\u001b[43mcatch\u001b[49m\u001b[43m,\u001b[49m\n\u001b[32m     70\u001b[39m \u001b[43m            \u001b[49m\u001b[43mcallbacks\u001b[49m\u001b[43m,\u001b[49m\n\u001b[32m     71\u001b[39m \u001b[43m            \u001b[49m\u001b[43mgc_after_trial\u001b[49m\u001b[43m,\u001b[49m\n\u001b[32m     72\u001b[39m \u001b[43m            \u001b[49m\u001b[43mreseed_sampler_rng\u001b[49m\u001b[43m=\u001b[49m\u001b[38;5;28;43;01mFalse\u001b[39;49;00m\u001b[43m,\u001b[49m\n\u001b[32m     73\u001b[39m \u001b[43m            \u001b[49m\u001b[43mtime_start\u001b[49m\u001b[43m=\u001b[49m\u001b[38;5;28;43;01mNone\u001b[39;49;00m\u001b[43m,\u001b[49m\n\u001b[32m     74\u001b[39m \u001b[43m            \u001b[49m\u001b[43mprogress_bar\u001b[49m\u001b[43m=\u001b[49m\u001b[43mprogress_bar\u001b[49m\u001b[43m,\u001b[49m\n\u001b[32m     75\u001b[39m \u001b[43m        \u001b[49m\u001b[43m)\u001b[49m\n\u001b[32m     76\u001b[39m     \u001b[38;5;28;01melse\u001b[39;00m:\n\u001b[32m     77\u001b[39m         \u001b[38;5;28;01mif\u001b[39;00m n_jobs == -\u001b[32m1\u001b[39m:\n",
      "\u001b[36mFile \u001b[39m\u001b[32m~/merlin_codes/dl/Parkinson-Diagnosis-Deeplearning/.venv/lib/python3.12/site-packages/optuna/study/_optimize.py:161\u001b[39m, in \u001b[36m_optimize_sequential\u001b[39m\u001b[34m(study, func, n_trials, timeout, catch, callbacks, gc_after_trial, reseed_sampler_rng, time_start, progress_bar)\u001b[39m\n\u001b[32m    158\u001b[39m         \u001b[38;5;28;01mbreak\u001b[39;00m\n\u001b[32m    160\u001b[39m \u001b[38;5;28;01mtry\u001b[39;00m:\n\u001b[32m--> \u001b[39m\u001b[32m161\u001b[39m     frozen_trial = \u001b[43m_run_trial\u001b[49m\u001b[43m(\u001b[49m\u001b[43mstudy\u001b[49m\u001b[43m,\u001b[49m\u001b[43m \u001b[49m\u001b[43mfunc\u001b[49m\u001b[43m,\u001b[49m\u001b[43m \u001b[49m\u001b[43mcatch\u001b[49m\u001b[43m)\u001b[49m\n\u001b[32m    162\u001b[39m \u001b[38;5;28;01mfinally\u001b[39;00m:\n\u001b[32m    163\u001b[39m     \u001b[38;5;66;03m# The following line mitigates memory problems that can be occurred in some\u001b[39;00m\n\u001b[32m    164\u001b[39m     \u001b[38;5;66;03m# environments (e.g., services that use computing containers such as GitHub Actions).\u001b[39;00m\n\u001b[32m    165\u001b[39m     \u001b[38;5;66;03m# Please refer to the following PR for further details:\u001b[39;00m\n\u001b[32m    166\u001b[39m     \u001b[38;5;66;03m# https://github.com/optuna/optuna/pull/325.\u001b[39;00m\n\u001b[32m    167\u001b[39m     \u001b[38;5;28;01mif\u001b[39;00m gc_after_trial:\n",
      "\u001b[36mFile \u001b[39m\u001b[32m~/merlin_codes/dl/Parkinson-Diagnosis-Deeplearning/.venv/lib/python3.12/site-packages/optuna/study/_optimize.py:253\u001b[39m, in \u001b[36m_run_trial\u001b[39m\u001b[34m(study, func, catch)\u001b[39m\n\u001b[32m    246\u001b[39m         \u001b[38;5;28;01massert\u001b[39;00m \u001b[38;5;28;01mFalse\u001b[39;00m, \u001b[33m\"\u001b[39m\u001b[33mShould not reach.\u001b[39m\u001b[33m\"\u001b[39m\n\u001b[32m    248\u001b[39m \u001b[38;5;28;01mif\u001b[39;00m (\n\u001b[32m    249\u001b[39m     frozen_trial.state == TrialState.FAIL\n\u001b[32m    250\u001b[39m     \u001b[38;5;129;01mand\u001b[39;00m func_err \u001b[38;5;129;01mis\u001b[39;00m \u001b[38;5;129;01mnot\u001b[39;00m \u001b[38;5;28;01mNone\u001b[39;00m\n\u001b[32m    251\u001b[39m     \u001b[38;5;129;01mand\u001b[39;00m \u001b[38;5;129;01mnot\u001b[39;00m \u001b[38;5;28misinstance\u001b[39m(func_err, catch)\n\u001b[32m    252\u001b[39m ):\n\u001b[32m--> \u001b[39m\u001b[32m253\u001b[39m     \u001b[38;5;28;01mraise\u001b[39;00m func_err\n\u001b[32m    254\u001b[39m \u001b[38;5;28;01mreturn\u001b[39;00m frozen_trial\n",
      "\u001b[36mFile \u001b[39m\u001b[32m~/merlin_codes/dl/Parkinson-Diagnosis-Deeplearning/.venv/lib/python3.12/site-packages/optuna/study/_optimize.py:201\u001b[39m, in \u001b[36m_run_trial\u001b[39m\u001b[34m(study, func, catch)\u001b[39m\n\u001b[32m    199\u001b[39m \u001b[38;5;28;01mwith\u001b[39;00m get_heartbeat_thread(trial._trial_id, study._storage):\n\u001b[32m    200\u001b[39m     \u001b[38;5;28;01mtry\u001b[39;00m:\n\u001b[32m--> \u001b[39m\u001b[32m201\u001b[39m         value_or_values = \u001b[43mfunc\u001b[49m\u001b[43m(\u001b[49m\u001b[43mtrial\u001b[49m\u001b[43m)\u001b[49m\n\u001b[32m    202\u001b[39m     \u001b[38;5;28;01mexcept\u001b[39;00m exceptions.TrialPruned \u001b[38;5;28;01mas\u001b[39;00m e:\n\u001b[32m    203\u001b[39m         \u001b[38;5;66;03m# TODO(mamu): Handle multi-objective cases.\u001b[39;00m\n\u001b[32m    204\u001b[39m         state = TrialState.PRUNED\n",
      "\u001b[36mCell\u001b[39m\u001b[36m \u001b[39m\u001b[32mIn[19]\u001b[39m\u001b[32m, line 33\u001b[39m, in \u001b[36mobjective\u001b[39m\u001b[34m(trial)\u001b[39m\n\u001b[32m     28\u001b[39m cv_test_loader = parkinson.utils.data.get_torch_dataloader(\n\u001b[32m     29\u001b[39m     X_cv_test, y_cv_test, batch_size=batch_size, shuffle=\u001b[38;5;28;01mFalse\u001b[39;00m \u001b[38;5;66;03m# Don't shuffle test data\u001b[39;00m\n\u001b[32m     30\u001b[39m )\n\u001b[32m     32\u001b[39m device = torch.device(\u001b[33m\"\u001b[39m\u001b[33mcuda\u001b[39m\u001b[33m\"\u001b[39m \u001b[38;5;28;01mif\u001b[39;00m torch.cuda.is_available() \u001b[38;5;28;01melse\u001b[39;00m \u001b[33m\"\u001b[39m\u001b[33mcpu\u001b[39m\u001b[33m\"\u001b[39m)\n\u001b[32m---> \u001b[39m\u001b[32m33\u001b[39m model = \u001b[43mparkinson\u001b[49m\u001b[43m.\u001b[49m\u001b[43mNetworkModels\u001b[49m\u001b[43m.\u001b[49m\u001b[43mcustomMLP\u001b[49m\u001b[43m(\u001b[49m\n\u001b[32m     34\u001b[39m \u001b[43m    \u001b[49m\u001b[43minput_dim\u001b[49m\u001b[43m=\u001b[49m\u001b[43mX_train\u001b[49m\u001b[43m.\u001b[49m\u001b[43mshape\u001b[49m\u001b[43m[\u001b[49m\u001b[32;43m1\u001b[39;49m\u001b[43m]\u001b[49m\u001b[43m,\u001b[49m\n\u001b[32m     35\u001b[39m \u001b[43m    \u001b[49m\u001b[43mhidden_dim\u001b[49m\u001b[43m=\u001b[49m\u001b[43mhidden_dim\u001b[49m\u001b[43m,\u001b[49m\n\u001b[32m     36\u001b[39m \u001b[43m    \u001b[49m\u001b[43moutput_dim\u001b[49m\u001b[43m=\u001b[49m\u001b[32;43m3\u001b[39;49m\u001b[43m,\u001b[49m\n\u001b[32m     37\u001b[39m \u001b[43m    \u001b[49m\u001b[43mdropout_rate\u001b[49m\u001b[43m=\u001b[49m\u001b[43mdropout_rate\u001b[49m\n\u001b[32m     38\u001b[39m \u001b[43m\u001b[49m\u001b[43m)\u001b[49m\n\u001b[32m     39\u001b[39m class_weights = parkinson.utils.data.get_torch_class_weights(y_cv_train)\n\u001b[32m     41\u001b[39m model.train()\n",
      "\u001b[31mTypeError\u001b[39m: customMLP.__init__() got an unexpected keyword argument 'dropout_rate'"
     ]
    }
   ],
   "source": [
    "study = optuna.create_study(direction='maximize')\n",
    "study.optimize(objective, n_trials=250)"
   ]
  },
  {
   "cell_type": "code",
   "execution_count": null,
   "id": "5dcbbb5e-df83-431f-8a19-b44589f9da78",
   "metadata": {},
   "outputs": [],
   "source": [
    "best_trial = study.best_trials[0]\n",
    "print(best_trial.values)\n",
    "print(best_trial.params)"
   ]
  },
  {
   "cell_type": "markdown",
   "id": "9465c990-e700-4b3a-8f99-aa22b17a6e24",
   "metadata": {},
   "source": [
    "## Teste"
   ]
  },
  {
   "cell_type": "code",
   "execution_count": null,
   "id": "332f3b4c-4186-4067-a581-4b62bc2172b5",
   "metadata": {},
   "outputs": [],
   "source": [
    "best_params = best_trial.params"
   ]
  },
  {
   "cell_type": "code",
   "execution_count": 23,
   "id": "e1c54bc5-86b2-4d3d-be21-497c149be5b7",
   "metadata": {},
   "outputs": [],
   "source": [
    "X_trainval, X_test, y_trainval, y_test = train_test_split(X, y, test_size=0.1, random_state=RDN, stratify=y, shuffle=True)\n",
    "X_train, X_val, y_train, y_val = train_test_split(X_trainval, y_trainval, test_size=1/10, random_state=RDN, stratify=y_trainval, shuffle=True)\n",
    "\n",
    "# Aplicando oversampling no conjunto de treino\n",
    "ros = RandomOverSampler(random_state=RDN)\n",
    "X_train, y_train = ros.fit_resample(X_train, y_train)\n",
    "\n",
    "# Criando DataLoaders\n",
    "train_loader = parkinson.utils.data.get_torch_dataloader(X_train, y_train, batch_size=best_params['batch_size'])\n",
    "val_loader = parkinson.utils.data.get_torch_dataloader(X_val, y_val, batch_size=best_params['batch_size'])\n",
    "test_loader = parkinson.utils.data.get_torch_dataloader(X_test, y_test, batch_size=best_params['batch_size'])"
   ]
  },
  {
   "cell_type": "code",
   "execution_count": 24,
   "id": "34c62413-15db-4d36-817d-b5b14dd10cd3",
   "metadata": {},
   "outputs": [
    {
     "name": "stderr",
     "output_type": "stream",
     "text": [
      "train-loss: 0.0072  train-acc: 0.9978 | val-loss: 2.8943  val-acc: 0.4595: "
     ]
    },
    {
     "name": "stdout",
     "output_type": "stream",
     "text": [
      "Early stopping at epoch 13\n"
     ]
    },
    {
     "name": "stderr",
     "output_type": "stream",
     "text": [
      "\n"
     ]
    }
   ],
   "source": [
    "device = torch.device(\"cuda\" if torch.cuda.is_available() else \"cpu\")\n",
    "model = parkinson.NetworkModels.customMLP(\n",
    "    input_dim=X_train.shape[1],\n",
    "    hidden_dim=best_params['hidden_dim'],\n",
    "    output_dim=3,\n",
    "    dropout_rate=best_params['dropout_rate\n",
    ")\n",
    "class_weights = parkinson.utils.data.get_torch_class_weights(y_train)\n",
    "\n",
    "model.train()\n",
    "criterion = nn.CrossEntropyLoss(weight=class_weights.to(device))\n",
    "\n",
    "optimizer = torch.optim.Adam(\n",
    "    model.parameters(),\n",
    "    lr=best_params['lr'],\n",
    "    betas=(best_params['beta1'],best_params['beta2']),\n",
    "    eps=1e-8,\n",
    "    weight_decay=best_params['weight_decay']\n",
    ")\n",
    "\n",
    "out = parkinson.utils.train.train(\n",
    "    model=model, \n",
    "    train_loader=train_loader, \n",
    "    val_loader=val_loader, \n",
    "    class_weights=class_weights, \n",
    "    device=device,\n",
    "    optimizer=optimizer,\n",
    "    num_epochs=best_params['epochs'], \n",
    "    patience=best_params['patience'],\n",
    "    lr=None,\n",
    "    path=\"../weights/multimodal\"\n",
    ")\n",
    "\n",
    "metrics = parkinson.utils.train.evaluate(model, test_loader, device, path=\"../weights/multimodal\")"
   ]
  },
  {
   "cell_type": "markdown",
   "id": "7dcca2e8",
   "metadata": {},
   "source": [
    "### Análise dos resultados"
   ]
  },
  {
   "cell_type": "code",
   "execution_count": 25,
   "id": "b6b169a2",
   "metadata": {},
   "outputs": [
    {
     "name": "stdout",
     "output_type": "stream",
     "text": [
      " Acurácia       F1  Precisão   Recall\n",
      " 0.390244 0.385468  0.399535 0.390244\n"
     ]
    },
    {
     "data": {
      "image/png": "[encoded data removed]",
      "text/plain": [
       "<Figure size 640x480 with 1 Axes>"
      ]
     },
     "metadata": {},
     "output_type": "display_data"
    },
    {
     "data": {
      "image/png": "[encoded data removed]",
      "text/plain": [
       "<Figure size 500x500 with 1 Axes>"
      ]
     },
     "metadata": {},
     "output_type": "display_data"
    }
   ],
   "source": [
    "# Criando e plotando os resultados.\n",
    "parkinson.utils.results.metrics_to_dataframe(metrics)\n",
    "fig_loss = parkinson.utils.results.plot_losses(out['train_loss'],out['val_loss'])\n",
    "fig_cf = parkinson.utils.results.plot_confusion_matrix(metrics['preds'], metrics['labels'], class_names=['Saudável', 'Control','Parkinson'])"
   ]
  }
 ],
 "metadata": {
  "kernelspec": {
   "display_name": "Python (parkinson)",
   "language": "python",
   "name": "parkinson"
  },
  "language_info": {
   "codemirror_mode": {
    "name": "ipython",
    "version": 3
   },
   "file_extension": ".py",
   "mimetype": "text/x-python",
   "name": "python",
   "nbconvert_exporter": "python",
   "pygments_lexer": "ipython3",
   "version": "3.12.2"
  }
 },
 "nbformat": 4,
 "nbformat_minor": 5
}
