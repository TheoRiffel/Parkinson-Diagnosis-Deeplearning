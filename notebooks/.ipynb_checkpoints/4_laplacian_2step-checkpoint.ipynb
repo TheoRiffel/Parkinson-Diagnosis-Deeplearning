{
 "cells": [
  {
   "cell_type": "markdown",
   "id": "3ca4525f",
   "metadata": {},
   "source": [
    "# Análise utilizando os autovalores da matriz Laplaciana\n",
    "\n",
    "O segundo menor autovalor da matriz Laplaciana do grafo também é chamado de conectividade algébrica e possui propriedades interessantes sobre a conectividade do grafo. Ao invés de considerar apenas o segundo menor, podemos considerar um range $[2,...]$ para uma representação de maior dimensão para cada grafo"
   ]
  },
  {
   "cell_type": "code",
   "execution_count": 3,
   "id": "a170b1f9",
   "metadata": {},
   "outputs": [
    {
     "name": "stdout",
     "output_type": "stream",
     "text": [
      "The autoreload extension is already loaded. To reload it, use:\n",
      "  %reload_ext autoreload\n"
     ]
    }
   ],
   "source": [
    "%load_ext autoreload\n",
    "%autoreload 2"
   ]
  },
  {
   "cell_type": "code",
   "execution_count": 4,
   "id": "b8232732",
   "metadata": {},
   "outputs": [
    {
     "name": "stderr",
     "output_type": "stream",
     "text": [
      "/home/labic/merlin_codes/frois/Parkinson-Diagnosis-Deeplearning/.venv/lib/python3.12/site-packages/tqdm/auto.py:21: TqdmWarning: IProgress not found. Please update jupyter and ipywidgets. See https://ipywidgets.readthedocs.io/en/stable/user_install.html\n",
      "  from .autonotebook import tqdm as notebook_tqdm\n"
     ]
    }
   ],
   "source": [
    "import sys\n",
    "import os\n",
    "import time\n",
    "import torch\n",
    "import pickle\n",
    "import parkinson\n",
    "import optuna\n",
    "\n",
    "import numpy as np\n",
    "import pandas as pd\n",
    "import networkx as nx\n",
    "import scipy as sp\n",
    "import seaborn as sns\n",
    "import matplotlib.pyplot as plt\n",
    "\n",
    "from torch import nn\n",
    "from joblib import Parallel, delayed\n",
    "from sklearn.metrics import classification_report\n",
    "from tqdm import tqdm\n",
    "from sklearn.svm import SVC\n",
    "from sklearn.model_selection import train_test_split, cross_val_score, GridSearchCV\n",
    "from imblearn.over_sampling import RandomOverSampler"
   ]
  },
  {
   "cell_type": "code",
   "execution_count": 5,
   "id": "dd1e700f",
   "metadata": {},
   "outputs": [],
   "source": [
    "RDN = 42\n",
    "N_CLASSES = 2\n",
    "BATCH_SIZE = 1\n",
    "N_EPOCHS = 200\n",
    "PATIENCE = 20\n",
    "LR = 0.00001"
   ]
  },
  {
   "cell_type": "markdown",
   "id": "d0b008fd",
   "metadata": {},
   "source": [
    "## Processamento dos dados"
   ]
  },
  {
   "cell_type": "code",
   "execution_count": 7,
   "id": "69cbfd18",
   "metadata": {},
   "outputs": [
    {
     "name": "stderr",
     "output_type": "stream",
     "text": [
      "100%|████████████████████████████████████████████████████████| 153/153 [00:03<00:00, 43.25it/s]\n",
      "100%|██████████████████████████████████████████████████████████| 66/66 [00:01<00:00, 43.33it/s]\n",
      "100%|████████████████████████████████████████████████████████| 188/188 [00:04<00:00, 43.31it/s]\n"
     ]
    }
   ],
   "source": [
    "# lendo os arquivos de dados\n",
    "parkinson_data = parkinson.utils.data.batch_read('../data/PDs_columns')\n",
    "control_data = parkinson.utils.data.batch_read('../data/Controls_columns') \n",
    "prodomal_data =  parkinson.utils.data.batch_read('../data/Prodomals_columns') "
   ]
  },
  {
   "cell_type": "markdown",
   "id": "21487b66",
   "metadata": {},
   "source": [
    "Checando as colunas que aparecem no dataset Control para Shen_268 e renomeando"
   ]
  },
  {
   "cell_type": "code",
   "execution_count": 8,
   "id": "631e42a6",
   "metadata": {},
   "outputs": [],
   "source": [
    "for i in range(len(control_data)):\n",
    "    df = control_data[i]\n",
    "    replace_dict = {\n",
    "        column: column.replace('shen-268', 'Shen_268').replace('shen 268', 'Shen_268').replace('Shen-268', 'Shen_268')\n",
    "        for column in df.columns\n",
    "    }\n",
    "    control_data[i] = df.rename(columns=replace_dict)"
   ]
  },
  {
   "cell_type": "markdown",
   "id": "154d6522",
   "metadata": {},
   "source": [
    "Selecionando o Atlas AAL3"
   ]
  },
  {
   "cell_type": "code",
   "execution_count": 9,
   "id": "304c0ee7",
   "metadata": {},
   "outputs": [],
   "source": [
    "control_atlas_data = parkinson.utils.data.select_atlas_columns(control_data, 'AAL3')\n",
    "parkinson_atlas_data = parkinson.utils.data.select_atlas_columns(parkinson_data, 'AAL3')\n",
    "prodomal_atlas_data = parkinson.utils.data.select_atlas_columns(prodomal_data, 'AAL3')"
   ]
  },
  {
   "cell_type": "markdown",
   "id": "e3bbb2e6",
   "metadata": {},
   "source": [
    "## Pearson + Threshold Continuo"
   ]
  },
  {
   "cell_type": "code",
   "execution_count": 10,
   "id": "518bb06c",
   "metadata": {},
   "outputs": [],
   "source": [
    "parkinson_correlation_matrix = parkinson.utils.correlation.pearson_correlation(parkinson_atlas_data, return_upper_triangular=False)\n",
    "control_correlation_matrix = parkinson.utils.correlation.pearson_correlation(control_atlas_data, return_upper_triangular=False)\n",
    "prodomal_correlation_matrix = parkinson.utils.correlation.pearson_correlation(prodomal_atlas_data, return_upper_triangular=False)"
   ]
  },
  {
   "cell_type": "code",
   "execution_count": 11,
   "id": "fcf809bb",
   "metadata": {},
   "outputs": [],
   "source": [
    "def get_sparse_adjacency_matrix(correlation_matrix: np.array, threshold: float = 0.01):\n",
    "    a = correlation_matrix.copy()\n",
    "    N = len(a)\n",
    "    a[np.abs(a) < threshold] = 0\n",
    "    a[np.abs(a) > threshold] = 1\n",
    "    a -= np.eye(N)\n",
    "    return sp.sparse.csr_matrix(a)"
   ]
  },
  {
   "cell_type": "code",
   "execution_count": 12,
   "id": "3a647cbf",
   "metadata": {},
   "outputs": [],
   "source": [
    "correlation_matrices = parkinson.utils.data.concatenate_data(parkinson_correlation_matrix, control_correlation_matrix, prodomal_correlation_matrix)\n",
    "y = parkinson.utils.data.concatenate_data([1 for _ in range(len(parkinson_data))], [0 for _ in range(len(control_data))], [2 for _ in range(len(prodomal_data))])\n",
    "y_2class = parkinson.utils.data.concatenate_data([1 for _ in range(len(parkinson_data))], [0 for _ in range(len(control_data))], [1 for _ in range(len(prodomal_data))])\n",
    "correlation_matrices, y_2class = parkinson.utils.data.filter_data(correlation_matrices, y_2class)"
   ]
  },
  {
   "cell_type": "code",
   "execution_count": 15,
   "id": "e2c279d1",
   "metadata": {},
   "outputs": [],
   "source": [
    "def get_continuous_connectivity(correlation_matrices: list[np.array]) -> list[np.array]:\n",
    "    threshold_list = np.arange(0.1, 0.35, 0.025)\n",
    "\n",
    "    continuous_graph_connectivity = []\n",
    "\n",
    "    for threshold in tqdm(threshold_list):\n",
    "        connectivity_graphs = [\n",
    "            get_sparse_adjacency_matrix(matrix, threshold=threshold) for matrix in correlation_matrices\n",
    "        ]\n",
    "\n",
    "        graph_laplacians = [\n",
    "            sp.sparse.csgraph.laplacian(matrix, normed=True)\n",
    "            for matrix in connectivity_graphs\n",
    "        ]\n",
    "\n",
    "        graph_connectivity = [\n",
    "            sp.sparse.linalg.eigs(laplacian, which='SR', k=2)[0][1].real\n",
    "            for laplacian in graph_laplacians\n",
    "        ]\n",
    "\n",
    "        continuous_graph_connectivity.append(graph_connectivity)\n",
    "\n",
    "    return np.array(continuous_graph_connectivity).T"
   ]
  },
  {
   "cell_type": "code",
   "execution_count": 16,
   "id": "fab4a8f6",
   "metadata": {},
   "outputs": [
    {
     "name": "stderr",
     "output_type": "stream",
     "text": [
      "100%|██████████████████████████████████████████████████████████| 10/10 [00:14<00:00,  1.43s/it]\n"
     ]
    }
   ],
   "source": [
    "continuous_graph_connectivity = get_continuous_connectivity(correlation_matrices)"
   ]
  },
  {
   "cell_type": "markdown",
   "id": "69321748",
   "metadata": {},
   "source": [
    "### Classificação"
   ]
  },
  {
   "cell_type": "code",
   "execution_count": 18,
   "id": "a57d10ae",
   "metadata": {},
   "outputs": [],
   "source": [
    "# Dividindo os dados em 60 para treino, 20 para validação e 20 para teste\n",
    "X_train, X_test, y_train, y_test = train_test_split(continuous_graph_connectivity, y_2class, test_size=0.1, random_state=RDN, stratify=y, shuffle=True)"
   ]
  },
  {
   "cell_type": "markdown",
   "id": "240a7de3",
   "metadata": {},
   "source": [
    "#### Resampling"
   ]
  },
  {
   "cell_type": "code",
   "execution_count": 19,
   "id": "5dd08d64",
   "metadata": {},
   "outputs": [],
   "source": [
    "ros = RandomOverSampler(random_state=42, sampling_strategy='minority')\n",
    "\n",
    "X_train, y_train = ros.fit_resample(X_train, y_train)"
   ]
  },
  {
   "cell_type": "code",
   "execution_count": 20,
   "id": "609470a6",
   "metadata": {},
   "outputs": [
    {
     "data": {
      "text/plain": [
       "(array([0, 1]), array([307, 307]))"
      ]
     },
     "execution_count": 20,
     "metadata": {},
     "output_type": "execute_result"
    }
   ],
   "source": [
    "np.unique(y_train, return_counts=True)"
   ]
  },
  {
   "cell_type": "code",
   "execution_count": 38,
   "id": "8202db83",
   "metadata": {},
   "outputs": [
    {
     "data": {
      "text/plain": [
       "array([1, 1, 1, 1, 1, 1, 1, 1, 1, 0, 1, 1, 0, 0, 0, 1, 0, 1, 0, 0, 0, 1,\n",
       "       1, 1, 1, 1, 1, 1, 1, 1, 1, 1, 1, 1, 0, 0, 0, 1, 1, 1, 0])"
      ]
     },
     "execution_count": 38,
     "metadata": {},
     "output_type": "execute_result"
    }
   ],
   "source": [
    "optimized_params = {'C': 0.01, 'coef0': -1, 'degree': 3, 'gamma': 'auto', 'kernel': 'rbf'}\n",
    "\n",
    "classifier = SVC(random_state=RDN)\n",
    "classifier.fit(X_train, y_train)\n",
    "y_pred = classifier.predict(X_test)\n",
    "classifier.predict(X_test)"
   ]
  },
  {
   "cell_type": "code",
   "execution_count": 40,
   "id": "a30bed24",
   "metadata": {},
   "outputs": [
    {
     "name": "stdout",
     "output_type": "stream",
     "text": [
      "              precision    recall  f1-score   support\n",
      "\n",
      "    Saudável       0.25      0.43      0.32         7\n",
      "Não Saudável       0.86      0.74      0.79        34\n",
      "\n",
      "    accuracy                           0.68        41\n",
      "   macro avg       0.56      0.58      0.55        41\n",
      "weighted avg       0.76      0.68      0.71        41\n",
      "\n"
     ]
    }
   ],
   "source": [
    "print(classification_report(y_test, y_pred, target_names=['Saudável', 'Não Saudável']))"
   ]
  },
  {
   "cell_type": "code",
   "execution_count": 35,
   "id": "159afc2c",
   "metadata": {},
   "outputs": [
    {
     "data": {
      "image/png": "[encoded data removed]",
      "text/plain": [
       "<Figure size 500x500 with 1 Axes>"
      ]
     },
     "metadata": {},
     "output_type": "display_data"
    }
   ],
   "source": [
    "confusion_matrix = parkinson.utils.results.plot_confusion_matrix(y_pred, y_test, class_names=['Saudável', 'Não Saudável'])"
   ]
  },
  {
   "cell_type": "markdown",
   "id": "67e011f1",
   "metadata": {},
   "source": [
    "### Otimização de Hiperparametros com Optuna"
   ]
  },
  {
   "cell_type": "code",
   "execution_count": 19,
   "id": "1ea934ba",
   "metadata": {},
   "outputs": [],
   "source": [
    "def objective(trial):\n",
    "    # 2. Suggest values for the hyperparameters using a trial object.\n",
    "\n",
    "    C = trial.suggest_float('C', 1e-10, 1e2, log=True)\n",
    "    gamma = trial.suggest_categorical('gamma', ['scale', 'auto'])\n",
    "    degree = trial.suggest_int('degree', 1, 7)\n",
    "    coef0 = trial.suggest_int('coef0', -10, 10)\n",
    "\n",
    "    classifier = SVC(\n",
    "        gamma=gamma,\n",
    "        degree=degree,\n",
    "        coef0=coef0,\n",
    "        kernel='poly',\n",
    "        C=C,\n",
    "        random_state=RDN\n",
    "    )\n",
    "\n",
    "    scores = np.mean(cross_val_score(classifier, X=X_train, y=y_train, cv=10, scoring='f1_weighted'))\n",
    "\n",
    "    return scores"
   ]
  },
  {
   "cell_type": "code",
   "execution_count": null,
   "id": "85178d99",
   "metadata": {},
   "outputs": [
    {
     "name": "stderr",
     "output_type": "stream",
     "text": [
      "[I 2025-07-04 15:42:33,152] A new study created in memory with name: no-name-a12b285d-f5df-4da0-839b-1872c3d23c7f\n",
      "[I 2025-07-04 15:42:33,281] Trial 0 finished with value: 0.4633375092689766 and parameters: {'C': 0.04005346239968044, 'gamma': 'scale', 'degree': 7, 'coef0': -3}. Best is trial 0 with value: 0.4633375092689766.\n"
     ]
    }
   ],
   "source": [
    "study = optuna.create_study(direction='maximize')\n",
    "study.optimize(objective, n_trials=50)"
   ]
  },
  {
   "cell_type": "code",
   "execution_count": null,
   "id": "7cf9c1ad",
   "metadata": {},
   "outputs": [
    {
     "data": {
      "text/plain": [
       "{'C': 10.51255459790409, 'gamma': 'scale', 'degree': 4, 'coef0': 6}"
      ]
     },
     "execution_count": 105,
     "metadata": {},
     "output_type": "execute_result"
    }
   ],
   "source": [
    "best_params = study.best_params\n",
    "best_params"
   ]
  },
  {
   "cell_type": "code",
   "execution_count": null,
   "id": "dd3fbcfb",
   "metadata": {},
   "outputs": [
    {
     "data": {
      "text/plain": [
       "array([1, 1, 1, 1, 1, 1, 1, 0, 1, 1, 1, 1, 1, 1, 0, 1, 1, 1, 1, 1, 1, 1,\n",
       "       1, 1, 1, 1, 1, 1, 1, 1, 1, 1, 1, 1, 0, 1, 1, 1, 1, 1, 1, 1, 1, 1,\n",
       "       1, 1, 0, 1, 0, 1, 1, 1, 1, 1, 1, 1, 1, 1, 1, 1, 1, 1, 1, 0, 0, 1,\n",
       "       1, 1, 1, 1, 1, 1, 1, 1, 0, 0, 1, 1, 1, 0, 1, 1])"
      ]
     },
     "execution_count": 107,
     "metadata": {},
     "output_type": "execute_result"
    }
   ],
   "source": [
    "classifier = SVC( **best_params)\n",
    "classifier.fit(X_train, y_train)\n",
    "y_pred = classifier.predict(X_test)\n",
    "y_pred"
   ]
  },
  {
   "cell_type": "code",
   "execution_count": null,
   "id": "ebae36a2",
   "metadata": {},
   "outputs": [
    {
     "name": "stdout",
     "output_type": "stream",
     "text": [
      "              precision    recall  f1-score   support\n",
      "\n",
      "           0       0.40      0.31      0.35        13\n",
      "           1       0.88      0.91      0.89        69\n",
      "\n",
      "    accuracy                           0.82        82\n",
      "   macro avg       0.64      0.61      0.62        82\n",
      "weighted avg       0.80      0.82      0.81        82\n",
      "\n"
     ]
    },
    {
     "data": {
      "image/png": "[encoded data removed]",
      "text/plain": [
       "<Figure size 500x500 with 1 Axes>"
      ]
     },
     "metadata": {},
     "output_type": "display_data"
    }
   ],
   "source": [
    "print(classification_report(y_test, y_pred))\n",
    "confusion_matrix = parkinson.utils.results.plot_confusion_matrix(y_pred, y_test, class_names=['Saudavel','Não Saudável'])"
   ]
  },
  {
   "cell_type": "markdown",
   "id": "8dc9a9bd",
   "metadata": {},
   "source": [
    "## Redes Neurais"
   ]
  },
  {
   "cell_type": "code",
   "execution_count": 14,
   "id": "209aace6",
   "metadata": {},
   "outputs": [],
   "source": [
    "# Dividindo os dados em 60 para treino, 20 para validação e 20 para teste\n",
    "X_trainval, X_test, y_trainval, y_test = train_test_split(continuous_graph_connectivity, y_2class, test_size=0.2, random_state=RDN, stratify=y, shuffle=True)\n",
    "X_train, X_val, y_train, y_val = train_test_split(X_trainval, y_trainval, test_size=0.25, random_state=RDN, stratify=y_trainval, shuffle=True)\n",
    "\n",
    "# Aplicando oversampling no conjunto de treino\n",
    "ros = RandomOverSampler(random_state=RDN)\n",
    "X_train, y_train = ros.fit_resample(X_train, y_train)\n",
    "\n",
    "# Criando DataLoaders\n",
    "train_loader = parkinson.utils.data.get_torch_dataloader(X_train, y_train, batch_size=BATCH_SIZE)\n",
    "val_loader = parkinson.utils.data.get_torch_dataloader(X_val, y_val, batch_size=BATCH_SIZE)\n",
    "test_loader = parkinson.utils.data.get_torch_dataloader(X_test, y_test, batch_size=BATCH_SIZE)"
   ]
  },
  {
   "cell_type": "code",
   "execution_count": 15,
   "id": "a2145c60",
   "metadata": {},
   "outputs": [],
   "source": [
    "class MLP(nn.Module):\n",
    "    def __init__(self, input_dim, hidden_dim, output_dim):\n",
    "        super(MLP, self).__init__()\n",
    "        self.net = nn.Sequential(\n",
    "            nn.Linear(input_dim, hidden_dim),\n",
    "            nn.Sigmoid(),\n",
    "            nn.Linear(hidden_dim, output_dim)\n",
    "        )\n",
    "\n",
    "    def forward(self, x):\n",
    "        return self.net(x)"
   ]
  },
  {
   "cell_type": "code",
   "execution_count": 17,
   "id": "a380ce46",
   "metadata": {},
   "outputs": [
    {
     "name": "stderr",
     "output_type": "stream",
     "text": [
      "train-loss: 0.7002  train-acc: 0.5000 | val-loss: 0.6192  val-acc: 0.8415:  10%|█         | 20/200 [00:36<05:31,  1.84s/it]"
     ]
    },
    {
     "name": "stdout",
     "output_type": "stream",
     "text": [
      "Early stopping at epoch 21\n"
     ]
    },
    {
     "name": "stderr",
     "output_type": "stream",
     "text": [
      "\n"
     ]
    },
    {
     "name": "stdout",
     "output_type": "stream",
     "text": [
      "CPU times: user 21.1 s, sys: 7.69 s, total: 28.8 s\n",
      "Wall time: 37.2 s\n"
     ]
    },
    {
     "name": "stderr",
     "output_type": "stream",
     "text": [
      "/home/vitor/Documents/Parkinson-Diagnosis-Deeplearning/.venv/lib/python3.13/site-packages/sklearn/metrics/_classification.py:1565: UndefinedMetricWarning: Precision is ill-defined and being set to 0.0 in labels with no predicted samples. Use `zero_division` parameter to control this behavior.\n",
      "  _warn_prf(average, modifier, f\"{metric.capitalize()} is\", len(result))\n"
     ]
    }
   ],
   "source": [
    "%%time\n",
    "device = torch.device(\"cuda\" if torch.cuda.is_available() else \"cpu\")\n",
    "model = MLP(input_dim=X_train.shape[1], hidden_dim=10, output_dim=2)\n",
    "class_weights = parkinson.utils.data.get_torch_class_weights(y_train)\n",
    "\n",
    "model.train()\n",
    "criterion = nn.CrossEntropyLoss(weight=class_weights.to(device))\n",
    "\n",
    "out = parkinson.utils.train.train(\n",
    "    model=model, \n",
    "    train_loader=train_loader, \n",
    "    val_loader=val_loader, \n",
    "    class_weights=class_weights, \n",
    "    device=device, \n",
    "    num_epochs=N_EPOCHS, \n",
    "    patience=PATIENCE,\n",
    "    lr=LR,\n",
    "    path=\"../weights/4_laplacian_2step\"\n",
    ")\n",
    "\n",
    "metrics = parkinson.utils.train.evaluate(model, test_loader, device, path=\"../weights/4_laplacian_2step\")"
   ]
  },
  {
   "cell_type": "code",
   "execution_count": 18,
   "id": "4134e5c3",
   "metadata": {},
   "outputs": [
    {
     "name": "stdout",
     "output_type": "stream",
     "text": [
      " Acurácia      F1  Precisão   Recall\n",
      " 0.841463 0.76902  0.708061 0.841463\n"
     ]
    },
    {
     "name": "stderr",
     "output_type": "stream",
     "text": [
      "/tmp/ipykernel_23785/2479595963.py:4: UserWarning: FigureCanvasAgg is non-interactive, and thus cannot be shown\n",
      "  fig_loss.show()\n",
      "/tmp/ipykernel_23785/2479595963.py:6: UserWarning: FigureCanvasAgg is non-interactive, and thus cannot be shown\n",
      "  fig_cf.show()\n"
     ]
    },
    {
     "data": {
      "image/png": "[encoded data removed]",
      "text/plain": [
       "<Figure size 640x480 with 1 Axes>"
      ]
     },
     "metadata": {},
     "output_type": "display_data"
    },
    {
     "data": {
      "image/png": "[encoded data removed]",
      "text/plain": [
       "<Figure size 500x500 with 1 Axes>"
      ]
     },
     "metadata": {},
     "output_type": "display_data"
    }
   ],
   "source": [
    "# Criando e plotando os resultados.\n",
    "parkinson.utils.results.metrics_to_dataframe(metrics)\n",
    "fig_loss = parkinson.utils.results.plot_losses(out['train_loss'],out['val_loss'])\n",
    "fig_loss.show()\n",
    "fig_cf = parkinson.utils.results.plot_confusion_matrix(metrics['preds'], metrics['labels'], class_names=['Control','Parkinson'])\n",
    "fig_cf.show()"
   ]
  },
  {
   "cell_type": "code",
   "execution_count": null,
   "id": "43f4c65c",
   "metadata": {},
   "outputs": [],
   "source": []
  }
 ],
 "metadata": {
  "kernelspec": {
   "display_name": "Python (parkinson)",
   "language": "python",
   "name": "parkinson"
  },
  "language_info": {
   "codemirror_mode": {
    "name": "ipython",
    "version": 3
   },
   "file_extension": ".py",
   "mimetype": "text/x-python",
   "name": "python",
   "nbconvert_exporter": "python",
   "pygments_lexer": "ipython3",
   "version": "3.12.2"
  }
 },
 "nbformat": 4,
 "nbformat_minor": 5
}
