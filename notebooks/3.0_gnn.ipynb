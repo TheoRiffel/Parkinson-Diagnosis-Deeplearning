{
 "cells": [
  {
   "cell_type": "markdown",
   "id": "7141aceb",
   "metadata": {},
   "source": [
    "# Graph Neural Network (GNN)\n",
    "\n",
    "A partir da ideia de que a Doença de Parkinson afeta a forma como diferentes regiões do cérebro se conectam, consideramos que a estrutura dos dados pode ser naturalmente representada como um grafo, onde os nós correspondem aos canais (ou regiões cerebrais) e as arestas representam as correlações entre eles.\n",
    "Nesse contexto, uma Graph Neural Network (GNN) se mostrou uma escolha apropriada, pois é capaz de capturar informações estruturais e relacionais entre os canais, indo além do que modelos tradicionais conseguem extrair apenas com entradas vetorizadas ou convolucionais.\n",
    "\n",
    "Nosso objetivo com essa abordagem foi verificar se uma rede que explora diretamente a topologia das conexões cerebrais poderia melhorar a capacidade de distinguir entre pacientes saudáveis, prodrômicos e com Parkinson."
   ]
  },
  {
   "cell_type": "code",
   "execution_count": 1,
   "id": "3bfef93d",
   "metadata": {},
   "outputs": [],
   "source": [
    "%load_ext autoreload"
   ]
  },
  {
   "cell_type": "code",
   "execution_count": 2,
   "id": "49b7c719",
   "metadata": {},
   "outputs": [],
   "source": [
    "import os\n",
    "import parkinson\n",
    "\n",
    "import torch\n",
    "from torch import nn\n",
    "from torch_geometric.data import Data\n",
    "import torch.nn.functional as F\n",
    "from torch_geometric.nn import GCNConv, global_mean_pool, TopKPooling\n",
    "from torch.nn import Linear\n",
    "from torch_geometric.loader import DataLoader\n",
    "from torch.utils.data import WeightedRandomSampler\n",
    "\n",
    "import numpy as np\n",
    "import seaborn as sns\n",
    "import matplotlib.pyplot as plt\n",
    "import networkx as nx\n",
    "\n",
    "from tqdm import tqdm\n",
    "from sklearn.preprocessing import StandardScaler, label_binarize\n",
    "from sklearn.model_selection import StratifiedKFold, train_test_split\n",
    "from sklearn.metrics import confusion_matrix, accuracy_score, f1_score, precision_score, recall_score, roc_auc_score, classification_report\n",
    "from sklearn.utils.class_weight import compute_class_weight"
   ]
  },
  {
   "cell_type": "code",
   "execution_count": 3,
   "id": "0c0bbac7",
   "metadata": {},
   "outputs": [],
   "source": [
    "SAVE_PATH = '../outputs/3_gnn'"
   ]
  },
  {
   "cell_type": "markdown",
   "id": "fe743b1d",
   "metadata": {},
   "source": [
    "## Processamento dos dados"
   ]
  },
  {
   "cell_type": "code",
   "execution_count": 4,
   "id": "3f1e5dcd",
   "metadata": {},
   "outputs": [
    {
     "name": "stderr",
     "output_type": "stream",
     "text": [
      "100%|██████████| 66/66 [00:01<00:00, 41.73it/s]\n",
      "100%|██████████| 153/153 [00:03<00:00, 43.57it/s]\n",
      "100%|██████████| 188/188 [00:04<00:00, 43.65it/s]\n"
     ]
    }
   ],
   "source": [
    "control_data = parkinson.utils.data.batch_read('../data/Controls_columns')\n",
    "parkinson_data = parkinson.utils.data.batch_read('../data/PDs_columns')\n",
    "prodomal_data = parkinson.utils.data.batch_read('../data/Prodomals_columns')"
   ]
  },
  {
   "cell_type": "code",
   "execution_count": 5,
   "id": "77be6a0d",
   "metadata": {},
   "outputs": [],
   "source": [
    "control_atlas_data = parkinson.utils.data.select_atlas_columns(control_data, 'AAL3')\n",
    "parkinson_atlas_data = parkinson.utils.data.select_atlas_columns(parkinson_data, 'AAL3')\n",
    "prodomal_atlas_data = parkinson.utils.data.select_atlas_columns(prodomal_data, 'AAL3')\n",
    "\n",
    "control_correlation_matrix = parkinson.utils.correlation.pearson_correlation(control_atlas_data, return_upper_triangular=False)\n",
    "parkinson_correlation_matrix = parkinson.utils.correlation.pearson_correlation(parkinson_atlas_data, return_upper_triangular=False)\n",
    "prodomal_correlation_matrix = parkinson.utils.correlation.pearson_correlation(prodomal_atlas_data, return_upper_triangular=False)\n",
    "\n",
    "X = parkinson.utils.data.concatenate_data(control_correlation_matrix, parkinson_correlation_matrix, prodomal_correlation_matrix)\n",
    "y = parkinson.utils.data.concatenate_data([0 for _ in range(len(control_data))], [1 for _ in range(len(parkinson_data))], [2 for _ in range(len(prodomal_data))])\n",
    "X_matrix, y = parkinson.utils.data.filter_data(X, y)"
   ]
  },
  {
   "cell_type": "code",
   "execution_count": 6,
   "id": "8a38ccc1",
   "metadata": {},
   "outputs": [],
   "source": [
    "all_matrices = control_correlation_matrix + parkinson_correlation_matrix + prodomal_correlation_matrix\n",
    "X_features = np.array(all_matrices)"
   ]
  },
  {
   "cell_type": "markdown",
   "id": "17de704b",
   "metadata": {},
   "source": [
    "-----------"
   ]
  },
  {
   "cell_type": "markdown",
   "id": "8d948794",
   "metadata": {},
   "source": [
    "## Computando OMST para todos os pacientes"
   ]
  },
  {
   "cell_type": "code",
   "execution_count": 7,
   "id": "fd46022f",
   "metadata": {},
   "outputs": [
    {
     "name": "stderr",
     "output_type": "stream",
     "text": [
      "100%|██████████| 66/66 [00:18<00:00,  3.60it/s]\n"
     ]
    }
   ],
   "source": [
    "Control_omst_graphs = []\n",
    "if os.path.exists('../data/Control_OMSTs'):\n",
    "    Control_omst_graphs = parkinson.graph.utils.load_graphs('../data/Control_OMSTs')\n",
    "else:\n",
    "    for i in tqdm(range(len(control_correlation_matrix))):\n",
    "        adj = control_correlation_matrix[i].copy()\n",
    "        omst_builder = parkinson.graph.OMSTBuilder(adj)\n",
    "        omst_builder.build(verbose=False)\n",
    "        Control_omst_graphs.append(omst_builder.final_graph.to_undirected())"
   ]
  },
  {
   "cell_type": "code",
   "execution_count": 8,
   "id": "4d365786",
   "metadata": {},
   "outputs": [
    {
     "name": "stderr",
     "output_type": "stream",
     "text": [
      "100%|██████████| 188/188 [00:59<00:00,  3.18it/s]\n"
     ]
    }
   ],
   "source": [
    "Prodomal_omst_graphs = []\n",
    "if os.path.exists('../data/Prodomal_OMSTs'):\n",
    "    Prodomal_omst_graphs = parkinson.graph.utils.load_graphs('../data/Prodomal_OMSTs')\n",
    "else:\n",
    "    for i in tqdm(range(len(prodomal_correlation_matrix))):\n",
    "        adj = prodomal_correlation_matrix[i].copy()\n",
    "        omst_builder = parkinson.graph.OMSTBuilder(adj)\n",
    "        omst_builder.build(verbose=False)\n",
    "        Prodomal_omst_graphs.append(omst_builder.final_graph.to_undirected())"
   ]
  },
  {
   "cell_type": "code",
   "execution_count": 9,
   "id": "c31ad293",
   "metadata": {},
   "outputs": [
    {
     "name": "stderr",
     "output_type": "stream",
     "text": [
      "100%|██████████| 153/153 [00:46<00:00,  3.28it/s]\n"
     ]
    }
   ],
   "source": [
    "Parkinson_omst_graphs = []\n",
    "if os.path.exists('../data/Parkinson_OMSTs'):\n",
    "    Parkinson_omst_graphs = parkinson.graph.utils.load_graphs('../data/Parkinson_OMSTs')\n",
    "else:\n",
    "    for i in tqdm(range(len(parkinson_correlation_matrix))):\n",
    "        adj = parkinson_correlation_matrix[i].copy()\n",
    "        omst_builder = parkinson.graph.OMSTBuilder(adj)\n",
    "        omst_builder.build(verbose=False)\n",
    "        Parkinson_omst_graphs.append(omst_builder.final_graph.to_undirected())"
   ]
  },
  {
   "cell_type": "markdown",
   "id": "ec25ad71",
   "metadata": {},
   "source": [
    "## Construção das Node Features\n",
    "\n",
    "Vamos usar a abordagem 'Connection Profile'. Um \"connection profile\" para um nó simples (um ROI) é seu padrão único de conectividade com os outros nós do cérebro. Em termos práticos, corresponde a uma linha (ou coluna, pois a matriz é simétrica) da matriz de conectividade fncional."
   ]
  },
  {
   "cell_type": "code",
   "execution_count": 10,
   "id": "97696ebe",
   "metadata": {},
   "outputs": [
    {
     "name": "stderr",
     "output_type": "stream",
     "text": [
      "Creating PyG Data Objects: 100%|██████████| 407/407 [00:00<00:00, 1137.30it/s]\n"
     ]
    }
   ],
   "source": [
    "def to_pyg_data(graph: nx.Graph, feature_matrix: np.ndarray, label: int) -> Data:\n",
    "    \"\"\"Converts a NetworkX graph and features into a PyTorch Geometric Data object.\"\"\"\n",
    "    x = torch.tensor(feature_matrix, dtype=torch.float)\n",
    "\n",
    "    edge_index = torch.tensor(list(graph.edges), dtype=torch.long).t().contiguous()\n",
    "\n",
    "    edge_attr = torch.tensor([graph[u][v]['weight'] for u, v in graph.edges], dtype=torch.float)\n",
    "\n",
    "    y = torch.tensor([label], dtype=torch.long)\n",
    "\n",
    "    return Data(x=x, edge_index=edge_index, edge_attr=edge_attr, y=y)\n",
    "\n",
    "# --- Create the PyG dataset ---\n",
    "pyg_dataset = []\n",
    "for i, graph in enumerate(tqdm(Control_omst_graphs + Prodomal_omst_graphs + Parkinson_omst_graphs, desc=\"Creating PyG Data Objects\")):\n",
    "    pyg_data_point = to_pyg_data(graph, X_features[i], y[i])\n",
    "    pyg_dataset.append(pyg_data_point)"
   ]
  },
  {
   "cell_type": "code",
   "execution_count": 11,
   "id": "d78bfc7e",
   "metadata": {},
   "outputs": [],
   "source": [
    "for g in pyg_dataset:\n",
    "    g.x = torch.nan_to_num(g.x, nan=0.0)"
   ]
  },
  {
   "cell_type": "markdown",
   "id": "7859cdb0",
   "metadata": {},
   "source": [
    "------"
   ]
  },
  {
   "cell_type": "markdown",
   "id": "ba227b93",
   "metadata": {},
   "source": [
    "## Construindo a GNN"
   ]
  },
  {
   "cell_type": "code",
   "execution_count": 12,
   "id": "ac857274",
   "metadata": {},
   "outputs": [],
   "source": [
    "class GCNNet(torch.nn.Module):\n",
    "    def __init__(self, in_channels, hidden_channels, num_classes, dropout=0.4):\n",
    "        super(GCNNet, self).__init__()\n",
    "        self.conv1 = GCNConv(in_channels, hidden_channels)\n",
    "        self.lin = torch.nn.Linear(hidden_channels, num_classes)\n",
    "        self.dropout = dropout\n",
    "\n",
    "    def forward(self, x, edge_index, edge_attr, batch):\n",
    "        x = F.relu(self.conv1(x, edge_index, edge_weight=edge_attr))\n",
    "        x = F.dropout(x, p=self.dropout, training=self.training)\n",
    "        x = global_mean_pool(x, batch)\n",
    "        x = self.lin(x)\n",
    "        return x"
   ]
  },
  {
   "cell_type": "markdown",
   "id": "a9735400",
   "metadata": {},
   "source": [
    "## Treinamento"
   ]
  },
  {
   "cell_type": "code",
   "execution_count": 13,
   "id": "9f932a13",
   "metadata": {},
   "outputs": [],
   "source": [
    "# --- Training & Evaluation Functions ---\n",
    "def train_epoch(model, loader, optimizer, criterion, device):\n",
    "    model.train()\n",
    "    total_loss = 0\n",
    "    # CORRECTED LOOP: Iterate over a single 'batch' object\n",
    "    for batch in loader:\n",
    "        batch = batch.to(device)\n",
    "        optimizer.zero_grad()\n",
    "        out = model(batch.x, batch.edge_index, batch.edge_attr, batch.batch)\n",
    "        loss = criterion(out, batch.y)\n",
    "        loss.backward()\n",
    "        optimizer.step()\n",
    "        total_loss += loss.item() * batch.num_graphs\n",
    "    return total_loss / len(loader.dataset)\n",
    "\n",
    "@torch.no_grad()\n",
    "def evaluate(model, loader, device, num_classes=3):\n",
    "    model.eval()\n",
    "    logits_list, y_true_list = [], []\n",
    "    # CORRECTED LOOP\n",
    "    for batch in loader:\n",
    "        batch = batch.to(device)\n",
    "        logits = model(batch.x, batch.edge_index, batch.edge_attr, batch.batch)\n",
    "        logits_list.append(logits.cpu())\n",
    "        y_true_list.append(batch.y.cpu())\n",
    "\n",
    "    y_pred_logits = torch.cat(logits_list)\n",
    "    y_true = torch.cat(y_true_list)\n",
    "    probs = F.softmax(y_pred_logits, dim=1).numpy();\n",
    "    preds = y_pred_logits.argmax(dim=1).numpy()\n",
    "\n",
    "    # Calculate metrics\n",
    "    acc = accuracy_score(y_true, preds)\n",
    "    f1 = f1_score(y_true, preds, average='weighted', zero_division=0)\n",
    "    true_bin = label_binarize(y_true, classes=list(range(num_classes)))\n",
    "    auc = roc_auc_score(true_bin, probs, multi_class='ovr', average='weighted')\n",
    "    return acc, f1, auc, y_true.numpy(), preds"
   ]
  },
  {
   "cell_type": "code",
   "execution_count": 14,
   "id": "b297fd43",
   "metadata": {},
   "outputs": [],
   "source": [
    "DEVICE = torch.device('cuda' if torch.cuda.is_available() else 'cpu')\n",
    "NUM_CLASSES = 3\n",
    "LEARNING_RATE = 0.001\n",
    "WEIGHT_DECAY = 5e-4\n",
    "BATCH_SIZE = 32\n",
    "EPOCHS = 100\n",
    "PATIENCE = 10"
   ]
  },
  {
   "cell_type": "code",
   "execution_count": 15,
   "id": "161d4ea9",
   "metadata": {},
   "outputs": [],
   "source": [
    "X_trainval, X_test, y_trainval, y_test = train_test_split(pyg_dataset, y, test_size=0.2, random_state=42, stratify=y)\n",
    "X_train, X_val, y_train, y_val = train_test_split(X_trainval, y_trainval, test_size=0.25, random_state=42, stratify=y_trainval)\n",
    "\n",
    "# Weighted sampler para lidar com desbalanceamento\n",
    "class_counts = np.bincount(y_train)\n",
    "class_weights = 1. / class_counts\n",
    "sample_weights = np.array([class_weights[label] for label in y_train])\n",
    "sampler = WeightedRandomSampler(sample_weights, len(sample_weights), replacement=True)\n",
    "\n",
    "train_loader = DataLoader(X_train, batch_size=32, sampler=sampler)\n",
    "val_loader = DataLoader(X_val, batch_size=32, shuffle=False)\n",
    "test_loader = DataLoader(X_test, batch_size=32, shuffle=False)"
   ]
  },
  {
   "cell_type": "code",
   "execution_count": 16,
   "id": "bf8147f3",
   "metadata": {},
   "outputs": [
    {
     "name": "stdout",
     "output_type": "stream",
     "text": [
      "--- Starting Training on cuda ---\n",
      "Epoch: 01 | Loss: 1.0952 | Val Acc: 0.3780 | Val AUC: 0.4767\n",
      "  -> New best model saved with Val AUC: 0.4767\n",
      "Epoch: 02 | Loss: 1.0932 | Val Acc: 0.3659 | Val AUC: 0.4786\n",
      "  -> New best model saved with Val AUC: 0.4786\n",
      "Epoch: 03 | Loss: 1.0889 | Val Acc: 0.3659 | Val AUC: 0.4746\n",
      "Epoch: 04 | Loss: 1.1005 | Val Acc: 0.3780 | Val AUC: 0.4819\n",
      "  -> New best model saved with Val AUC: 0.4819\n",
      "Epoch: 05 | Loss: 1.0883 | Val Acc: 0.3780 | Val AUC: 0.4836\n",
      "  -> New best model saved with Val AUC: 0.4836\n",
      "Epoch: 06 | Loss: 1.0845 | Val Acc: 0.4146 | Val AUC: 0.4841\n",
      "  -> New best model saved with Val AUC: 0.4841\n",
      "Epoch: 07 | Loss: 1.0797 | Val Acc: 0.4024 | Val AUC: 0.4886\n",
      "  -> New best model saved with Val AUC: 0.4886\n",
      "Epoch: 08 | Loss: 1.0786 | Val Acc: 0.4634 | Val AUC: 0.4950\n",
      "  -> New best model saved with Val AUC: 0.4950\n",
      "Epoch: 09 | Loss: 1.0701 | Val Acc: 0.4634 | Val AUC: 0.4981\n",
      "  -> New best model saved with Val AUC: 0.4981\n",
      "Epoch: 10 | Loss: 1.0769 | Val Acc: 0.4146 | Val AUC: 0.4993\n",
      "  -> New best model saved with Val AUC: 0.4993\n",
      "Epoch: 11 | Loss: 1.0637 | Val Acc: 0.3780 | Val AUC: 0.4990\n",
      "Epoch: 12 | Loss: 1.0710 | Val Acc: 0.3780 | Val AUC: 0.5038\n",
      "  -> New best model saved with Val AUC: 0.5038\n",
      "Epoch: 13 | Loss: 1.0726 | Val Acc: 0.3780 | Val AUC: 0.5127\n",
      "  -> New best model saved with Val AUC: 0.5127\n",
      "Epoch: 14 | Loss: 1.0563 | Val Acc: 0.3537 | Val AUC: 0.5185\n",
      "  -> New best model saved with Val AUC: 0.5185\n",
      "Epoch: 15 | Loss: 1.0647 | Val Acc: 0.3902 | Val AUC: 0.5208\n",
      "  -> New best model saved with Val AUC: 0.5208\n",
      "Epoch: 16 | Loss: 1.0521 | Val Acc: 0.4024 | Val AUC: 0.5244\n",
      "  -> New best model saved with Val AUC: 0.5244\n",
      "Epoch: 17 | Loss: 1.0427 | Val Acc: 0.4390 | Val AUC: 0.5202\n",
      "Epoch: 18 | Loss: 1.0658 | Val Acc: 0.4146 | Val AUC: 0.5218\n",
      "Epoch: 19 | Loss: 1.0330 | Val Acc: 0.3659 | Val AUC: 0.5197\n",
      "Epoch: 20 | Loss: 1.0443 | Val Acc: 0.3537 | Val AUC: 0.5213\n",
      "Epoch: 21 | Loss: 1.0438 | Val Acc: 0.3293 | Val AUC: 0.5207\n",
      "Epoch: 22 | Loss: 1.0335 | Val Acc: 0.2317 | Val AUC: 0.5215\n",
      "Epoch: 23 | Loss: 1.0365 | Val Acc: 0.2439 | Val AUC: 0.5220\n",
      "Epoch: 24 | Loss: 1.0314 | Val Acc: 0.2195 | Val AUC: 0.5226\n",
      "Epoch: 25 | Loss: 1.0325 | Val Acc: 0.2439 | Val AUC: 0.5227\n",
      "Epoch: 26 | Loss: 1.0255 | Val Acc: 0.2927 | Val AUC: 0.5233\n",
      "--- Early stopping triggered after 26 epochs. ---\n",
      "\n",
      "--- Training Finished ---\n"
     ]
    }
   ],
   "source": [
    "model = GCNNet(\n",
    "    in_channels=pyg_dataset[0].num_node_features,\n",
    "    hidden_channels=16, # Hyperparameter to tune\n",
    "    num_classes=NUM_CLASSES,\n",
    "    dropout=0.4 # Hyperparameter to tune\n",
    ").to(DEVICE)\n",
    "\n",
    "optimizer = torch.optim.Adam(model.parameters(), lr=LEARNING_RATE, weight_decay=WEIGHT_DECAY)\n",
    "criterion = torch.nn.CrossEntropyLoss()\n",
    "\n",
    "best_val_auc = 0\n",
    "patience_counter = 0\n",
    "os.makedirs('../weights/3_gnn_corrected/', exist_ok=True)\n",
    "model_save_path = '../weights/3_gnn_corrected/best_model.pt'\n",
    "\n",
    "print(f\"--- Starting Training on {DEVICE} ---\")\n",
    "for epoch in range(1, EPOCHS + 1):\n",
    "    loss = train_epoch(model, train_loader, optimizer, criterion, DEVICE)\n",
    "    val_acc, val_f1, val_auc, _, _ = evaluate(model, val_loader, DEVICE)\n",
    "\n",
    "    print(f\"Epoch: {epoch:02d} | Loss: {loss:.4f} | Val Acc: {val_acc:.4f} | Val AUC: {val_auc:.4f}\")\n",
    "\n",
    "    if val_auc > best_val_auc:\n",
    "        best_val_auc = val_auc\n",
    "        torch.save(model.state_dict(), model_save_path)\n",
    "        print(f\"  -> New best model saved with Val AUC: {best_val_auc:.4f}\")\n",
    "        patience_counter = 0\n",
    "    else:\n",
    "        patience_counter += 1\n",
    "        if patience_counter >= PATIENCE:\n",
    "            print(f\"--- Early stopping triggered after {epoch} epochs. ---\")\n",
    "            break\n",
    "\n",
    "print(\"\\n--- Training Finished ---\")"
   ]
  },
  {
   "cell_type": "code",
   "execution_count": 17,
   "id": "bd74099b",
   "metadata": {},
   "outputs": [
    {
     "name": "stdout",
     "output_type": "stream",
     "text": [
      "\n",
      "--- Evaluating on Test Set ---\n",
      "\n",
      "Test Accuracy: 0.4878\n",
      "Test F1-Score (Weighted): 0.4845\n",
      "Test ROC-AUC (Weighted OVR): 0.5953\n",
      "\n",
      "Classification Report:\n",
      "              precision    recall  f1-score   support\n",
      "\n",
      "     Control       0.36      0.31      0.33        13\n",
      "   Prodromal       0.50      0.58      0.54        31\n",
      " Parkinson's       0.51      0.47      0.49        38\n",
      "\n",
      "    accuracy                           0.49        82\n",
      "   macro avg       0.46      0.45      0.45        82\n",
      "weighted avg       0.49      0.49      0.48        82\n",
      "\n",
      "Confusion Matrix:\n"
     ]
    },
    {
     "data": {
      "image/png": "[encoded data removed]",
      "text/plain": [
       "<Figure size 640x480 with 2 Axes>"
      ]
     },
     "metadata": {},
     "output_type": "display_data"
    }
   ],
   "source": [
    "# --- Final Evaluation on the Test Set ---\n",
    "print(\"\\n--- Evaluating on Test Set ---\")\n",
    "model.load_state_dict(torch.load(model_save_path))\n",
    "test_acc, test_f1, test_auc, y_true, y_pred = evaluate(model, test_loader, DEVICE)\n",
    "\n",
    "print(f\"\\nTest Accuracy: {test_acc:.4f}\")\n",
    "print(f\"Test F1-Score (Weighted): {test_f1:.4f}\")\n",
    "print(f\"Test ROC-AUC (Weighted OVR): {test_auc:.4f}\")\n",
    "\n",
    "# --- Classification Report and Confusion Matrix ---\n",
    "target_names = ['Control', 'Prodromal', 'Parkinson\\'s']\n",
    "print(\"\\nClassification Report:\")\n",
    "print(classification_report(y_true, y_pred, target_names=target_names, zero_division=0))\n",
    "\n",
    "print(\"Confusion Matrix:\")\n",
    "cm = confusion_matrix(y_true, y_pred)\n",
    "sns.heatmap(cm, annot=True, fmt='d', cmap='Blues', xticklabels=target_names, yticklabels=target_names)\n",
    "plt.xlabel(\"Predicted Label\")\n",
    "plt.ylabel(\"True Label\")\n",
    "plt.title(\"Confusion Matrix\")\n",
    "plt.show()"
   ]
  }
 ],
 "metadata": {
  "kernelspec": {
   "display_name": "parkinson-py3.12",
   "language": "python",
   "name": "python3"
  },
  "language_info": {
   "codemirror_mode": {
    "name": "ipython",
    "version": 3
   },
   "file_extension": ".py",
   "mimetype": "text/x-python",
   "name": "python",
   "nbconvert_exporter": "python",
   "pygments_lexer": "ipython3",
   "version": "3.12.2"
  }
 },
 "nbformat": 4,
 "nbformat_minor": 5
}
