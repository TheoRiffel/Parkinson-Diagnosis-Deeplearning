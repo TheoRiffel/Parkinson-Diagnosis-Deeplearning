{
 "cells": [
  {
   "cell_type": "markdown",
   "id": "fc7b43c2",
   "metadata": {},
   "source": [
    "# Node2Vec\n",
    "\n",
    "Não deu muito certo. O treinamento demora bastante"
   ]
  },
  {
   "cell_type": "code",
   "execution_count": 66,
   "id": "f10d2033",
   "metadata": {},
   "outputs": [],
   "source": [
    "import os\n",
    "\n",
    "import pandas as pd\n",
    "import networkx as nx\n",
    "import numpy as np\n",
    "import seaborn as sns\n",
    "\n",
    "from fastdtw import fastdtw\n",
    "from tqdm import tqdm\n",
    "from node2vec import Node2Vec\n",
    "from sklearn.neural_network import MLPClassifier\n",
    "from sklearn.model_selection import train_test_split, RandomizedSearchCV\n",
    "from scipy.spatial.distance import euclidean"
   ]
  },
  {
   "cell_type": "code",
   "execution_count": 2,
   "id": "d7628160",
   "metadata": {},
   "outputs": [],
   "source": [
    "def batch_read(path: str) -> list[pd.DataFrame]:\n",
    "    df_list = []\n",
    "    for file in tqdm(os.listdir(path)):\n",
    "        df = pd.read_csv(f'{path}/{file}')\n",
    "        df_list.append(df)\n",
    "    return df_list"
   ]
  },
  {
   "cell_type": "code",
   "execution_count": 3,
   "id": "6f41a9b6",
   "metadata": {},
   "outputs": [
    {
     "name": "stderr",
     "output_type": "stream",
     "text": [
      "100%|██████████| 66/66 [00:03<00:00, 17.74it/s]\n"
     ]
    }
   ],
   "source": [
    "control_data = batch_read('../data/Controls_columns')"
   ]
  },
  {
   "cell_type": "code",
   "execution_count": 4,
   "id": "2042221d",
   "metadata": {},
   "outputs": [
    {
     "name": "stderr",
     "output_type": "stream",
     "text": [
      "100%|██████████| 113/113 [00:06<00:00, 18.38it/s]\n"
     ]
    }
   ],
   "source": [
    "parkinson_data = batch_read('../data/PDs_columns')"
   ]
  },
  {
   "cell_type": "code",
   "execution_count": 5,
   "id": "04a8806d",
   "metadata": {},
   "outputs": [
    {
     "data": {
      "text/plain": [
       "array(['AAL3', 'CSF', 'Grey Matter', 'Shen_268', 'White Matter', 'atlas',\n",
       "       'networks'], dtype='<U12')"
      ]
     },
     "execution_count": 5,
     "metadata": {},
     "output_type": "execute_result"
    }
   ],
   "source": [
    "np.unique([column.split('.')[0] for column in parkinson_data[0].columns])"
   ]
  },
  {
   "cell_type": "markdown",
   "id": "2655c0e7",
   "metadata": {},
   "source": [
    "Os atlas possíveis são AAL3, Shen_268 e atlas. Cada atlas particiona o cérebro de maneiras diferentes. Devemos selecionar as colunas correspondentes para aplicar o processamento"
   ]
  },
  {
   "cell_type": "code",
   "execution_count": 6,
   "id": "7785175c",
   "metadata": {},
   "outputs": [
    {
     "data": {
      "text/plain": [
       "Index(['AAL3.cluster001', 'AAL3.cluster002', 'AAL3.cluster003',\n",
       "       'AAL3.cluster004', 'AAL3.cluster005'],\n",
       "      dtype='object')"
      ]
     },
     "execution_count": 6,
     "metadata": {},
     "output_type": "execute_result"
    }
   ],
   "source": [
    "all_columns = parkinson_data[0].columns\n",
    "AAL3_columns = all_columns[np.where([column.split('.')[0] == 'AAL3' for column in all_columns])[0]]\n",
    "AAL3_columns[:5]"
   ]
  },
  {
   "cell_type": "code",
   "execution_count": null,
   "id": "9c9216d3",
   "metadata": {},
   "outputs": [],
   "source": [
    "control_AAL3_data = [data[AAL3_columns] for data in control_data]\n",
    "parkinson_AAL3_data = [data[AAL3_columns] for data in parkinson_data]"
   ]
  },
  {
   "cell_type": "markdown",
   "id": "4f73063b",
   "metadata": {},
   "source": [
    "## Create Graphs\n",
    "\n",
    "Demora muito para calcular a rede funcional com DTW, portanto vamos utilizar Pearson"
   ]
  },
  {
   "cell_type": "code",
   "execution_count": 12,
   "id": "be62fac0",
   "metadata": {},
   "outputs": [
    {
     "data": {
      "text/plain": [
       "(240, 166)"
      ]
     },
     "execution_count": 12,
     "metadata": {},
     "output_type": "execute_result"
    }
   ],
   "source": [
    "parkinson_AAL3_data[0].shape"
   ]
  },
  {
   "cell_type": "code",
   "execution_count": 78,
   "id": "5c664052",
   "metadata": {},
   "outputs": [],
   "source": [
    "AAL3_data = np.concatenate([\n",
    "    parkinson_AAL3_data,\n",
    "    control_AAL3_data\n",
    "], axis=0)"
   ]
  },
  {
   "cell_type": "code",
   "execution_count": 94,
   "id": "fe03f12a",
   "metadata": {},
   "outputs": [],
   "source": [
    "y = np.concatenate([\n",
    "    [1 for _ in range(len(parkinson_data))],\n",
    "    [0 for _ in range(len(control_data))]\n",
    "])"
   ]
  },
  {
   "cell_type": "code",
   "execution_count": 96,
   "id": "337e6ffd",
   "metadata": {},
   "outputs": [
    {
     "name": "stdout",
     "output_type": "stream",
     "text": [
      "(179, 240, 166) (179,)\n"
     ]
    }
   ],
   "source": [
    "print(AAL3_data.shape, y.shape)"
   ]
  },
  {
   "cell_type": "code",
   "execution_count": 91,
   "id": "03ffa664",
   "metadata": {},
   "outputs": [],
   "source": [
    "def get_connectivity_graph(time_series: np.array, threshold: float = 0.15) -> nx.Graph:\n",
    "    if threshold <= 0 or threshold > 1:\n",
    "        raise ValueError(f'Threshold should be a value between 0 and 1. Got {threshold}')\n",
    "    \n",
    "    correlation_matrix = np.corrcoef(time_series)\n",
    "    adjacency_matrix = correlation_matrix - np.eye(len(correlation_matrix)) # remove selfloops\n",
    "\n",
    "    adjacency_matrix[np.abs(adjacency_matrix) > threshold] = 1\n",
    "    adjacency_matrix[np.abs(adjacency_matrix) <= threshold] = 0\n",
    "\n",
    "    connectivity_graph = nx.from_numpy_array(adjacency_matrix)\n",
    "\n",
    "    return connectivity_graph"
   ]
  },
  {
   "cell_type": "code",
   "execution_count": 92,
   "id": "ba834614",
   "metadata": {},
   "outputs": [
    {
     "name": "stderr",
     "output_type": "stream",
     "text": [
      "  0%|          | 0/179 [00:31<?, ?it/s]\n",
      "100%|██████████| 179/179 [00:16<00:00, 10.80it/s]\n"
     ]
    }
   ],
   "source": [
    "connectivity_graphs = [get_connectivity_graph(time_series) for time_series in tqdm(AAL3_data)]"
   ]
  },
  {
   "cell_type": "markdown",
   "id": "3f5a468f",
   "metadata": {},
   "source": [
    "### Node2Vec\n",
    "\n",
    "Vamos utilizar como uma ferramenta para Embeddar os grafos"
   ]
  },
  {
   "cell_type": "code",
   "execution_count": 104,
   "id": "0b624253",
   "metadata": {},
   "outputs": [],
   "source": [
    "def get_graph_embeddings(graph: nx.Graph) -> np.array:\n",
    "    node2vec = Node2Vec(\n",
    "        graph, \n",
    "        dimensions=5,\n",
    "        walk_length=10,\n",
    "        num_walks=10,\n",
    "        workers=2,\n",
    "        quiet=True\n",
    "    ).fit(\n",
    "        window=10,\n",
    "        min_count=1,\n",
    "        batch_words=4\n",
    "    )\n",
    "\n",
    "    embeddings = node2vec.wv.vectors\n",
    "\n",
    "    return embeddings"
   ]
  },
  {
   "cell_type": "code",
   "execution_count": 106,
   "id": "7e7b7456",
   "metadata": {},
   "outputs": [
    {
     "name": "stderr",
     "output_type": "stream",
     "text": [
      "\n",
      "\n",
      "\u001b[A\u001b[A\n",
      "\n",
      "\u001b[A\u001b[A\n",
      "\n",
      "\u001b[A\u001b[A\n",
      "\n",
      "\u001b[A\u001b[A\n",
      "\n",
      "\u001b[A\u001b[A\n",
      "\n",
      "\u001b[A\u001b[A\n",
      "\n",
      "\u001b[A\u001b[A\n",
      "\n",
      "\u001b[A\u001b[A\n",
      "\n",
      "\u001b[A\u001b[A\n",
      "\n",
      "\u001b[A\u001b[A\n",
      "\n",
      "\u001b[A\u001b[A\n",
      "\n",
      "\u001b[A\u001b[A\n",
      "\n",
      "\u001b[A\u001b[A\n",
      "\n",
      "\u001b[A\u001b[A\n",
      "\n",
      "\u001b[A\u001b[A\n",
      "\n",
      "\u001b[A\u001b[A\n",
      "\n",
      "\u001b[A\u001b[A\n",
      "\n",
      "\u001b[A\u001b[A\n",
      "\n",
      "\u001b[A\u001b[A\n",
      "\n",
      "\u001b[A\u001b[A\n",
      "\n",
      "\u001b[A\u001b[A\n",
      "\n",
      "\u001b[A\u001b[A\n",
      "\n",
      "\u001b[A\u001b[A\n",
      "\n",
      "\u001b[A\u001b[A\n",
      "\n",
      "\u001b[A\u001b[A\n",
      "\n",
      "\u001b[A\u001b[A\n",
      "\n",
      "\u001b[A\u001b[A\n",
      "\n",
      "\u001b[A\u001b[A\n",
      "\n",
      "\u001b[A\u001b[A\n",
      "\n",
      "\u001b[A\u001b[A\n",
      "\n",
      "\u001b[A\u001b[A\n",
      "\n",
      "\u001b[A\u001b[A\n",
      "\n",
      "\u001b[A\u001b[A\n",
      "\n",
      "\u001b[A\u001b[A\n",
      "\n",
      "\u001b[A\u001b[A\n",
      "\n",
      "\u001b[A\u001b[A\n",
      "\n",
      "\u001b[A\u001b[A\n",
      "\n",
      "\u001b[A\u001b[A\n",
      "\n",
      "\u001b[A\u001b[A\n",
      "\n",
      "\u001b[A\u001b[A\n",
      "\n",
      "\u001b[A\u001b[A\n",
      "\n",
      "\u001b[A\u001b[A\n",
      "\n",
      "\u001b[A\u001b[A\n",
      "\n",
      "\u001b[A\u001b[A\n",
      "\n",
      "\u001b[A\u001b[A\n",
      "\n",
      "\u001b[A\u001b[A\n",
      "\n",
      "\u001b[A\u001b[A\n",
      "\n",
      "\u001b[A\u001b[A\n",
      "\n",
      "  0%|          | 0/179 [13:01<?, ?it/s]\n",
      "  1%|          | 2/179 [08:26<12:27:14, 253.30s/it]\n",
      "\n",
      "\n",
      "\u001b[A\u001b[A\n",
      "\n",
      "\u001b[A\u001b[A\n",
      "\n",
      "\u001b[A\u001b[A\n",
      "\n",
      "\u001b[A\u001b[A\n",
      "\n",
      "\u001b[A\u001b[A\n",
      "\n",
      "\u001b[A\u001b[A\n",
      "\n",
      "\u001b[A\u001b[A\n",
      "\n",
      "\u001b[A\u001b[A\n",
      "\n",
      "\u001b[A\u001b[A\n",
      "\n",
      "\u001b[A\u001b[A\n",
      "\n",
      "\u001b[A\u001b[A\n",
      "\n",
      "\u001b[A\u001b[A\n",
      "\n",
      "\u001b[A\u001b[A\n",
      "\n",
      "\u001b[A\u001b[A\n",
      "\n",
      "\u001b[A\u001b[A\n",
      "\n",
      "\u001b[A\u001b[A\n",
      "\n",
      "\u001b[A\u001b[A\n",
      "\n",
      "\u001b[A\u001b[A\n",
      "\n",
      "\u001b[A\u001b[A\n",
      "\n",
      "\u001b[A\u001b[A\n",
      "\n",
      "\u001b[A\u001b[A\n",
      "\n",
      "\u001b[A\u001b[A\n",
      "\n",
      "\u001b[A\u001b[A\n",
      "\n",
      "\u001b[A\u001b[A\n",
      "\n",
      "\u001b[A\u001b[A\n",
      "\n",
      "\u001b[A\u001b[A\n",
      "\n",
      "\u001b[A\u001b[A\n",
      "\n",
      "\u001b[A\u001b[A\n",
      "\n",
      "\u001b[A\u001b[A\n",
      "\n",
      "\u001b[A\u001b[A\n",
      "\n",
      "\u001b[A\u001b[A\n",
      "\n",
      "\u001b[A\u001b[A\n",
      "\n",
      "\u001b[A\u001b[A\n",
      "\n",
      "\u001b[A\u001b[A\n",
      "\n",
      "\u001b[A\u001b[A\n",
      "\n",
      "\u001b[A\u001b[A\n",
      "\n",
      "\u001b[A\u001b[A\n",
      "\n",
      "\u001b[A\u001b[A\n",
      "\n",
      "\u001b[A\u001b[A\n",
      "\n",
      "\u001b[A\u001b[A\n",
      "\n",
      "\u001b[A\u001b[A\n",
      "\n",
      "\u001b[A\u001b[A\n",
      "\n",
      "\u001b[A\u001b[A\n",
      "\n",
      "\u001b[A\u001b[A\n",
      "\n",
      "\u001b[A\u001b[A\n",
      "\n",
      "\u001b[A\u001b[A\n",
      "\n",
      "\u001b[A\u001b[A\n",
      "\n",
      "\u001b[A\u001b[A\n",
      "\n",
      "\u001b[A\u001b[A\n",
      "\n",
      "\u001b[A\u001b[A\n",
      "\n",
      "\u001b[A\u001b[A\n",
      "\n",
      "\u001b[A\u001b[A\n",
      "\n",
      "\u001b[A\u001b[A\n",
      "\n",
      "\u001b[A\u001b[A\n",
      "\n",
      "\u001b[A\u001b[A\n",
      "\n",
      "\u001b[A\u001b[A\n",
      "\n",
      "\u001b[A\u001b[A\n",
      "\n",
      "\u001b[A\u001b[A\n",
      "\n",
      "\u001b[A\u001b[A\n",
      "\n",
      "\u001b[A\u001b[A\n",
      "\n",
      "\u001b[A\u001b[A\n",
      "\n",
      "\u001b[A\u001b[A\n",
      "\n",
      "\u001b[A\u001b[A\n",
      "\n",
      "\u001b[A\u001b[A\n",
      "\n",
      "\u001b[A\u001b[A\n",
      "\n",
      "\u001b[A\u001b[A\n",
      "\n",
      "\u001b[A\u001b[A\n",
      "\n",
      "\u001b[A\u001b[A\n",
      "\n",
      "\u001b[A\u001b[A\n",
      "\n",
      "\u001b[A\u001b[A\n",
      "\n",
      "\u001b[A\u001b[A\n",
      "\n",
      "\u001b[A\u001b[A\n",
      "\n",
      "\u001b[A\u001b[A\n",
      "\n",
      "\u001b[A\u001b[A\n",
      "\n",
      "\u001b[A\u001b[A\n",
      "\n",
      "\u001b[A\u001b[A\n",
      "\n",
      "\u001b[A\u001b[A\n",
      "\n",
      "\u001b[A\u001b[A\n",
      "\n",
      "\u001b[A\u001b[A\n",
      "\n",
      "\u001b[A\u001b[A\n",
      "\n",
      "\u001b[A\u001b[A\n",
      "\n",
      "\u001b[A\u001b[A\n",
      "\n",
      "\u001b[A\u001b[A\n",
      "\n",
      "\u001b[A\u001b[A\n",
      "\n",
      "\u001b[A\u001b[A\n",
      "\n",
      "\u001b[A\u001b[A\n",
      "\n",
      "\u001b[A\u001b[A\n",
      "\n",
      "\u001b[A\u001b[A\n",
      "\n",
      "\u001b[A\u001b[A\n",
      "\n",
      "\u001b[A\u001b[A\n",
      "\n",
      "\u001b[A\u001b[A\n",
      "\n",
      "\u001b[A\u001b[A\n",
      "\n",
      "\u001b[A\u001b[A\n",
      "\n",
      "\u001b[A\u001b[A\n",
      "\n",
      "\u001b[A\u001b[A\n",
      "\n",
      "\u001b[A\u001b[A\n",
      "\n",
      "\u001b[A\u001b[A\n",
      "\n",
      "\u001b[A\u001b[A\n",
      "\n",
      "\u001b[A\u001b[A\n",
      "\n",
      "\u001b[A\u001b[A\n",
      "\n",
      "\u001b[A\u001b[A\n",
      "\n",
      "\u001b[A\u001b[A\n",
      "\n",
      "\u001b[A\u001b[A\n",
      "\n",
      "\u001b[A\u001b[A\n",
      "\n",
      "\u001b[A\u001b[A\n",
      "\n",
      "\u001b[A\u001b[A\n",
      "\n",
      "\u001b[A\u001b[A\n",
      "\n",
      "\u001b[A\u001b[A\n",
      "\n",
      "\u001b[A\u001b[A\n",
      "\n",
      "\u001b[A\u001b[A\n",
      "\n",
      "\u001b[A\u001b[A\n",
      "\n",
      "\u001b[A\u001b[A\n",
      "\n",
      "\u001b[A\u001b[A\n",
      "\n",
      "\u001b[A\u001b[A\n",
      "\n",
      "\u001b[A\u001b[A\n",
      "\n",
      "\u001b[A\u001b[A\n",
      "\n",
      "\u001b[A\u001b[A\n",
      "\n",
      "\u001b[A\u001b[A\n",
      "\n",
      "\u001b[A\u001b[A\n",
      "\n",
      "\u001b[A\u001b[A\n",
      "\n",
      "\u001b[A\u001b[A\n",
      "\n",
      "\u001b[A\u001b[A\n",
      "\n",
      "\u001b[A\u001b[A\n",
      "\n",
      "\u001b[A\u001b[A\n",
      "\n",
      "\u001b[A\u001b[A\n",
      "\n",
      "\u001b[A\u001b[A\n",
      "\n",
      "\u001b[A\u001b[A\n",
      "\n",
      "\u001b[A\u001b[A\n",
      "\n",
      "\u001b[A\u001b[A\n",
      "\n",
      "\u001b[A\u001b[A\n",
      "\n",
      "100%|██████████| 179/179 [26:50<00:00,  9.00s/it]\n"
     ]
    }
   ],
   "source": [
    "graph_embeddings = [get_graph_embeddings(graph) for graph in tqdm(connectivity_graphs)]"
   ]
  },
  {
   "cell_type": "code",
   "execution_count": 113,
   "id": "64ab6d06",
   "metadata": {},
   "outputs": [],
   "source": [
    "for i, embedding in enumerate(graph_embeddings):\n",
    "    df = pd.DataFrame(embedding)\n",
    "    df.to_csv(f'../data/graph_embeddings/embedding_{i}.csv')"
   ]
  },
  {
   "cell_type": "markdown",
   "id": "24f0abc4",
   "metadata": {},
   "source": [
    "#### Train/Test Split"
   ]
  },
  {
   "cell_type": "code",
   "execution_count": 122,
   "id": "622458a5",
   "metadata": {},
   "outputs": [],
   "source": [
    "flatten_graph_embeddings = [embedding.flatten() for embedding in graph_embeddings]"
   ]
  },
  {
   "cell_type": "code",
   "execution_count": 135,
   "id": "c2d4a205",
   "metadata": {},
   "outputs": [],
   "source": [
    "X_train, X_test, y_train, y_test = train_test_split(flatten_graph_embeddings, y, shuffle=True)"
   ]
  },
  {
   "cell_type": "markdown",
   "id": "1ffe69c4",
   "metadata": {},
   "source": [
    "#### Training"
   ]
  },
  {
   "cell_type": "code",
   "execution_count": 164,
   "id": "6886c60e",
   "metadata": {},
   "outputs": [],
   "source": [
    "grid_params = {\n",
    "    'alpha': np.arange(1e-3, 1e-1, 1e-2),\n",
    "    'learning_rate': ['constant', 'adaptive'],\n",
    "}\n",
    "\n",
    "fixed_parameters = {\n",
    "    'early_stopping': True,\n",
    "    'hidden_layer_sizes': (100),\n",
    "    'activation': 'tanh',\n",
    "    'learning_rate_init': 0.00001\n",
    "}"
   ]
  },
  {
   "cell_type": "code",
   "execution_count": 165,
   "id": "d68a8675",
   "metadata": {},
   "outputs": [
    {
     "data": {
      "text/plain": [
       "{'learning_rate': 'constant', 'alpha': 0.030999999999999996}"
      ]
     },
     "execution_count": 165,
     "metadata": {},
     "output_type": "execute_result"
    }
   ],
   "source": [
    "model = MLPClassifier(**fixed_parameters)\n",
    "hyperparam_optimization = RandomizedSearchCV(model, params, random_state=1)\n",
    "search = hyperparam_optimization.fit(X_train, y_train)\n",
    "search.best_params_"
   ]
  },
  {
   "cell_type": "code",
   "execution_count": 166,
   "id": "ea4602b2",
   "metadata": {},
   "outputs": [
    {
     "data": {
      "text/plain": [
       "0.5777777777777777"
      ]
     },
     "execution_count": 166,
     "metadata": {},
     "output_type": "execute_result"
    }
   ],
   "source": [
    "optimized_model = MLPClassifier(**fixed_parameters, **search.best_params_).fit(X_train, y_train)\n",
    "optimized_model.score(X_test, y_test)"
   ]
  },
  {
   "cell_type": "code",
   "execution_count": 168,
   "id": "7a98d393",
   "metadata": {},
   "outputs": [
    {
     "data": {
      "text/plain": [
       "array([1, 1, 1, 1, 1, 1, 1, 1, 1, 1, 1, 1, 1, 1, 1, 1, 1, 1, 1, 1, 1, 1,\n",
       "       1, 1, 1, 1, 1, 1, 1, 1, 1, 1, 1, 1, 1, 1, 1, 1, 1, 1, 1, 1, 1, 1,\n",
       "       1])"
      ]
     },
     "execution_count": 168,
     "metadata": {},
     "output_type": "execute_result"
    }
   ],
   "source": [
    "optimized_model.predict(X_test)"
   ]
  },
  {
   "cell_type": "markdown",
   "id": "d15c5e60",
   "metadata": {},
   "source": [
    "Not good results with Node2Vec"
   ]
  },
  {
   "cell_type": "markdown",
   "id": "c47e14ab",
   "metadata": {},
   "source": []
  }
 ],
 "metadata": {
  "kernelspec": {
   "display_name": "parkinson",
   "language": "python",
   "name": "python3"
  },
  "language_info": {
   "codemirror_mode": {
    "name": "ipython",
    "version": 3
   },
   "file_extension": ".py",
   "mimetype": "text/x-python",
   "name": "python",
   "nbconvert_exporter": "python",
   "pygments_lexer": "ipython3",
   "version": "3.9.0"
  }
 },
 "nbformat": 4,
 "nbformat_minor": 5
}
