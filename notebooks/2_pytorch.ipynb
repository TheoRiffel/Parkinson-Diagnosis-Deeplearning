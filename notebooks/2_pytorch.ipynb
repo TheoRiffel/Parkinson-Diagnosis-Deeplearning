{
 "cells": [
  {
   "cell_type": "markdown",
   "id": "9533b8be",
   "metadata": {},
   "source": [
    "# Correlation Matrix with Pytorch"
   ]
  },
  {
   "cell_type": "code",
   "execution_count": 1,
   "id": "bd4d47b8",
   "metadata": {},
   "outputs": [],
   "source": [
    "%load_ext autoreload"
   ]
  },
  {
   "cell_type": "code",
   "execution_count": 2,
   "id": "affa8df1",
   "metadata": {},
   "outputs": [],
   "source": [
    "import os\n",
    "import parkinson\n",
    "import torch\n",
    "import time\n",
    "\n",
    "import pandas as pd\n",
    "import networkx as nx\n",
    "import numpy as np\n",
    "\n",
    "from tqdm import tqdm\n",
    "from sklearn.model_selection import train_test_split"
   ]
  },
  {
   "cell_type": "code",
   "execution_count": 3,
   "id": "d28f7899",
   "metadata": {},
   "outputs": [],
   "source": [
    "RDN = 50\n",
    "N_CLASSES = 2\n",
    "BATCH_SIZE = 32"
   ]
  },
  {
   "cell_type": "markdown",
   "id": "7ccc346b",
   "metadata": {},
   "source": [
    "## Data Processing\n",
    "### Reading"
   ]
  },
  {
   "cell_type": "code",
   "execution_count": 4,
   "id": "55b34b47",
   "metadata": {},
   "outputs": [
    {
     "name": "stderr",
     "output_type": "stream",
     "text": [
      "  0%|          | 0/113 [00:00<?, ?it/s]"
     ]
    },
    {
     "name": "stderr",
     "output_type": "stream",
     "text": [
      "100%|██████████| 113/113 [00:07<00:00, 15.52it/s]\n",
      "100%|██████████| 66/66 [00:04<00:00, 15.24it/s]\n"
     ]
    }
   ],
   "source": [
    "parkinson_data = parkinson.utils.data.batch_read('../data/PDs_columns')\n",
    "control_data = parkinson.utils.data.batch_read('../data/Controls_columns')\n",
    "\n",
    "control_atlas_data = parkinson.utils.data.select_atlas_columns(control_data, 'AAL3')\n",
    "parkinson_atlas_data = parkinson.utils.data.select_atlas_columns(parkinson_data, 'AAL3')\n",
    "\n",
    "parkinson_correlation_matrix = [parkinson.utils.graph.compute_correlation_matrix(time_series) for time_series in parkinson_atlas_data]\n",
    "control_correlation_matrix = [parkinson.utils.graph.compute_correlation_matrix(time_series) for time_series in control_atlas_data]\n",
    "\n",
    "X = parkinson.utils.data.concatenate_data(parkinson_correlation_matrix, control_correlation_matrix)\n",
    "y = parkinson.utils.data.concatenate_data([1 for _ in range(len(parkinson_data))], [0 for _ in range(len(control_data))])"
   ]
  },
  {
   "cell_type": "markdown",
   "id": "96b6e49e",
   "metadata": {},
   "source": [
    "### Split  \n",
    "- 60% treino\n",
    "- 20% validação\n",
    "- 20% teste"
   ]
  },
  {
   "cell_type": "code",
   "execution_count": 5,
   "id": "81ee854e",
   "metadata": {},
   "outputs": [],
   "source": [
    "X_trainval, X_test, y_trainval, y_test = train_test_split(X, y, test_size=0.2, random_state=RDN, stratify=y, shuffle=True)\n",
    "X_train, X_val, y_train, y_val = train_test_split(X_trainval, y_trainval, test_size=0.25, random_state=RDN, stratify=y_trainval, shuffle=True)"
   ]
  },
  {
   "cell_type": "markdown",
   "id": "2a5f5cff",
   "metadata": {},
   "source": [
    "### Dataloaders"
   ]
  },
  {
   "cell_type": "code",
   "execution_count": 6,
   "id": "03c7da4f",
   "metadata": {},
   "outputs": [],
   "source": [
    "train_loader = parkinson.utils.data.get_torch_dataloader(X_train, y_train, batch_size=16)\n",
    "val_loader = parkinson.utils.data.get_torch_dataloader(X_val, y_val, batch_size=16)\n",
    "test_loader = parkinson.utils.data.get_torch_dataloader(X_test, y_test, batch_size=16)"
   ]
  },
  {
   "cell_type": "markdown",
   "id": "0bf5fe79",
   "metadata": {},
   "source": [
    "## Training"
   ]
  },
  {
   "cell_type": "code",
   "execution_count": 7,
   "id": "12eea3e9",
   "metadata": {},
   "outputs": [],
   "source": [
    "device = torch.device(\"cuda\" if torch.cuda.is_available() else \"cpu\")\n",
    "model = parkinson.NetworkModels.SimpleMLP(input_dim=X_train.shape[1], hidden_dim=16, output_dim=2)\n",
    "class_weights = parkinson.utils.data.get_torch_class_weights(y_train)"
   ]
  },
  {
   "cell_type": "code",
   "execution_count": 8,
   "id": "b070166c",
   "metadata": {},
   "outputs": [],
   "source": [
    "from torch import nn\n",
    "model.train()\n",
    "criterion = nn.CrossEntropyLoss(weight=class_weights.to(device))"
   ]
  },
  {
   "cell_type": "markdown",
   "id": "d95bb37a",
   "metadata": {},
   "source": [
    "Something wrong during training"
   ]
  },
  {
   "cell_type": "code",
   "execution_count": 9,
   "id": "a16a618c",
   "metadata": {},
   "outputs": [
    {
     "name": "stderr",
     "output_type": "stream",
     "text": [
      "Epoch:   0%|          | 0/200 [00:00<?, ?it/s]"
     ]
    },
    {
     "name": "stdout",
     "output_type": "stream",
     "text": [
      "tensor(0.7047, grad_fn=<NllLossBackward0>)\n",
      "tensor(0.6886, grad_fn=<NllLossBackward0>)\n",
      "tensor(0.7204, grad_fn=<NllLossBackward0>)\n",
      "tensor(0.7371, grad_fn=<NllLossBackward0>)\n",
      "tensor(0.6597, grad_fn=<NllLossBackward0>)\n",
      "tensor(0.7062, grad_fn=<NllLossBackward0>)\n",
      "tensor(nan, grad_fn=<NllLossBackward0>)\n"
     ]
    },
    {
     "name": "stderr",
     "output_type": "stream",
     "text": [
      "train-loss: nan  train-acc: 0.3641 | val-loss: nan  val-acc: 0.3611:   0%|          | 1/200 [00:00<01:43,  1.91it/s]"
     ]
    },
    {
     "name": "stdout",
     "output_type": "stream",
     "text": [
      "tensor(nan, grad_fn=<NllLossBackward0>)\n",
      "tensor(nan, grad_fn=<NllLossBackward0>)\n",
      "tensor(nan, grad_fn=<NllLossBackward0>)\n",
      "tensor(nan, grad_fn=<NllLossBackward0>)\n",
      "tensor(nan, grad_fn=<NllLossBackward0>)\n",
      "tensor(nan, grad_fn=<NllLossBackward0>)\n",
      "tensor(nan, grad_fn=<NllLossBackward0>)\n"
     ]
    },
    {
     "name": "stderr",
     "output_type": "stream",
     "text": [
      "train-loss: nan  train-acc: 0.3735 | val-loss: nan  val-acc: 0.3611:   1%|          | 2/200 [00:01<01:56,  1.69it/s]"
     ]
    },
    {
     "name": "stdout",
     "output_type": "stream",
     "text": [
      "tensor(nan, grad_fn=<NllLossBackward0>)\n",
      "tensor(nan, grad_fn=<NllLossBackward0>)\n",
      "tensor(nan, grad_fn=<NllLossBackward0>)\n",
      "tensor(nan, grad_fn=<NllLossBackward0>)\n",
      "tensor(nan, grad_fn=<NllLossBackward0>)\n",
      "tensor(nan, grad_fn=<NllLossBackward0>)\n",
      "tensor(nan, grad_fn=<NllLossBackward0>)\n"
     ]
    },
    {
     "name": "stderr",
     "output_type": "stream",
     "text": [
      "train-loss: nan  train-acc: 0.3735 | val-loss: nan  val-acc: 0.3611:   2%|▏         | 3/200 [00:01<01:51,  1.77it/s]"
     ]
    },
    {
     "name": "stdout",
     "output_type": "stream",
     "text": [
      "tensor(nan, grad_fn=<NllLossBackward0>)\n",
      "tensor(nan, grad_fn=<NllLossBackward0>)\n",
      "tensor(nan, grad_fn=<NllLossBackward0>)\n",
      "tensor(nan, grad_fn=<NllLossBackward0>)\n",
      "tensor(nan, grad_fn=<NllLossBackward0>)\n",
      "tensor(nan, grad_fn=<NllLossBackward0>)\n",
      "tensor(nan, grad_fn=<NllLossBackward0>)\n"
     ]
    },
    {
     "name": "stderr",
     "output_type": "stream",
     "text": [
      "train-loss: nan  train-acc: 0.3735 | val-loss: nan  val-acc: 0.3611:   2%|▏         | 4/200 [00:02<01:45,  1.87it/s]"
     ]
    },
    {
     "name": "stdout",
     "output_type": "stream",
     "text": [
      "tensor(nan, grad_fn=<NllLossBackward0>)\n",
      "tensor(nan, grad_fn=<NllLossBackward0>)\n",
      "tensor(nan, grad_fn=<NllLossBackward0>)\n",
      "tensor(nan, grad_fn=<NllLossBackward0>)\n",
      "tensor(nan, grad_fn=<NllLossBackward0>)\n",
      "tensor(nan, grad_fn=<NllLossBackward0>)\n",
      "tensor(nan, grad_fn=<NllLossBackward0>)\n"
     ]
    },
    {
     "name": "stderr",
     "output_type": "stream",
     "text": [
      "train-loss: nan  train-acc: 0.3735 | val-loss: nan  val-acc: 0.3611:   2%|▎         | 5/200 [00:02<01:49,  1.78it/s]"
     ]
    },
    {
     "name": "stdout",
     "output_type": "stream",
     "text": [
      "tensor(nan, grad_fn=<NllLossBackward0>)\n",
      "tensor(nan, grad_fn=<NllLossBackward0>)\n",
      "tensor(nan, grad_fn=<NllLossBackward0>)\n",
      "tensor(nan, grad_fn=<NllLossBackward0>)\n",
      "tensor(nan, grad_fn=<NllLossBackward0>)\n",
      "tensor(nan, grad_fn=<NllLossBackward0>)\n",
      "tensor(nan, grad_fn=<NllLossBackward0>)\n"
     ]
    },
    {
     "name": "stderr",
     "output_type": "stream",
     "text": [
      "train-loss: nan  train-acc: 0.3735 | val-loss: nan  val-acc: 0.3611:   3%|▎         | 6/200 [00:03<01:49,  1.77it/s]"
     ]
    },
    {
     "name": "stdout",
     "output_type": "stream",
     "text": [
      "tensor(nan, grad_fn=<NllLossBackward0>)\n",
      "tensor(nan, grad_fn=<NllLossBackward0>)\n",
      "tensor(nan, grad_fn=<NllLossBackward0>)\n",
      "tensor(nan, grad_fn=<NllLossBackward0>)\n",
      "tensor(nan, grad_fn=<NllLossBackward0>)\n",
      "tensor(nan, grad_fn=<NllLossBackward0>)\n",
      "tensor(nan, grad_fn=<NllLossBackward0>)\n"
     ]
    },
    {
     "name": "stderr",
     "output_type": "stream",
     "text": [
      "train-loss: nan  train-acc: 0.3735 | val-loss: nan  val-acc: 0.3611:   4%|▎         | 7/200 [00:03<01:42,  1.87it/s]"
     ]
    },
    {
     "name": "stdout",
     "output_type": "stream",
     "text": [
      "tensor(nan, grad_fn=<NllLossBackward0>)\n",
      "tensor(nan, grad_fn=<NllLossBackward0>)\n",
      "tensor(nan, grad_fn=<NllLossBackward0>)\n",
      "tensor(nan, grad_fn=<NllLossBackward0>)\n",
      "tensor(nan, grad_fn=<NllLossBackward0>)\n",
      "tensor(nan, grad_fn=<NllLossBackward0>)\n",
      "tensor(nan, grad_fn=<NllLossBackward0>)\n"
     ]
    },
    {
     "name": "stderr",
     "output_type": "stream",
     "text": [
      "train-loss: nan  train-acc: 0.3735 | val-loss: nan  val-acc: 0.3611:   4%|▍         | 8/200 [00:04<01:37,  1.97it/s]"
     ]
    },
    {
     "name": "stdout",
     "output_type": "stream",
     "text": [
      "tensor(nan, grad_fn=<NllLossBackward0>)\n",
      "tensor(nan, grad_fn=<NllLossBackward0>)\n",
      "tensor(nan, grad_fn=<NllLossBackward0>)\n",
      "tensor(nan, grad_fn=<NllLossBackward0>)\n",
      "tensor(nan, grad_fn=<NllLossBackward0>)\n",
      "tensor(nan, grad_fn=<NllLossBackward0>)\n",
      "tensor(nan, grad_fn=<NllLossBackward0>)\n"
     ]
    },
    {
     "name": "stderr",
     "output_type": "stream",
     "text": [
      "train-loss: nan  train-acc: 0.3735 | val-loss: nan  val-acc: 0.3611:   4%|▍         | 9/200 [00:04<01:32,  2.06it/s]"
     ]
    },
    {
     "name": "stdout",
     "output_type": "stream",
     "text": [
      "tensor(nan, grad_fn=<NllLossBackward0>)\n",
      "tensor(nan, grad_fn=<NllLossBackward0>)\n",
      "tensor(nan, grad_fn=<NllLossBackward0>)\n",
      "tensor(nan, grad_fn=<NllLossBackward0>)\n",
      "tensor(nan, grad_fn=<NllLossBackward0>)\n",
      "tensor(nan, grad_fn=<NllLossBackward0>)\n",
      "tensor(nan, grad_fn=<NllLossBackward0>)\n"
     ]
    },
    {
     "name": "stderr",
     "output_type": "stream",
     "text": [
      "train-loss: nan  train-acc: 0.3735 | val-loss: nan  val-acc: 0.3611:   5%|▌         | 10/200 [00:05<01:31,  2.08it/s]"
     ]
    },
    {
     "name": "stdout",
     "output_type": "stream",
     "text": [
      "tensor(nan, grad_fn=<NllLossBackward0>)\n",
      "tensor(nan, grad_fn=<NllLossBackward0>)\n",
      "tensor(nan, grad_fn=<NllLossBackward0>)\n",
      "tensor(nan, grad_fn=<NllLossBackward0>)\n",
      "tensor(nan, grad_fn=<NllLossBackward0>)\n",
      "tensor(nan, grad_fn=<NllLossBackward0>)\n",
      "tensor(nan, grad_fn=<NllLossBackward0>)\n"
     ]
    },
    {
     "name": "stderr",
     "output_type": "stream",
     "text": [
      "train-loss: nan  train-acc: 0.3735 | val-loss: nan  val-acc: 0.3611:   6%|▌         | 11/200 [00:05<01:29,  2.12it/s]"
     ]
    },
    {
     "name": "stdout",
     "output_type": "stream",
     "text": [
      "tensor(nan, grad_fn=<NllLossBackward0>)\n",
      "tensor(nan, grad_fn=<NllLossBackward0>)\n",
      "tensor(nan, grad_fn=<NllLossBackward0>)\n",
      "tensor(nan, grad_fn=<NllLossBackward0>)\n",
      "tensor(nan, grad_fn=<NllLossBackward0>)\n",
      "tensor(nan, grad_fn=<NllLossBackward0>)\n",
      "tensor(nan, grad_fn=<NllLossBackward0>)\n"
     ]
    },
    {
     "name": "stderr",
     "output_type": "stream",
     "text": [
      "train-loss: nan  train-acc: 0.3735 | val-loss: nan  val-acc: 0.3611:   6%|▌         | 12/200 [00:06<01:31,  2.05it/s]"
     ]
    },
    {
     "name": "stdout",
     "output_type": "stream",
     "text": [
      "tensor(nan, grad_fn=<NllLossBackward0>)\n",
      "tensor(nan, grad_fn=<NllLossBackward0>)\n",
      "tensor(nan, grad_fn=<NllLossBackward0>)\n",
      "tensor(nan, grad_fn=<NllLossBackward0>)\n",
      "tensor(nan, grad_fn=<NllLossBackward0>)\n",
      "tensor(nan, grad_fn=<NllLossBackward0>)\n",
      "tensor(nan, grad_fn=<NllLossBackward0>)\n"
     ]
    },
    {
     "name": "stderr",
     "output_type": "stream",
     "text": [
      "train-loss: nan  train-acc: 0.3735 | val-loss: nan  val-acc: 0.3611:   6%|▋         | 13/200 [00:06<01:28,  2.11it/s]"
     ]
    },
    {
     "name": "stdout",
     "output_type": "stream",
     "text": [
      "tensor(nan, grad_fn=<NllLossBackward0>)\n",
      "tensor(nan, grad_fn=<NllLossBackward0>)\n",
      "tensor(nan, grad_fn=<NllLossBackward0>)\n",
      "tensor(nan, grad_fn=<NllLossBackward0>)\n",
      "tensor(nan, grad_fn=<NllLossBackward0>)\n",
      "tensor(nan, grad_fn=<NllLossBackward0>)\n",
      "tensor(nan, grad_fn=<NllLossBackward0>)\n"
     ]
    },
    {
     "name": "stderr",
     "output_type": "stream",
     "text": [
      "train-loss: nan  train-acc: 0.3735 | val-loss: nan  val-acc: 0.3611:   7%|▋         | 14/200 [00:07<01:27,  2.13it/s]"
     ]
    },
    {
     "name": "stdout",
     "output_type": "stream",
     "text": [
      "tensor(nan, grad_fn=<NllLossBackward0>)\n",
      "tensor(nan, grad_fn=<NllLossBackward0>)\n",
      "tensor(nan, grad_fn=<NllLossBackward0>)\n",
      "tensor(nan, grad_fn=<NllLossBackward0>)\n",
      "tensor(nan, grad_fn=<NllLossBackward0>)\n",
      "tensor(nan, grad_fn=<NllLossBackward0>)\n",
      "tensor(nan, grad_fn=<NllLossBackward0>)\n"
     ]
    },
    {
     "name": "stderr",
     "output_type": "stream",
     "text": [
      "train-loss: nan  train-acc: 0.3735 | val-loss: nan  val-acc: 0.3611:   8%|▊         | 15/200 [00:07<01:27,  2.12it/s]"
     ]
    },
    {
     "name": "stdout",
     "output_type": "stream",
     "text": [
      "tensor(nan, grad_fn=<NllLossBackward0>)\n",
      "tensor(nan, grad_fn=<NllLossBackward0>)\n",
      "tensor(nan, grad_fn=<NllLossBackward0>)\n",
      "tensor(nan, grad_fn=<NllLossBackward0>)\n",
      "tensor(nan, grad_fn=<NllLossBackward0>)\n",
      "tensor(nan, grad_fn=<NllLossBackward0>)\n",
      "tensor(nan, grad_fn=<NllLossBackward0>)\n"
     ]
    },
    {
     "name": "stderr",
     "output_type": "stream",
     "text": [
      "train-loss: nan  train-acc: 0.3735 | val-loss: nan  val-acc: 0.3611:   8%|▊         | 16/200 [00:08<01:27,  2.10it/s]"
     ]
    },
    {
     "name": "stdout",
     "output_type": "stream",
     "text": [
      "tensor(nan, grad_fn=<NllLossBackward0>)\n",
      "tensor(nan, grad_fn=<NllLossBackward0>)\n",
      "tensor(nan, grad_fn=<NllLossBackward0>)\n",
      "tensor(nan, grad_fn=<NllLossBackward0>)\n",
      "tensor(nan, grad_fn=<NllLossBackward0>)\n",
      "tensor(nan, grad_fn=<NllLossBackward0>)\n",
      "tensor(nan, grad_fn=<NllLossBackward0>)\n"
     ]
    },
    {
     "name": "stderr",
     "output_type": "stream",
     "text": [
      "train-loss: nan  train-acc: 0.3735 | val-loss: nan  val-acc: 0.3611:   8%|▊         | 17/200 [00:08<01:30,  2.01it/s]"
     ]
    },
    {
     "name": "stdout",
     "output_type": "stream",
     "text": [
      "tensor(nan, grad_fn=<NllLossBackward0>)\n",
      "tensor(nan, grad_fn=<NllLossBackward0>)\n",
      "tensor(nan, grad_fn=<NllLossBackward0>)\n",
      "tensor(nan, grad_fn=<NllLossBackward0>)\n",
      "tensor(nan, grad_fn=<NllLossBackward0>)\n",
      "tensor(nan, grad_fn=<NllLossBackward0>)\n",
      "tensor(nan, grad_fn=<NllLossBackward0>)\n"
     ]
    },
    {
     "name": "stderr",
     "output_type": "stream",
     "text": [
      "train-loss: nan  train-acc: 0.3735 | val-loss: nan  val-acc: 0.3611:   9%|▉         | 18/200 [00:09<01:36,  1.89it/s]"
     ]
    },
    {
     "name": "stdout",
     "output_type": "stream",
     "text": [
      "tensor(nan, grad_fn=<NllLossBackward0>)\n",
      "tensor(nan, grad_fn=<NllLossBackward0>)\n",
      "tensor(nan, grad_fn=<NllLossBackward0>)\n",
      "tensor(nan, grad_fn=<NllLossBackward0>)\n",
      "tensor(nan, grad_fn=<NllLossBackward0>)\n",
      "tensor(nan, grad_fn=<NllLossBackward0>)\n",
      "tensor(nan, grad_fn=<NllLossBackward0>)\n"
     ]
    },
    {
     "name": "stderr",
     "output_type": "stream",
     "text": [
      "train-loss: nan  train-acc: 0.3735 | val-loss: nan  val-acc: 0.3611:  10%|▉         | 19/200 [00:09<01:38,  1.85it/s]"
     ]
    },
    {
     "name": "stdout",
     "output_type": "stream",
     "text": [
      "tensor(nan, grad_fn=<NllLossBackward0>)\n",
      "tensor(nan, grad_fn=<NllLossBackward0>)\n",
      "tensor(nan, grad_fn=<NllLossBackward0>)\n",
      "tensor(nan, grad_fn=<NllLossBackward0>)\n",
      "tensor(nan, grad_fn=<NllLossBackward0>)\n",
      "tensor(nan, grad_fn=<NllLossBackward0>)\n",
      "tensor(nan, grad_fn=<NllLossBackward0>)\n"
     ]
    },
    {
     "name": "stderr",
     "output_type": "stream",
     "text": [
      "train-loss: nan  train-acc: 0.3735 | val-loss: nan  val-acc: 0.3611:  10%|▉         | 19/200 [00:10<01:37,  1.87it/s]"
     ]
    },
    {
     "name": "stdout",
     "output_type": "stream",
     "text": [
      "Early stopping at epoch 20\n",
      "CPU times: user 5.29 s, sys: 3.89 s, total: 9.18 s\n",
      "Wall time: 11.9 s\n"
     ]
    },
    {
     "name": "stderr",
     "output_type": "stream",
     "text": [
      "\n"
     ]
    }
   ],
   "source": [
    "%%time\n",
    "out = parkinson.utils.train.train(model, train_loader, val_loader, class_weights, device)"
   ]
  },
  {
   "cell_type": "code",
   "execution_count": 10,
   "id": "4bd89ceb",
   "metadata": {},
   "outputs": [
    {
     "name": "stdout",
     "output_type": "stream",
     "text": [
      "Preds: [0, 0, 0, 0, 0, 0, 0, 0, 0, 0, 0, 0, 0, 0, 0, 0, 0, 0, 0, 0, 0, 0, 0, 0, 0, 0, 0, 0, 0, 0, 0, 0, 0, 0, 0, 0]\n",
      "Metrics: {'acc': 0.3611111111111111, 'f1': 0.19160997732426305, 'recall': 0.3611111111111111, 'precision': 0.13040123456790123}\n",
      "Done.\n"
     ]
    },
    {
     "name": "stderr",
     "output_type": "stream",
     "text": [
      "/home/vitor/miniforge3/envs/parkinson/lib/python3.9/site-packages/sklearn/metrics/_classification.py:1565: UndefinedMetricWarning: Precision is ill-defined and being set to 0.0 in labels with no predicted samples. Use `zero_division` parameter to control this behavior.\n",
      "  _warn_prf(average, modifier, f\"{metric.capitalize()} is\", len(result))\n"
     ]
    }
   ],
   "source": [
    "metrics = parkinson.utils.train.evaluate(model, test_loader, device)\n",
    "print('Metrics:', metrics)\n",
    "print('Done.')"
   ]
  }
 ],
 "metadata": {
  "kernelspec": {
   "display_name": "parkinson",
   "language": "python",
   "name": "python3"
  },
  "language_info": {
   "codemirror_mode": {
    "name": "ipython",
    "version": 3
   },
   "file_extension": ".py",
   "mimetype": "text/x-python",
   "name": "python",
   "nbconvert_exporter": "python",
   "pygments_lexer": "ipython3",
   "version": "3.9.0"
  }
 },
 "nbformat": 4,
 "nbformat_minor": 5
}
