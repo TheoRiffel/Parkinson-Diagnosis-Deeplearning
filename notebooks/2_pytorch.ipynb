{
 "cells": [
  {
   "cell_type": "markdown",
   "id": "9533b8be",
   "metadata": {},
   "source": [
    "# Correlation Matrix with Pytorch"
   ]
  },
  {
   "cell_type": "code",
   "execution_count": 1,
   "id": "bd4d47b8",
   "metadata": {},
   "outputs": [],
   "source": [
    "%load_ext autoreload"
   ]
  },
  {
   "cell_type": "markdown",
   "id": "7adc85d4",
   "metadata": {},
   "source": []
  },
  {
   "cell_type": "code",
   "execution_count": 2,
   "id": "1482436a",
   "metadata": {},
   "outputs": [
    {
     "name": "stdout",
     "output_type": "stream",
     "text": [
      "['pyproject.toml', 'report', 'weights', 'notebooks', 'requirements.txt', 'data', '.gitignore', 'README.md', 'Makefile', 'parkinson', '.git']\n"
     ]
    }
   ],
   "source": [
    "import os\n",
    "import sys\n",
    "print(os.listdir('../'))"
   ]
  },
  {
   "cell_type": "code",
   "execution_count": 3,
   "id": "affa8df1",
   "metadata": {},
   "outputs": [],
   "source": [
    "import sys\n",
    "# sys.path.append('/home/labic/merlin_codes/dl/Parkinson-Diagnosis-Deeplearning')\n",
    "sys.path.append('../')\n",
    "\n",
    "import os\n",
    "import time\n",
    "    \n",
    "import parkinson\n",
    "\n",
    "import torch\n",
    "from torch import nn\n",
    "\n",
    "import pandas as pd\n",
    "import networkx as nx\n",
    "import numpy as np\n",
    "\n",
    "import pickle\n",
    "from joblib import Parallel, delayed\n",
    "from tqdm import tqdm\n",
    "from sklearn.model_selection import train_test_split\n",
    "from imblearn.over_sampling import RandomOverSampler"
   ]
  },
  {
   "cell_type": "code",
   "execution_count": null,
   "id": "d28f7899",
   "metadata": {},
   "outputs": [],
   "source": [
    "RDN = 50\n",
    "N_CLASSES = 2\n",
    "BATCH_SIZE = 32\n",
    "N_EPOCHS = 200\n",
    "PATIENCE = 20\n",
    "LR = 0.0001\n",
    "CORR_METHOD = \"icoh\"  # método de matriz de correlação: dtw, pearson, spearman, icoh (no graph.py)"
   ]
  },
  {
   "cell_type": "markdown",
   "id": "7ccc346b",
   "metadata": {},
   "source": [
    "## Data Processing\n",
    "### Reading"
   ]
  },
  {
   "cell_type": "code",
   "execution_count": 5,
   "id": "3806cc95",
   "metadata": {},
   "outputs": [
    {
     "name": "stderr",
     "output_type": "stream",
     "text": [
      "100%|██████████| 153/153 [00:04<00:00, 37.86it/s]\n",
      "100%|██████████| 66/66 [00:01<00:00, 39.73it/s]\n"
     ]
    }
   ],
   "source": [
    "parkinson_data = parkinson.utils.data.batch_read('../data/PDs_columns')\n",
    "control_data = parkinson.utils.data.batch_read('../data/Controls_columns')\n",
    "\n",
    "control_atlas_data = parkinson.utils.data.select_atlas_columns(control_data, 'AAL3')\n",
    "parkinson_atlas_data = parkinson.utils.data.select_atlas_columns(parkinson_data, 'AAL3')"
   ]
  },
  {
   "cell_type": "code",
   "execution_count": 6,
   "id": "a0641156",
   "metadata": {},
   "outputs": [],
   "source": [
    "parkinson_correlation_matrix = parkinson.utils.graph.compute_correlation_matrix(\n",
    "    parkinson_atlas_data, method=CORR_METHOD, group='parkinson'\n",
    ")"
   ]
  },
  {
   "cell_type": "code",
   "execution_count": 7,
   "id": "79fc39f4",
   "metadata": {},
   "outputs": [],
   "source": [
    "control_correlation_matrix = parkinson.utils.graph.compute_correlation_matrix(\n",
    "    control_atlas_data, method=CORR_METHOD, group='control'\n",
    ")"
   ]
  },
  {
   "cell_type": "code",
   "execution_count": 8,
   "id": "facee837",
   "metadata": {},
   "outputs": [],
   "source": [
    "# com pearson (descomentar se quiser usar pearson ao invés de DTW)\n",
    "# parkinson_correlation_matrix = [parkinson.utils.graph.compute_correlation_matrix(time_series) for time_series in parkinson_atlas_data]\n",
    "# control_correlation_matrix = [parkinson.utils.graph.compute_correlation_matrix(time_series) for time_series in control_atlas_data]"
   ]
  },
  {
   "cell_type": "code",
   "execution_count": 9,
   "id": "55b34b47",
   "metadata": {},
   "outputs": [],
   "source": [
    "X = parkinson.utils.data.concatenate_data(parkinson_correlation_matrix, control_correlation_matrix)\n",
    "y = parkinson.utils.data.concatenate_data([1 for _ in range(len(parkinson_data))], [0 for _ in range(len(control_data))])\n",
    "\n",
    "X, y = parkinson.utils.data.filter_data(X, y)"
   ]
  },
  {
   "cell_type": "markdown",
   "id": "96b6e49e",
   "metadata": {},
   "source": [
    "### Split  \n",
    "- 60% treino\n",
    "- 20% validação\n",
    "- 20% teste"
   ]
  },
  {
   "cell_type": "code",
   "execution_count": 10,
   "id": "81ee854e",
   "metadata": {},
   "outputs": [],
   "source": [
    "X_trainval, X_test, y_trainval, y_test = train_test_split(X, y, test_size=0.2, random_state=RDN, stratify=y, shuffle=True)\n",
    "X_train, X_val, y_train, y_val = train_test_split(X_trainval, y_trainval, test_size=0.25, random_state=RDN, stratify=y_trainval, shuffle=True)\n",
    "\n",
    "ros = RandomOverSampler(random_state=RDN)\n",
    "X_train, y_train = ros.fit_resample(X_train, y_train)"
   ]
  },
  {
   "cell_type": "markdown",
   "id": "2a5f5cff",
   "metadata": {},
   "source": [
    "### Dataloaders"
   ]
  },
  {
   "cell_type": "code",
   "execution_count": 11,
   "id": "03c7da4f",
   "metadata": {},
   "outputs": [],
   "source": [
    "train_loader = parkinson.utils.data.get_torch_dataloader(X_train, y_train, batch_size=BATCH_SIZE)\n",
    "val_loader = parkinson.utils.data.get_torch_dataloader(X_val, y_val, batch_size=BATCH_SIZE)\n",
    "test_loader = parkinson.utils.data.get_torch_dataloader(X_test, y_test, batch_size=BATCH_SIZE)"
   ]
  },
  {
   "cell_type": "markdown",
   "id": "0bf5fe79",
   "metadata": {},
   "source": [
    "## Training"
   ]
  },
  {
   "cell_type": "code",
   "execution_count": 12,
   "id": "12eea3e9",
   "metadata": {},
   "outputs": [],
   "source": [
    "device = torch.device(\"cuda\" if torch.cuda.is_available() else \"cpu\")\n",
    "model = parkinson.NetworkModels.SimpleMLP(input_dim=X_train.shape[1], hidden_dim=16, output_dim=2)\n",
    "class_weights = parkinson.utils.data.get_torch_class_weights(y_train)"
   ]
  },
  {
   "cell_type": "code",
   "execution_count": 13,
   "id": "b070166c",
   "metadata": {},
   "outputs": [],
   "source": [
    "model.train()\n",
    "criterion = nn.CrossEntropyLoss(weight=class_weights.to(device))"
   ]
  },
  {
   "cell_type": "code",
   "execution_count": 14,
   "id": "a16a618c",
   "metadata": {},
   "outputs": [
    {
     "name": "stderr",
     "output_type": "stream",
     "text": [
      "train-loss: 0.1361  train-acc: 0.9835 | val-loss: 0.5248  val-acc: 0.7045:  24%|██▍       | 49/200 [00:18<00:58,  2.60it/s]"
     ]
    },
    {
     "name": "stdout",
     "output_type": "stream",
     "text": [
      "Early stopping at epoch 50\n",
      "CPU times: user 11.2 s, sys: 15.2 s, total: 26.5 s\n",
      "Wall time: 19.6 s\n"
     ]
    },
    {
     "name": "stderr",
     "output_type": "stream",
     "text": [
      "\n"
     ]
    }
   ],
   "source": [
    "%%time\n",
    "out = parkinson.utils.train.train(model, train_loader, val_loader, class_weights, device, N_EPOCHS,  PATIENCE,LR)"
   ]
  },
  {
   "cell_type": "code",
   "execution_count": 15,
   "id": "4bd89ceb",
   "metadata": {},
   "outputs": [
    {
     "name": "stdout",
     "output_type": "stream",
     "text": [
      "Preds: [1, 1, 1, 1, 1, 1, 1, 1, 1, 1, 1, 1, 1, 0, 0, 1, 1, 1, 1, 1, 1, 1, 1, 1, 1, 1, 1, 1, 1, 1, 1, 1, 1, 1, 1, 1, 1, 1, 1, 1, 0, 1, 1, 1]\n",
      "Metrics: {'preds': [1, 1, 1, 1, 1, 1, 1, 1, 1, 1, 1, 1, 1, 0, 0, 1, 1, 1, 1, 1, 1, 1, 1, 1, 1, 1, 1, 1, 1, 1, 1, 1, 1, 1, 1, 1, 1, 1, 1, 1, 0, 1, 1, 1], 'labels': [np.int64(1), np.int64(1), np.int64(1), np.int64(0), np.int64(1), np.int64(0), np.int64(1), np.int64(1), np.int64(1), np.int64(1), np.int64(1), np.int64(1), np.int64(0), np.int64(0), np.int64(0), np.int64(0), np.int64(0), np.int64(0), np.int64(1), np.int64(1), np.int64(1), np.int64(1), np.int64(1), np.int64(1), np.int64(1), np.int64(1), np.int64(1), np.int64(1), np.int64(1), np.int64(0), np.int64(0), np.int64(1), np.int64(1), np.int64(0), np.int64(1), np.int64(1), np.int64(1), np.int64(0), np.int64(1), np.int64(1), np.int64(0), np.int64(1), np.int64(1), np.int64(1)], 'acc': 0.7727272727272727, 'f1': 0.7174873737373738, 'recall': 0.7727272727272727, 'precision': 0.8281596452328159}\n",
      "Done.\n"
     ]
    }
   ],
   "source": [
    "metrics = parkinson.utils.train.evaluate(model, test_loader, device)\n",
    "print('Metrics:', metrics)\n",
    "print('Done.')"
   ]
  },
  {
   "cell_type": "code",
   "execution_count": 16,
   "id": "b6b169a2",
   "metadata": {},
   "outputs": [
    {
     "data": {
      "image/png": "[encoded data removed]",
      "text/plain": [
       "<Figure size 640x480 with 1 Axes>"
      ]
     },
     "metadata": {},
     "output_type": "display_data"
    }
   ],
   "source": [
    "parkinson.utils.results.plot_losses(out['train_loss'], out['val_loss'])"
   ]
  }
 ],
 "metadata": {
  "kernelspec": {
   "display_name": "trabRN",
   "language": "python",
   "name": "python3"
  },
  "language_info": {
   "codemirror_mode": {
    "name": "ipython",
    "version": 3
   },
   "file_extension": ".py",
   "mimetype": "text/x-python",
   "name": "python",
   "nbconvert_exporter": "python",
   "pygments_lexer": "ipython3",
   "version": "3.12.11"
  }
 },
 "nbformat": 4,
 "nbformat_minor": 5
}
