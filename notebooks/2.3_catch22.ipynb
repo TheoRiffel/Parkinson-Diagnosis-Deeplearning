{
 "cells": [
  {
   "cell_type": "code",
   "execution_count": 1,
   "id": "fb728e44",
   "metadata": {},
   "outputs": [],
   "source": [
    "%load_ext autoreload"
   ]
  },
  {
   "cell_type": "code",
   "execution_count": 2,
   "id": "f85bf098",
   "metadata": {},
   "outputs": [],
   "source": [
    "import os\n",
    "import torch\n",
    "import parkinson\n",
    "\n",
    "import pandas as pd\n",
    "import numpy as np\n",
    "\n",
    "from torch import nn\n",
    "from sklearn.model_selection import train_test_split\n",
    "from sklearn.utils.class_weight import compute_class_weight\n",
    "from sklearn.metrics import accuracy_score, f1_score, precision_score, recall_score\n",
    "from sklearn.preprocessing import StandardScaler\n",
    "from sklearn.decomposition import PCA\n",
    "\n",
    "from pycatch22 import catch22_all"
   ]
  },
  {
   "cell_type": "code",
   "execution_count": 3,
   "id": "a665f1a8",
   "metadata": {},
   "outputs": [],
   "source": [
    "RDN = 50\n",
    "N_CLASSES = 2\n",
    "BATCH_SIZE = 64\n",
    "N_EPOCHS = 400\n",
    "PATIENCE = 10\n",
    "LR = 0.00015\n",
    "DECAY = 0.0001\n",
    "SAVE_PATH = '../outputs/2.3_catch22'"
   ]
  },
  {
   "cell_type": "markdown",
   "id": "7ba6c920",
   "metadata": {},
   "source": [
    "# Processamento dos dados"
   ]
  },
  {
   "cell_type": "code",
   "execution_count": 4,
   "id": "e0117c86",
   "metadata": {},
   "outputs": [
    {
     "name": "stdout",
     "output_type": "stream",
     "text": [
      "Started file reading...\n"
     ]
    },
    {
     "name": "stderr",
     "output_type": "stream",
     "text": [
      "100%|██████████| 153/153 [00:07<00:00, 21.20it/s]\n",
      "100%|██████████| 66/66 [00:02<00:00, 23.48it/s]\n",
      "100%|██████████| 188/188 [00:09<00:00, 20.46it/s]\n"
     ]
    },
    {
     "name": "stdout",
     "output_type": "stream",
     "text": [
      "File reading completed.\n"
     ]
    }
   ],
   "source": [
    "# Lendo os dados dos arquivos.\n",
    "print('Started file reading...')\n",
    "parkinson_data = parkinson.utils.data.batch_read('../data/PDs_columns')\n",
    "control_data = parkinson.utils.data.batch_read('../data/Controls_columns')\n",
    "prodomal_data = parkinson.utils.data.batch_read('../data/Prodomals_columns')\n",
    "print('File reading completed.')\n",
    "\n",
    "# Selecionando o atlas (estratégia de divisão cerebral: Shen_268 ou atlas ou AAL3).\n",
    "control_atlas_data = parkinson.utils.data.select_atlas_columns(control_data, 'AAL3')\n",
    "parkinson_atlas_data = parkinson.utils.data.select_atlas_columns(parkinson_data, 'AAL3')\n",
    "prodomal_atlas_data = parkinson.utils.data.select_atlas_columns(prodomal_data, 'AAL3')\n",
    "\n",
    "# Transformando os dados selecionados em séries temporais (shape = [n_pacientes, n_canais, n_observações]).\n",
    "control_ts_data = parkinson.utils.data.df_to_timeseries(control_atlas_data)\n",
    "parkinson_ts_data = parkinson.utils.data.df_to_timeseries(parkinson_atlas_data)\n",
    "prodomal_ts_data = parkinson.utils.data.df_to_timeseries(prodomal_atlas_data)\n",
    "\n",
    "# Misturando pacientes Controle/Parkinson e trocando valores NaN por zero.\n",
    "X = parkinson.utils.data.concatenate_data(parkinson_ts_data, control_ts_data, prodomal_ts_data)\n",
    "y = parkinson.utils.data.concatenate_data([1 for _ in range(len(parkinson_data))], [0 for _ in range(len(control_data))], [2 for _ in range(len(prodomal_data))])\n",
    "X, y = parkinson.utils.data.filter_data(X, y)"
   ]
  },
  {
   "cell_type": "code",
   "execution_count": 5,
   "id": "1da9e657",
   "metadata": {},
   "outputs": [
    {
     "name": "stdout",
     "output_type": "stream",
     "text": [
      "Extracting catch22 features...\n",
      "Ended extraction.\n"
     ]
    }
   ],
   "source": [
    "def extract_catch22_features(X):\n",
    "    n_samples, n_channels, time = X.shape\n",
    "    X_feats = np.zeros((n_samples, n_channels, 22))\n",
    "    for i in range(n_samples):\n",
    "        for j in range(n_channels):\n",
    "            feats = catch22_all(X[i, j])['values']\n",
    "            X_feats[i, j, :] = feats\n",
    "    return X_feats\n",
    "\n",
    "print(\"Extracting catch22 features...\")\n",
    "X = extract_catch22_features(X)\n",
    "print(\"Ended extraction.\")\n",
    "\n",
    "mask_valid = ~np.isnan(X).any(axis=(1, 2))\n",
    "X = X[mask_valid]\n",
    "y = y[mask_valid]\n",
    "\n",
    "# Flatten para normalizar (n amostras, n_canais*22)\n",
    "X_flat = X.reshape(X.shape[0], -1)\n",
    "\n",
    "# Normalização\n",
    "scaler = StandardScaler()\n",
    "X_flat = scaler.fit_transform(X_flat)\n",
    "\n",
    "# Se quiser manter o shape original (n_amostras, n_canais, 22)\n",
    "X = X_flat.reshape(X.shape[0], X.shape[1], X.shape[2])\n",
    "\n",
    "# # Flatten X para (n_samples, n_features)\n",
    "# X_flat = X.reshape(X.shape[0], -1)"
   ]
  },
  {
   "cell_type": "code",
   "execution_count": 6,
   "id": "a170675d",
   "metadata": {},
   "outputs": [],
   "source": [
    "# Seleção de características usando PCA\n",
    "n_components = 300  # ajuste conforme necessário\n",
    "pca = PCA(n_components=n_components, random_state=RDN)\n",
    "X_pca = pca.fit_transform(X_flat)"
   ]
  },
  {
   "cell_type": "code",
   "execution_count": 7,
   "id": "8df0c436",
   "metadata": {},
   "outputs": [],
   "source": [
    "# Separando os dados em 80% treino das 2 etapas e 20% teste.\n",
    "X_train_2etapas, X_test_final, y_train_2etapas, y_test_final = train_test_split(X_pca, y, test_size=0.1, random_state=RDN, stratify=y, shuffle=True)\n",
    "\n",
    "# Separando os dados da primeira etapa (Control vs Não Saudáveis).\n",
    "X_1step = X_train_2etapas\n",
    "y_1step = np.where(y_train_2etapas == 2, 1, y_train_2etapas)\n",
    "X_1step_trainval, X_1step_test, y_1step_trainval, y_1step_test = train_test_split(X_1step, y_1step, test_size=0.2, random_state=RDN, stratify=y_train_2etapas, shuffle=True)\n",
    "X_1step_train, X_1step_val, y_1step_train, y_1step_val = train_test_split(X_1step_trainval, y_1step_trainval, test_size=1/8, random_state=RDN, stratify=y_1step_trainval, shuffle=True)\n",
    "\n",
    "# Separando os dados da segunda etapa (Parkinson vs Prodomals).\n",
    "X_2step = X_train_2etapas[y_train_2etapas != 0]\n",
    "y_2step = y_train_2etapas[y_train_2etapas != 0]\n",
    "y_2step = np.where(y_2step == 2, 0, y_2step)\n",
    "X_2step_trainval, X_2step_test, y_2step_trainval, y_2step_test = train_test_split(X_2step, y_2step, test_size=0.2, random_state=RDN, stratify=y_2step, shuffle=True)\n",
    "X_2step_train, X_2step_val, y_2step_train, y_2step_val = train_test_split(X_2step_trainval, y_2step_trainval, test_size=1/8, random_state=RDN, stratify=y_2step_trainval, shuffle=True)"
   ]
  },
  {
   "cell_type": "code",
   "execution_count": 8,
   "id": "b8685d5a",
   "metadata": {},
   "outputs": [],
   "source": [
    "# from imblearn.under_sampling import RandomUnderSampler\n",
    "# from collections import Counter\n",
    "\n",
    "# n_samples_class_0 = Counter(y_1step_train)[0]\n",
    "# sampling_strategy_dict = {\n",
    "#     0: n_samples_class_0,  # Manter todas as amostras da classe 0\n",
    "#     1: int(n_samples_class_0 * 3)   # Reduzir a classe 1 para ter o mesmo número de amostras da classe 0\n",
    "# }\n",
    "\n",
    "# rus = RandomUnderSampler(sampling_strategy=sampling_strategy_dict, random_state=42)\n",
    "# X_pca_resampled, y_resampled = rus.fit_resample(X_1step_train, y_1step_train)"
   ]
  },
  {
   "cell_type": "code",
   "execution_count": 9,
   "id": "6b28e769",
   "metadata": {},
   "outputs": [],
   "source": [
    "# Criando DataLoader\n",
    "test_final_loader = parkinson.utils.data.get_torch_dataloader(X_test_final, y_test_final, batch_size=BATCH_SIZE)\n",
    "\n",
    "train_1step_loader = parkinson.utils.data.get_torch_dataloader(X_1step_train, y_1step_train, batch_size=BATCH_SIZE)\n",
    "val_1step_loader = parkinson.utils.data.get_torch_dataloader(X_1step_val, y_1step_val, batch_size=BATCH_SIZE)\n",
    "test_1step_loader = parkinson.utils.data.get_torch_dataloader(X_1step_test, y_1step_test, batch_size=BATCH_SIZE)\n",
    "\n",
    "train_2step_loader = parkinson.utils.data.get_torch_dataloader(X_2step_train, y_2step_train, batch_size=BATCH_SIZE)\n",
    "val_2step_loader = parkinson.utils.data.get_torch_dataloader(X_2step_val, y_2step_val, batch_size=BATCH_SIZE)\n",
    "test_2step_loader = parkinson.utils.data.get_torch_dataloader(X_2step_test, y_2step_test, batch_size=BATCH_SIZE)"
   ]
  },
  {
   "cell_type": "markdown",
   "id": "760fb036",
   "metadata": {},
   "source": [
    "# Treinamento Control vs Não Saudáveis (1 step)"
   ]
  },
  {
   "cell_type": "code",
   "execution_count": 10,
   "id": "e6a0eb60",
   "metadata": {},
   "outputs": [
    {
     "name": "stderr",
     "output_type": "stream",
     "text": [
      "train-loss: 0.1048  train-acc: 0.9723 | val-loss: 0.4515  val-acc: 0.8378:  33%|███▎      | 132/400 [00:52<01:46,  2.51it/s]"
     ]
    },
    {
     "name": "stdout",
     "output_type": "stream",
     "text": [
      "Early stopping at epoch 133\n"
     ]
    },
    {
     "name": "stderr",
     "output_type": "stream",
     "text": [
      "\n"
     ]
    }
   ],
   "source": [
    "device = torch.device(\"cuda\" if torch.cuda.is_available() else \"cpu\")\n",
    "# model = parkinson.NetworkModels.customFCN(X_1step_train.shape[1], N_CLASSES)\n",
    "model = parkinson.NetworkModels.customMLP(input_dim=n_components, hidden_dim=16, output_dim=N_CLASSES)\n",
    "\n",
    "model.train()\n",
    "class_weights = compute_class_weight(class_weight='balanced', classes=np.unique(y_1step_train), y=y_1step_train)\n",
    "class_weights = torch.tensor(class_weights, dtype=torch.float).to(device)\n",
    "criterion = nn.CrossEntropyLoss()\n",
    "\n",
    "out1 = parkinson.utils.train.train(model, train_1step_loader, val_1step_loader, device, N_EPOCHS, PATIENCE, LR, \"../weights/2.3_catch22/1step\", DECAY)\n",
    "\n",
    "metrics1 = parkinson.utils.train.evaluate(model, test_1step_loader, device, \"../weights/2.3_catch22/1step\")"
   ]
  },
  {
   "cell_type": "markdown",
   "id": "91ef1502",
   "metadata": {},
   "source": [
    "# Treinamento Parkinson vs Prodomals (2 step)"
   ]
  },
  {
   "cell_type": "code",
   "execution_count": 11,
   "id": "b0dcef12",
   "metadata": {},
   "outputs": [
    {
     "name": "stderr",
     "output_type": "stream",
     "text": [
      "train-loss: 0.4463  train-acc: 0.8019 | val-loss: 0.7936  val-acc: 0.5806:  11%|█         | 43/400 [00:16<02:17,  2.59it/s]"
     ]
    },
    {
     "name": "stdout",
     "output_type": "stream",
     "text": [
      "Early stopping at epoch 44\n"
     ]
    },
    {
     "name": "stderr",
     "output_type": "stream",
     "text": [
      "\n"
     ]
    }
   ],
   "source": [
    "device = torch.device(\"cuda\" if torch.cuda.is_available() else \"cpu\")\n",
    "# model = parkinson.NetworkModels.customFCN(X_2step_train.shape[1], N_CLASSES)\n",
    "model = parkinson.NetworkModels.customMLP(input_dim=X_1step_train.shape[1], hidden_dim=16, output_dim=N_CLASSES)\n",
    "\n",
    "model.train()\n",
    "criterion = nn.CrossEntropyLoss()\n",
    "\n",
    "out2 = parkinson.utils.train.train(model, train_2step_loader, val_2step_loader, device, N_EPOCHS, PATIENCE, LR, \"../weights/2.3_catch22/2step\", DECAY)\n",
    "\n",
    "metrics2 = parkinson.utils.train.evaluate(model, test_2step_loader, device, \"../weights/2.3_catch22/2step\")"
   ]
  },
  {
   "cell_type": "markdown",
   "id": "84663c6e",
   "metadata": {},
   "source": [
    "# Análise dos resultados"
   ]
  },
  {
   "cell_type": "markdown",
   "id": "12d298a9",
   "metadata": {},
   "source": [
    "## 1 Step"
   ]
  },
  {
   "cell_type": "code",
   "execution_count": 12,
   "id": "5ac743d4",
   "metadata": {},
   "outputs": [
    {
     "name": "stdout",
     "output_type": "stream",
     "text": [
      " Acurácia       F1  Precisão   Recall\n",
      " 0.808219 0.780751  0.765692 0.808219\n"
     ]
    },
    {
     "ename": "FileNotFoundError",
     "evalue": "[Errno 2] No such file or directory: '../outputs/2.3_catch22/1step/loss_curve.png'",
     "output_type": "error",
     "traceback": [
      "\u001b[31m---------------------------------------------------------------------------\u001b[39m",
      "\u001b[31mFileNotFoundError\u001b[39m                         Traceback (most recent call last)",
      "\u001b[36mCell\u001b[39m\u001b[36m \u001b[39m\u001b[32mIn[12]\u001b[39m\u001b[32m, line 9\u001b[39m\n\u001b[32m      6\u001b[39m fig_cf.show()\n\u001b[32m      8\u001b[39m \u001b[38;5;66;03m# Salvando as figuras.\u001b[39;00m\n\u001b[32m----> \u001b[39m\u001b[32m9\u001b[39m \u001b[43mfig_loss\u001b[49m\u001b[43m.\u001b[49m\u001b[43msavefig\u001b[49m\u001b[43m(\u001b[49m\u001b[33;43mf\u001b[39;49m\u001b[33;43m\"\u001b[39;49m\u001b[38;5;132;43;01m{\u001b[39;49;00m\u001b[43mSAVE_PATH\u001b[49m\u001b[38;5;132;43;01m}\u001b[39;49;00m\u001b[33;43m/1step/loss_curve.png\u001b[39;49m\u001b[33;43m\"\u001b[39;49m\u001b[43m,\u001b[49m\u001b[43m \u001b[49m\u001b[43mbbox_inches\u001b[49m\u001b[43m=\u001b[49m\u001b[33;43m'\u001b[39;49m\u001b[33;43mtight\u001b[39;49m\u001b[33;43m'\u001b[39;49m\u001b[43m)\u001b[49m\n\u001b[32m     10\u001b[39m fig_cf.savefig(\u001b[33mf\u001b[39m\u001b[33m\"\u001b[39m\u001b[38;5;132;01m{\u001b[39;00mSAVE_PATH\u001b[38;5;132;01m}\u001b[39;00m\u001b[33m/1step/confusion_matrix.png\u001b[39m\u001b[33m\"\u001b[39m, bbox_inches=\u001b[33m'\u001b[39m\u001b[33mtight\u001b[39m\u001b[33m'\u001b[39m)\n",
      "\u001b[36mFile \u001b[39m\u001b[32m~/merlin_codes/dl/Parkinson-Diagnosis-Deeplearning/.venv/lib/python3.12/site-packages/matplotlib/figure.py:3490\u001b[39m, in \u001b[36mFigure.savefig\u001b[39m\u001b[34m(self, fname, transparent, **kwargs)\u001b[39m\n\u001b[32m   3488\u001b[39m     \u001b[38;5;28;01mfor\u001b[39;00m ax \u001b[38;5;129;01min\u001b[39;00m \u001b[38;5;28mself\u001b[39m.axes:\n\u001b[32m   3489\u001b[39m         _recursively_make_axes_transparent(stack, ax)\n\u001b[32m-> \u001b[39m\u001b[32m3490\u001b[39m \u001b[38;5;28;43mself\u001b[39;49m\u001b[43m.\u001b[49m\u001b[43mcanvas\u001b[49m\u001b[43m.\u001b[49m\u001b[43mprint_figure\u001b[49m\u001b[43m(\u001b[49m\u001b[43mfname\u001b[49m\u001b[43m,\u001b[49m\u001b[43m \u001b[49m\u001b[43m*\u001b[49m\u001b[43m*\u001b[49m\u001b[43mkwargs\u001b[49m\u001b[43m)\u001b[49m\n",
      "\u001b[36mFile \u001b[39m\u001b[32m~/merlin_codes/dl/Parkinson-Diagnosis-Deeplearning/.venv/lib/python3.12/site-packages/matplotlib/backend_bases.py:2184\u001b[39m, in \u001b[36mFigureCanvasBase.print_figure\u001b[39m\u001b[34m(self, filename, dpi, facecolor, edgecolor, orientation, format, bbox_inches, pad_inches, bbox_extra_artists, backend, **kwargs)\u001b[39m\n\u001b[32m   2180\u001b[39m \u001b[38;5;28;01mtry\u001b[39;00m:\n\u001b[32m   2181\u001b[39m     \u001b[38;5;66;03m# _get_renderer may change the figure dpi (as vector formats\u001b[39;00m\n\u001b[32m   2182\u001b[39m     \u001b[38;5;66;03m# force the figure dpi to 72), so we need to set it again here.\u001b[39;00m\n\u001b[32m   2183\u001b[39m     \u001b[38;5;28;01mwith\u001b[39;00m cbook._setattr_cm(\u001b[38;5;28mself\u001b[39m.figure, dpi=dpi):\n\u001b[32m-> \u001b[39m\u001b[32m2184\u001b[39m         result = \u001b[43mprint_method\u001b[49m\u001b[43m(\u001b[49m\n\u001b[32m   2185\u001b[39m \u001b[43m            \u001b[49m\u001b[43mfilename\u001b[49m\u001b[43m,\u001b[49m\n\u001b[32m   2186\u001b[39m \u001b[43m            \u001b[49m\u001b[43mfacecolor\u001b[49m\u001b[43m=\u001b[49m\u001b[43mfacecolor\u001b[49m\u001b[43m,\u001b[49m\n\u001b[32m   2187\u001b[39m \u001b[43m            \u001b[49m\u001b[43medgecolor\u001b[49m\u001b[43m=\u001b[49m\u001b[43medgecolor\u001b[49m\u001b[43m,\u001b[49m\n\u001b[32m   2188\u001b[39m \u001b[43m            \u001b[49m\u001b[43morientation\u001b[49m\u001b[43m=\u001b[49m\u001b[43morientation\u001b[49m\u001b[43m,\u001b[49m\n\u001b[32m   2189\u001b[39m \u001b[43m            \u001b[49m\u001b[43mbbox_inches_restore\u001b[49m\u001b[43m=\u001b[49m\u001b[43m_bbox_inches_restore\u001b[49m\u001b[43m,\u001b[49m\n\u001b[32m   2190\u001b[39m \u001b[43m            \u001b[49m\u001b[43m*\u001b[49m\u001b[43m*\u001b[49m\u001b[43mkwargs\u001b[49m\u001b[43m)\u001b[49m\n\u001b[32m   2191\u001b[39m \u001b[38;5;28;01mfinally\u001b[39;00m:\n\u001b[32m   2192\u001b[39m     \u001b[38;5;28;01mif\u001b[39;00m bbox_inches \u001b[38;5;129;01mand\u001b[39;00m restore_bbox:\n",
      "\u001b[36mFile \u001b[39m\u001b[32m~/merlin_codes/dl/Parkinson-Diagnosis-Deeplearning/.venv/lib/python3.12/site-packages/matplotlib/backend_bases.py:2040\u001b[39m, in \u001b[36mFigureCanvasBase._switch_canvas_and_return_print_method.<locals>.<lambda>\u001b[39m\u001b[34m(*args, **kwargs)\u001b[39m\n\u001b[32m   2036\u001b[39m     optional_kws = {  \u001b[38;5;66;03m# Passed by print_figure for other renderers.\u001b[39;00m\n\u001b[32m   2037\u001b[39m         \u001b[33m\"\u001b[39m\u001b[33mdpi\u001b[39m\u001b[33m\"\u001b[39m, \u001b[33m\"\u001b[39m\u001b[33mfacecolor\u001b[39m\u001b[33m\"\u001b[39m, \u001b[33m\"\u001b[39m\u001b[33medgecolor\u001b[39m\u001b[33m\"\u001b[39m, \u001b[33m\"\u001b[39m\u001b[33morientation\u001b[39m\u001b[33m\"\u001b[39m,\n\u001b[32m   2038\u001b[39m         \u001b[33m\"\u001b[39m\u001b[33mbbox_inches_restore\u001b[39m\u001b[33m\"\u001b[39m}\n\u001b[32m   2039\u001b[39m     skip = optional_kws - {*inspect.signature(meth).parameters}\n\u001b[32m-> \u001b[39m\u001b[32m2040\u001b[39m     print_method = functools.wraps(meth)(\u001b[38;5;28;01mlambda\u001b[39;00m *args, **kwargs: \u001b[43mmeth\u001b[49m\u001b[43m(\u001b[49m\n\u001b[32m   2041\u001b[39m \u001b[43m        \u001b[49m\u001b[43m*\u001b[49m\u001b[43margs\u001b[49m\u001b[43m,\u001b[49m\u001b[43m \u001b[49m\u001b[43m*\u001b[49m\u001b[43m*\u001b[49m\u001b[43m{\u001b[49m\u001b[43mk\u001b[49m\u001b[43m:\u001b[49m\u001b[43m \u001b[49m\u001b[43mv\u001b[49m\u001b[43m \u001b[49m\u001b[38;5;28;43;01mfor\u001b[39;49;00m\u001b[43m \u001b[49m\u001b[43mk\u001b[49m\u001b[43m,\u001b[49m\u001b[43m \u001b[49m\u001b[43mv\u001b[49m\u001b[43m \u001b[49m\u001b[38;5;129;43;01min\u001b[39;49;00m\u001b[43m \u001b[49m\u001b[43mkwargs\u001b[49m\u001b[43m.\u001b[49m\u001b[43mitems\u001b[49m\u001b[43m(\u001b[49m\u001b[43m)\u001b[49m\u001b[43m \u001b[49m\u001b[38;5;28;43;01mif\u001b[39;49;00m\u001b[43m \u001b[49m\u001b[43mk\u001b[49m\u001b[43m \u001b[49m\u001b[38;5;129;43;01mnot\u001b[39;49;00m\u001b[43m \u001b[49m\u001b[38;5;129;43;01min\u001b[39;49;00m\u001b[43m \u001b[49m\u001b[43mskip\u001b[49m\u001b[43m}\u001b[49m\u001b[43m)\u001b[49m)\n\u001b[32m   2042\u001b[39m \u001b[38;5;28;01melse\u001b[39;00m:  \u001b[38;5;66;03m# Let third-parties do as they see fit.\u001b[39;00m\n\u001b[32m   2043\u001b[39m     print_method = meth\n",
      "\u001b[36mFile \u001b[39m\u001b[32m~/merlin_codes/dl/Parkinson-Diagnosis-Deeplearning/.venv/lib/python3.12/site-packages/matplotlib/backends/backend_agg.py:481\u001b[39m, in \u001b[36mFigureCanvasAgg.print_png\u001b[39m\u001b[34m(self, filename_or_obj, metadata, pil_kwargs)\u001b[39m\n\u001b[32m    434\u001b[39m \u001b[38;5;28;01mdef\u001b[39;00m\u001b[38;5;250m \u001b[39m\u001b[34mprint_png\u001b[39m(\u001b[38;5;28mself\u001b[39m, filename_or_obj, *, metadata=\u001b[38;5;28;01mNone\u001b[39;00m, pil_kwargs=\u001b[38;5;28;01mNone\u001b[39;00m):\n\u001b[32m    435\u001b[39m \u001b[38;5;250m    \u001b[39m\u001b[33;03m\"\"\"\u001b[39;00m\n\u001b[32m    436\u001b[39m \u001b[33;03m    Write the figure to a PNG file.\u001b[39;00m\n\u001b[32m    437\u001b[39m \n\u001b[32m   (...)\u001b[39m\u001b[32m    479\u001b[39m \u001b[33;03m        *metadata*, including the default 'Software' key.\u001b[39;00m\n\u001b[32m    480\u001b[39m \u001b[33;03m    \"\"\"\u001b[39;00m\n\u001b[32m--> \u001b[39m\u001b[32m481\u001b[39m     \u001b[38;5;28;43mself\u001b[39;49m\u001b[43m.\u001b[49m\u001b[43m_print_pil\u001b[49m\u001b[43m(\u001b[49m\u001b[43mfilename_or_obj\u001b[49m\u001b[43m,\u001b[49m\u001b[43m \u001b[49m\u001b[33;43m\"\u001b[39;49m\u001b[33;43mpng\u001b[39;49m\u001b[33;43m\"\u001b[39;49m\u001b[43m,\u001b[49m\u001b[43m \u001b[49m\u001b[43mpil_kwargs\u001b[49m\u001b[43m,\u001b[49m\u001b[43m \u001b[49m\u001b[43mmetadata\u001b[49m\u001b[43m)\u001b[49m\n",
      "\u001b[36mFile \u001b[39m\u001b[32m~/merlin_codes/dl/Parkinson-Diagnosis-Deeplearning/.venv/lib/python3.12/site-packages/matplotlib/backends/backend_agg.py:430\u001b[39m, in \u001b[36mFigureCanvasAgg._print_pil\u001b[39m\u001b[34m(self, filename_or_obj, fmt, pil_kwargs, metadata)\u001b[39m\n\u001b[32m    425\u001b[39m \u001b[38;5;250m\u001b[39m\u001b[33;03m\"\"\"\u001b[39;00m\n\u001b[32m    426\u001b[39m \u001b[33;03mDraw the canvas, then save it using `.image.imsave` (to which\u001b[39;00m\n\u001b[32m    427\u001b[39m \u001b[33;03m*pil_kwargs* and *metadata* are forwarded).\u001b[39;00m\n\u001b[32m    428\u001b[39m \u001b[33;03m\"\"\"\u001b[39;00m\n\u001b[32m    429\u001b[39m FigureCanvasAgg.draw(\u001b[38;5;28mself\u001b[39m)\n\u001b[32m--> \u001b[39m\u001b[32m430\u001b[39m \u001b[43mmpl\u001b[49m\u001b[43m.\u001b[49m\u001b[43mimage\u001b[49m\u001b[43m.\u001b[49m\u001b[43mimsave\u001b[49m\u001b[43m(\u001b[49m\n\u001b[32m    431\u001b[39m \u001b[43m    \u001b[49m\u001b[43mfilename_or_obj\u001b[49m\u001b[43m,\u001b[49m\u001b[43m \u001b[49m\u001b[38;5;28;43mself\u001b[39;49m\u001b[43m.\u001b[49m\u001b[43mbuffer_rgba\u001b[49m\u001b[43m(\u001b[49m\u001b[43m)\u001b[49m\u001b[43m,\u001b[49m\u001b[43m \u001b[49m\u001b[38;5;28;43mformat\u001b[39;49m\u001b[43m=\u001b[49m\u001b[43mfmt\u001b[49m\u001b[43m,\u001b[49m\u001b[43m \u001b[49m\u001b[43morigin\u001b[49m\u001b[43m=\u001b[49m\u001b[33;43m\"\u001b[39;49m\u001b[33;43mupper\u001b[39;49m\u001b[33;43m\"\u001b[39;49m\u001b[43m,\u001b[49m\n\u001b[32m    432\u001b[39m \u001b[43m    \u001b[49m\u001b[43mdpi\u001b[49m\u001b[43m=\u001b[49m\u001b[38;5;28;43mself\u001b[39;49m\u001b[43m.\u001b[49m\u001b[43mfigure\u001b[49m\u001b[43m.\u001b[49m\u001b[43mdpi\u001b[49m\u001b[43m,\u001b[49m\u001b[43m \u001b[49m\u001b[43mmetadata\u001b[49m\u001b[43m=\u001b[49m\u001b[43mmetadata\u001b[49m\u001b[43m,\u001b[49m\u001b[43m \u001b[49m\u001b[43mpil_kwargs\u001b[49m\u001b[43m=\u001b[49m\u001b[43mpil_kwargs\u001b[49m\u001b[43m)\u001b[49m\n",
      "\u001b[36mFile \u001b[39m\u001b[32m~/merlin_codes/dl/Parkinson-Diagnosis-Deeplearning/.venv/lib/python3.12/site-packages/matplotlib/image.py:1657\u001b[39m, in \u001b[36mimsave\u001b[39m\u001b[34m(fname, arr, vmin, vmax, cmap, format, origin, dpi, metadata, pil_kwargs)\u001b[39m\n\u001b[32m   1655\u001b[39m pil_kwargs.setdefault(\u001b[33m\"\u001b[39m\u001b[33mformat\u001b[39m\u001b[33m\"\u001b[39m, \u001b[38;5;28mformat\u001b[39m)\n\u001b[32m   1656\u001b[39m pil_kwargs.setdefault(\u001b[33m\"\u001b[39m\u001b[33mdpi\u001b[39m\u001b[33m\"\u001b[39m, (dpi, dpi))\n\u001b[32m-> \u001b[39m\u001b[32m1657\u001b[39m \u001b[43mimage\u001b[49m\u001b[43m.\u001b[49m\u001b[43msave\u001b[49m\u001b[43m(\u001b[49m\u001b[43mfname\u001b[49m\u001b[43m,\u001b[49m\u001b[43m \u001b[49m\u001b[43m*\u001b[49m\u001b[43m*\u001b[49m\u001b[43mpil_kwargs\u001b[49m\u001b[43m)\u001b[49m\n",
      "\u001b[36mFile \u001b[39m\u001b[32m~/merlin_codes/dl/Parkinson-Diagnosis-Deeplearning/.venv/lib/python3.12/site-packages/PIL/Image.py:2576\u001b[39m, in \u001b[36mImage.save\u001b[39m\u001b[34m(self, fp, format, **params)\u001b[39m\n\u001b[32m   2574\u001b[39m         fp = builtins.open(filename, \u001b[33m\"\u001b[39m\u001b[33mr+b\u001b[39m\u001b[33m\"\u001b[39m)\n\u001b[32m   2575\u001b[39m     \u001b[38;5;28;01melse\u001b[39;00m:\n\u001b[32m-> \u001b[39m\u001b[32m2576\u001b[39m         fp = \u001b[43mbuiltins\u001b[49m\u001b[43m.\u001b[49m\u001b[43mopen\u001b[49m\u001b[43m(\u001b[49m\u001b[43mfilename\u001b[49m\u001b[43m,\u001b[49m\u001b[43m \u001b[49m\u001b[33;43m\"\u001b[39;49m\u001b[33;43mw+b\u001b[39;49m\u001b[33;43m\"\u001b[39;49m\u001b[43m)\u001b[49m\n\u001b[32m   2577\u001b[39m \u001b[38;5;28;01melse\u001b[39;00m:\n\u001b[32m   2578\u001b[39m     fp = cast(IO[\u001b[38;5;28mbytes\u001b[39m], fp)\n",
      "\u001b[31mFileNotFoundError\u001b[39m: [Errno 2] No such file or directory: '../outputs/2.3_catch22/1step/loss_curve.png'"
     ]
    },
    {
     "data": {
      "image/png": "[encoded data removed]",
      "text/plain": [
       "<Figure size 640x480 with 1 Axes>"
      ]
     },
     "metadata": {},
     "output_type": "display_data"
    },
    {
     "data": {
      "image/png": "[encoded data removed]",
      "text/plain": [
       "<Figure size 500x500 with 1 Axes>"
      ]
     },
     "metadata": {},
     "output_type": "display_data"
    }
   ],
   "source": [
    "# Criando e plotando os resultados.\n",
    "parkinson.utils.results.metrics_to_dataframe(metrics1)\n",
    "fig_loss = parkinson.utils.results.plot_losses(out1['train_loss'],out1['val_loss'])\n",
    "fig_loss.show()\n",
    "fig_cf = parkinson.utils.results.plot_confusion_matrix(metrics1['preds'], metrics1['labels'], class_names=['Control','Non healthy'])\n",
    "fig_cf.show()\n",
    "\n",
    "# Salvando as figuras.\n",
    "fig_loss.savefig(f\"{SAVE_PATH}/1step/loss_curve.png\", bbox_inches='tight')\n",
    "fig_cf.savefig(f\"{SAVE_PATH}/1step/confusion_matrix.png\", bbox_inches='tight')"
   ]
  },
  {
   "cell_type": "markdown",
   "id": "9ae5e412",
   "metadata": {},
   "source": [
    "## 2 Step"
   ]
  },
  {
   "cell_type": "code",
   "execution_count": null,
   "id": "74aa2c60",
   "metadata": {},
   "outputs": [],
   "source": [
    "# Criando e plotando os resultados.\n",
    "parkinson.utils.results.metrics_to_dataframe(metrics2)\n",
    "fig_loss = parkinson.utils.results.plot_losses(out2['train_loss'],out2['val_loss'])\n",
    "fig_loss.show()\n",
    "fig_cf = parkinson.utils.results.plot_confusion_matrix(metrics2['preds'], metrics2['labels'], class_names=['Prodomals','Parkinson'])\n",
    "fig_cf.show()\n",
    "\n",
    "# Salvando as figuras.\n",
    "fig_loss.savefig(f\"{SAVE_PATH}/2step/loss_curve.png\", bbox_inches='tight')\n",
    "fig_cf.savefig(f\"{SAVE_PATH}/2step/confusion_matrix.png\", bbox_inches='tight')"
   ]
  },
  {
   "cell_type": "markdown",
   "id": "2b34f829",
   "metadata": {},
   "source": [
    "# Treinamento Modelo Final"
   ]
  },
  {
   "cell_type": "code",
   "execution_count": null,
   "id": "440c6501",
   "metadata": {},
   "outputs": [],
   "source": [
    "# model1 = parkinson.NetworkModels.customFCN(X_1step_train.shape[1], N_CLASSES).to(device)\n",
    "model1 = parkinson.NetworkModels.customMLP(input_dim=X_1step_train.shape[1], hidden_dim=16, output_dim=N_CLASSES).to(device)\n",
    "model1.load_state_dict(torch.load(\"../weights/2.3_catch22/1step/best_model.pth\", map_location=device))\n",
    "\n",
    "# model2 = parkinson.NetworkModels.customFCN(X_2step_train.shape[1], N_CLASSES).to(device)\n",
    "model2 = parkinson.NetworkModels.customMLP(input_dim=X_1step_train.shape[1], hidden_dim=16, output_dim=N_CLASSES).to(device)\n",
    "model2.load_state_dict(torch.load(\"../weights/2.3_catch22/2step/best_model.pth\", map_location=device))"
   ]
  },
  {
   "cell_type": "code",
   "execution_count": null,
   "id": "1f0aebad",
   "metadata": {},
   "outputs": [],
   "source": [
    "all_preds = []\n",
    "all_true = []\n",
    "\n",
    "model1.eval()\n",
    "model2.eval()\n",
    "with torch.no_grad():\n",
    "    for X_batch, y_batch in test_final_loader:\n",
    "        for i in range(X_batch.shape[0]):\n",
    "            x = X_batch[i].unsqueeze(0).to(device)\n",
    "            y_true = y_batch[i].item()\n",
    "            all_true.append(y_true)\n",
    "            output1 = model1(x)\n",
    "            pred1 = output1.argmax(dim=1).item()\n",
    "            if pred1 == 0:\n",
    "                all_preds.append(0)  # Control\n",
    "            else:\n",
    "                output2 = model2(x)\n",
    "                pred2 = output2.argmax(dim=1).item()\n",
    "                if pred2 == 1:\n",
    "                    all_preds.append(1)  # Parkinson\n",
    "                else:\n",
    "                    all_preds.append(2)  # Prodomal"
   ]
  },
  {
   "cell_type": "code",
   "execution_count": null,
   "id": "f04a1fe9",
   "metadata": {},
   "outputs": [],
   "source": [
    "# Calculando métricas gerais para o modelo final (3 classes)\n",
    "df_metrics = pd.DataFrame({\n",
    "    'Acurácia': [accuracy_score(all_true, all_preds)],\n",
    "    'F1': [f1_score(all_true, all_preds, average='weighted')],\n",
    "    'Precisão': [precision_score(all_true, all_preds, average='weighted')],\n",
    "    'Recall': [recall_score(all_true, all_preds, average='weighted')]\n",
    "})\n",
    "print(df_metrics)\n",
    "\n",
    "# Criando e plotando os resultados.\n",
    "fig_cf = parkinson.utils.results.plot_confusion_matrix(all_preds, all_true, class_names=['Control','Parkinson', 'Prodomals'])\n",
    "fig_cf.show()\n",
    "\n",
    "# Salvando as figuras.\n",
    "fig_cf.savefig(f\"{SAVE_PATH}/confusion_matrix.png\", bbox_inches='tight')"
   ]
  }
 ],
 "metadata": {
  "kernelspec": {
   "display_name": "parkinson-py3.12",
   "language": "python",
   "name": "python3"
  },
  "language_info": {
   "codemirror_mode": {
    "name": "ipython",
    "version": 3
   },
   "file_extension": ".py",
   "mimetype": "text/x-python",
   "name": "python",
   "nbconvert_exporter": "python",
   "pygments_lexer": "ipython3",
   "version": "3.12.2"
  }
 },
 "nbformat": 4,
 "nbformat_minor": 5
}
