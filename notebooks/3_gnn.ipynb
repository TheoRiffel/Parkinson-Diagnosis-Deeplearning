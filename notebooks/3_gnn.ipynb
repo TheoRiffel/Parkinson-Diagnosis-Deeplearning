{
 "cells": [
  {
   "cell_type": "code",
   "execution_count": 63,
   "id": "3bfef93d",
   "metadata": {},
   "outputs": [
    {
     "name": "stdout",
     "output_type": "stream",
     "text": [
      "The autoreload extension is already loaded. To reload it, use:\n",
      "  %reload_ext autoreload\n"
     ]
    }
   ],
   "source": [
    "%load_ext autoreload"
   ]
  },
  {
   "cell_type": "code",
   "execution_count": 64,
   "id": "49b7c719",
   "metadata": {},
   "outputs": [],
   "source": [
    "import os\n",
    "import parkinson\n",
    "\n",
    "import torch\n",
    "from torch import nn\n",
    "from torch_geometric.data import Data\n",
    "import torch.nn.functional as F\n",
    "from torch_geometric.nn import GCNConv, global_mean_pool, TopKPooling\n",
    "from torch.nn import Linear\n",
    "from torch_geometric.loader import DataLoader\n",
    "from torch.utils.data import WeightedRandomSampler\n",
    "\n",
    "import numpy as np\n",
    "import seaborn as sns\n",
    "import matplotlib.pyplot as plt\n",
    "import networkx as nx\n",
    "\n",
    "from tqdm import tqdm\n",
    "from sklearn.preprocessing import StandardScaler, label_binarize\n",
    "from sklearn.model_selection import StratifiedKFold, train_test_split\n",
    "from sklearn.metrics import confusion_matrix, accuracy_score, f1_score, precision_score, recall_score, roc_auc_score, classification_report\n",
    "from sklearn.utils.class_weight import compute_class_weight"
   ]
  },
  {
   "cell_type": "code",
   "execution_count": 65,
   "id": "0c0bbac7",
   "metadata": {},
   "outputs": [],
   "source": [
    "SAVE_PATH = '../outputs/3_gnn'"
   ]
  },
  {
   "cell_type": "markdown",
   "id": "fe743b1d",
   "metadata": {},
   "source": [
    "# Processamento dos dados"
   ]
  },
  {
   "cell_type": "code",
   "execution_count": 66,
   "id": "3f1e5dcd",
   "metadata": {},
   "outputs": [
    {
     "name": "stderr",
     "output_type": "stream",
     "text": [
      "100%|██████████| 66/66 [00:01<00:00, 59.74it/s]\n",
      "100%|██████████| 153/153 [00:02<00:00, 58.00it/s]\n",
      "100%|██████████| 188/188 [00:03<00:00, 58.99it/s]\n"
     ]
    }
   ],
   "source": [
    "control_data = parkinson.utils.data.batch_read('../data/Controls_columns')\n",
    "parkinson_data = parkinson.utils.data.batch_read('../data/PDs_columns')\n",
    "prodomal_data = parkinson.utils.data.batch_read('../data/Prodomals_columns')"
   ]
  },
  {
   "cell_type": "code",
   "execution_count": 67,
   "id": "77be6a0d",
   "metadata": {},
   "outputs": [],
   "source": [
    "control_atlas_data = parkinson.utils.data.select_atlas_columns(control_data, 'AAL3')\n",
    "parkinson_atlas_data = parkinson.utils.data.select_atlas_columns(parkinson_data, 'AAL3')\n",
    "prodomal_atlas_data = parkinson.utils.data.select_atlas_columns(prodomal_data, 'AAL3')\n",
    "\n",
    "control_correlation_matrix = parkinson.utils.correlation.pearson_correlation(control_atlas_data, return_upper_triangular=False)\n",
    "parkinson_correlation_matrix = parkinson.utils.correlation.pearson_correlation(parkinson_atlas_data, return_upper_triangular=False)\n",
    "prodomal_correlation_matrix = parkinson.utils.correlation.pearson_correlation(prodomal_atlas_data, return_upper_triangular=False)\n",
    "\n",
    "X = parkinson.utils.data.concatenate_data(control_correlation_matrix, parkinson_correlation_matrix, prodomal_correlation_matrix)\n",
    "y = parkinson.utils.data.concatenate_data([0 for _ in range(len(control_data))], [1 for _ in range(len(parkinson_data))], [2 for _ in range(len(prodomal_data))])\n",
    "X_matrix, y = parkinson.utils.data.filter_data(X, y)"
   ]
  },
  {
   "cell_type": "code",
   "execution_count": 68,
   "id": "8a38ccc1",
   "metadata": {},
   "outputs": [],
   "source": [
    "all_matrices = control_correlation_matrix + parkinson_correlation_matrix + prodomal_correlation_matrix\n",
    "X_features = np.array(all_matrices)"
   ]
  },
  {
   "cell_type": "markdown",
   "id": "17de704b",
   "metadata": {},
   "source": [
    "-----------"
   ]
  },
  {
   "cell_type": "markdown",
   "id": "8d948794",
   "metadata": {},
   "source": [
    "### Computando OMST para todos os pacientes"
   ]
  },
  {
   "cell_type": "code",
   "execution_count": 69,
   "id": "fd46022f",
   "metadata": {},
   "outputs": [
    {
     "name": "stderr",
     "output_type": "stream",
     "text": [
      "100%|██████████| 66/66 [00:00<00:00, 812.07it/s]"
     ]
    },
    {
     "name": "stdout",
     "output_type": "stream",
     "text": [
      "Loaded 66 graphs from ../data/Control_OMSTs\n"
     ]
    },
    {
     "name": "stderr",
     "output_type": "stream",
     "text": [
      "\n"
     ]
    }
   ],
   "source": [
    "Control_omst_graphs = []\n",
    "if os.path.exists('../data/Control_OMSTs'):\n",
    "    Control_omst_graphs = parkinson.graph.utils.load_graphs('../data/Control_OMSTs')\n",
    "else:\n",
    "    for i in tqdm(range(len(control_correlation_matrix))):\n",
    "        adj = control_correlation_matrix[i].copy()\n",
    "        omst_builder = parkinson.graph.OMSTBuilder(adj)\n",
    "        omst_builder.build(verbose=False)\n",
    "        Control_omst_graphs.append(omst_builder.final_graph.to_undirected())"
   ]
  },
  {
   "cell_type": "code",
   "execution_count": 70,
   "id": "4d365786",
   "metadata": {},
   "outputs": [
    {
     "name": "stderr",
     "output_type": "stream",
     "text": [
      "100%|██████████| 188/188 [00:00<00:00, 786.96it/s]"
     ]
    },
    {
     "name": "stdout",
     "output_type": "stream",
     "text": [
      "Loaded 188 graphs from ../data/Prodomal_OMSTs\n"
     ]
    },
    {
     "name": "stderr",
     "output_type": "stream",
     "text": [
      "\n"
     ]
    }
   ],
   "source": [
    "Prodomal_omst_graphs = []\n",
    "if os.path.exists('../data/Prodomal_OMSTs'):\n",
    "    Prodomal_omst_graphs = parkinson.graph.utils.load_graphs('../data/Prodomal_OMSTs')\n",
    "else:\n",
    "    for i in tqdm(range(len(prodomal_correlation_matrix))):\n",
    "        adj = prodomal_correlation_matrix[i].copy()\n",
    "        omst_builder = parkinson.graph.OMSTBuilder(adj)\n",
    "        omst_builder.build(verbose=False)\n",
    "        Prodomal_omst_graphs.append(omst_builder.final_graph.to_undirected())"
   ]
  },
  {
   "cell_type": "code",
   "execution_count": 71,
   "id": "c31ad293",
   "metadata": {},
   "outputs": [
    {
     "name": "stderr",
     "output_type": "stream",
     "text": [
      "100%|██████████| 153/153 [00:00<00:00, 751.89it/s]"
     ]
    },
    {
     "name": "stdout",
     "output_type": "stream",
     "text": [
      "Loaded 153 graphs from ../data/Parkinson_OMSTs\n"
     ]
    },
    {
     "name": "stderr",
     "output_type": "stream",
     "text": [
      "\n"
     ]
    }
   ],
   "source": [
    "Parkinson_omst_graphs = []\n",
    "if os.path.exists('../data/Parkinson_OMSTs'):\n",
    "    Parkinson_omst_graphs = parkinson.graph.utils.load_graphs('../data/Parkinson_OMSTs')\n",
    "else:\n",
    "    for i in tqdm(range(len(parkinson_correlation_matrix))):\n",
    "        adj = parkinson_correlation_matrix[i].copy()\n",
    "        omst_builder = parkinson.graph.OMSTBuilder(adj)\n",
    "        omst_builder.build(verbose=False)\n",
    "        Parkinson_omst_graphs.append(omst_builder.final_graph.to_undirected())"
   ]
  },
  {
   "cell_type": "markdown",
   "id": "ec25ad71",
   "metadata": {},
   "source": [
    "### Construção das Node Features\n",
    "\n",
    "Vamos usar a abordagem 'Connection Profile'. Um \"connection profile\" para um nó simples (um ROI) é seu padrão único de conectividade com os outros nós do cérebro. Em termos práticos, corresponde a uma linha (ou coluna, pois a matriz é simétrica) da matriz de conectividade fncional."
   ]
  },
  {
   "cell_type": "code",
   "execution_count": 72,
   "id": "97696ebe",
   "metadata": {},
   "outputs": [
    {
     "name": "stderr",
     "output_type": "stream",
     "text": [
      "Creating PyG Data Objects: 100%|██████████| 407/407 [00:00<00:00, 1607.91it/s]\n"
     ]
    }
   ],
   "source": [
    "def to_pyg_data(graph: nx.Graph, feature_matrix: np.ndarray, label: int) -> Data:\n",
    "    \"\"\"Converts a NetworkX graph and features into a PyTorch Geometric Data object.\"\"\"\n",
    "    x = torch.tensor(feature_matrix, dtype=torch.float)\n",
    "\n",
    "    edge_index = torch.tensor(list(graph.edges), dtype=torch.long).t().contiguous()\n",
    "\n",
    "    edge_attr = torch.tensor([graph[u][v]['weight'] for u, v in graph.edges], dtype=torch.float)\n",
    "\n",
    "    y = torch.tensor([label], dtype=torch.long)\n",
    "\n",
    "    return Data(x=x, edge_index=edge_index, edge_attr=edge_attr, y=y)\n",
    "\n",
    "# --- Create the PyG dataset ---\n",
    "pyg_dataset = []\n",
    "for i, graph in enumerate(tqdm(Control_omst_graphs + Prodomal_omst_graphs + Parkinson_omst_graphs, desc=\"Creating PyG Data Objects\")):\n",
    "    pyg_data_point = to_pyg_data(graph, X_features[i], y[i])\n",
    "    pyg_dataset.append(pyg_data_point)"
   ]
  },
  {
   "cell_type": "markdown",
   "id": "7859cdb0",
   "metadata": {},
   "source": [
    "------"
   ]
  },
  {
   "cell_type": "markdown",
   "id": "ba227b93",
   "metadata": {},
   "source": [
    "### Construindo a GNN"
   ]
  },
  {
   "cell_type": "code",
   "execution_count": 73,
   "id": "ac857274",
   "metadata": {},
   "outputs": [],
   "source": [
    "class GCNNet(torch.nn.Module):\n",
    "    def __init__(self, in_channels, hidden_channels, num_classes, dropout=0.4):\n",
    "        super(GCNNet, self).__init__()\n",
    "        self.conv1 = GCNConv(in_channels, hidden_channels)\n",
    "        self.lin = torch.nn.Linear(hidden_channels, num_classes)\n",
    "        self.dropout = dropout\n",
    "\n",
    "    def forward(self, x, edge_index, edge_attr, batch):\n",
    "        x = F.relu(self.conv1(x, edge_index, edge_weight=edge_attr))\n",
    "        x = F.dropout(x, p=self.dropout, training=self.training)\n",
    "        x = global_mean_pool(x, batch)\n",
    "        x = self.lin(x)\n",
    "        return x"
   ]
  },
  {
   "cell_type": "markdown",
   "id": "a9735400",
   "metadata": {},
   "source": [
    "# Treinamento"
   ]
  },
  {
   "cell_type": "code",
   "execution_count": 74,
   "id": "9f932a13",
   "metadata": {},
   "outputs": [],
   "source": [
    "# --- Training & Evaluation Functions ---\n",
    "def train_epoch(model, loader, optimizer, criterion, device):\n",
    "    model.train()\n",
    "    total_loss = 0\n",
    "    # CORRECTED LOOP: Iterate over a single 'batch' object\n",
    "    for batch in loader:\n",
    "        batch = batch.to(device)\n",
    "        optimizer.zero_grad()\n",
    "        out = model(batch.x, batch.edge_index, batch.edge_attr, batch.batch)\n",
    "        loss = criterion(out, batch.y)\n",
    "        loss.backward()\n",
    "        optimizer.step()\n",
    "        total_loss += loss.item() * batch.num_graphs\n",
    "    return total_loss / len(loader.dataset)\n",
    "\n",
    "@torch.no_grad()\n",
    "def evaluate(model, loader, device, num_classes=3):\n",
    "    model.eval()\n",
    "    logits_list, y_true_list = [], []\n",
    "    # CORRECTED LOOP\n",
    "    for batch in loader:\n",
    "        batch = batch.to(device)\n",
    "        logits = model(batch.x, batch.edge_index, batch.edge_attr, batch.batch)\n",
    "        logits_list.append(logits.cpu())\n",
    "        y_true_list.append(batch.y.cpu())\n",
    "\n",
    "    y_pred_logits = torch.cat(logits_list)\n",
    "    y_true = torch.cat(y_true_list)\n",
    "    probs = F.softmax(y_pred_logits, dim=1).numpy()\n",
    "    preds = y_pred_logits.argmax(dim=1).numpy()\n",
    "\n",
    "    # Calculate metrics\n",
    "    acc = accuracy_score(y_true, preds)\n",
    "    f1 = f1_score(y_true, preds, average='weighted', zero_division=0)\n",
    "    true_bin = label_binarize(y_true, classes=list(range(num_classes)))\n",
    "    auc = roc_auc_score(true_bin, probs, multi_class='ovr', average='weighted')\n",
    "    return acc, f1, auc, y_true.numpy(), preds"
   ]
  },
  {
   "cell_type": "code",
   "execution_count": 75,
   "id": "b297fd43",
   "metadata": {},
   "outputs": [],
   "source": [
    "DEVICE = torch.device('cuda' if torch.cuda.is_available() else 'cpu')\n",
    "NUM_CLASSES = 3\n",
    "LEARNING_RATE = 0.001\n",
    "WEIGHT_DECAY = 5e-4\n",
    "BATCH_SIZE = 32\n",
    "EPOCHS = 100\n",
    "PATIENCE = 10"
   ]
  },
  {
   "cell_type": "code",
   "execution_count": 76,
   "id": "161d4ea9",
   "metadata": {},
   "outputs": [],
   "source": [
    "X_trainval, X_test, y_trainval, y_test = train_test_split(pyg_dataset, y, test_size=0.2, random_state=42, stratify=y)\n",
    "X_train, X_val, y_train, y_val = train_test_split(X_trainval, y_trainval, test_size=0.25, random_state=42, stratify=y_trainval)\n",
    "\n",
    "# Weighted sampler para lidar com desbalanceamento\n",
    "class_counts = np.bincount(y_train)\n",
    "class_weights = 1. / class_counts\n",
    "sample_weights = np.array([class_weights[label] for label in y_train])\n",
    "sampler = WeightedRandomSampler(sample_weights, len(sample_weights), replacement=True)\n",
    "\n",
    "train_loader = DataLoader(X_train, batch_size=32, sampler=sampler)\n",
    "val_loader = DataLoader(X_val, batch_size=32, shuffle=False)\n",
    "test_loader = DataLoader(X_test, batch_size=32, shuffle=False)\n"
   ]
  },
  {
   "cell_type": "code",
   "execution_count": 77,
   "id": "bf8147f3",
   "metadata": {},
   "outputs": [
    {
     "name": "stdout",
     "output_type": "stream",
     "text": [
      "--- Starting Training on cuda ---\n"
     ]
    },
    {
     "ename": "ValueError",
     "evalue": "Input contains NaN.",
     "output_type": "error",
     "traceback": [
      "\u001b[31m---------------------------------------------------------------------------\u001b[39m",
      "\u001b[31mValueError\u001b[39m                                Traceback (most recent call last)",
      "\u001b[36mCell\u001b[39m\u001b[36m \u001b[39m\u001b[32mIn[77]\u001b[39m\u001b[32m, line 19\u001b[39m\n\u001b[32m     17\u001b[39m \u001b[38;5;28;01mfor\u001b[39;00m epoch \u001b[38;5;129;01min\u001b[39;00m \u001b[38;5;28mrange\u001b[39m(\u001b[32m1\u001b[39m, EPOCHS + \u001b[32m1\u001b[39m):\n\u001b[32m     18\u001b[39m     loss = train_epoch(model, train_loader, optimizer, criterion, DEVICE)\n\u001b[32m---> \u001b[39m\u001b[32m19\u001b[39m     val_acc, val_f1, val_auc, _, _ = \u001b[43mevaluate\u001b[49m\u001b[43m(\u001b[49m\u001b[43mmodel\u001b[49m\u001b[43m,\u001b[49m\u001b[43m \u001b[49m\u001b[43mval_loader\u001b[49m\u001b[43m,\u001b[49m\u001b[43m \u001b[49m\u001b[43mDEVICE\u001b[49m\u001b[43m)\u001b[49m\n\u001b[32m     21\u001b[39m     \u001b[38;5;28mprint\u001b[39m(\u001b[33mf\u001b[39m\u001b[33m\"\u001b[39m\u001b[33mEpoch: \u001b[39m\u001b[38;5;132;01m{\u001b[39;00mepoch\u001b[38;5;132;01m:\u001b[39;00m\u001b[33m02d\u001b[39m\u001b[38;5;132;01m}\u001b[39;00m\u001b[33m | Loss: \u001b[39m\u001b[38;5;132;01m{\u001b[39;00mloss\u001b[38;5;132;01m:\u001b[39;00m\u001b[33m.4f\u001b[39m\u001b[38;5;132;01m}\u001b[39;00m\u001b[33m | Val Acc: \u001b[39m\u001b[38;5;132;01m{\u001b[39;00mval_acc\u001b[38;5;132;01m:\u001b[39;00m\u001b[33m.4f\u001b[39m\u001b[38;5;132;01m}\u001b[39;00m\u001b[33m | Val AUC: \u001b[39m\u001b[38;5;132;01m{\u001b[39;00mval_auc\u001b[38;5;132;01m:\u001b[39;00m\u001b[33m.4f\u001b[39m\u001b[38;5;132;01m}\u001b[39;00m\u001b[33m\"\u001b[39m)\n\u001b[32m     23\u001b[39m     \u001b[38;5;28;01mif\u001b[39;00m val_auc > best_val_auc:\n",
      "\u001b[36mFile \u001b[39m\u001b[32m~/codes/codes_25_01/RNAP/Parkinson-Diagnosis-Deeplearning/.venv/lib/python3.12/site-packages/torch/utils/_contextlib.py:116\u001b[39m, in \u001b[36mcontext_decorator.<locals>.decorate_context\u001b[39m\u001b[34m(*args, **kwargs)\u001b[39m\n\u001b[32m    113\u001b[39m \u001b[38;5;129m@functools\u001b[39m.wraps(func)\n\u001b[32m    114\u001b[39m \u001b[38;5;28;01mdef\u001b[39;00m\u001b[38;5;250m \u001b[39m\u001b[34mdecorate_context\u001b[39m(*args, **kwargs):\n\u001b[32m    115\u001b[39m     \u001b[38;5;28;01mwith\u001b[39;00m ctx_factory():\n\u001b[32m--> \u001b[39m\u001b[32m116\u001b[39m         \u001b[38;5;28;01mreturn\u001b[39;00m \u001b[43mfunc\u001b[49m\u001b[43m(\u001b[49m\u001b[43m*\u001b[49m\u001b[43margs\u001b[49m\u001b[43m,\u001b[49m\u001b[43m \u001b[49m\u001b[43m*\u001b[49m\u001b[43m*\u001b[49m\u001b[43mkwargs\u001b[49m\u001b[43m)\u001b[49m\n",
      "\u001b[36mCell\u001b[39m\u001b[36m \u001b[39m\u001b[32mIn[74]\u001b[39m\u001b[32m, line 36\u001b[39m, in \u001b[36mevaluate\u001b[39m\u001b[34m(model, loader, device, num_classes)\u001b[39m\n\u001b[32m     34\u001b[39m f1 = f1_score(y_true, preds, average=\u001b[33m'\u001b[39m\u001b[33mweighted\u001b[39m\u001b[33m'\u001b[39m, zero_division=\u001b[32m0\u001b[39m)\n\u001b[32m     35\u001b[39m true_bin = label_binarize(y_true, classes=\u001b[38;5;28mlist\u001b[39m(\u001b[38;5;28mrange\u001b[39m(num_classes)))\n\u001b[32m---> \u001b[39m\u001b[32m36\u001b[39m auc = \u001b[43mroc_auc_score\u001b[49m\u001b[43m(\u001b[49m\u001b[43mtrue_bin\u001b[49m\u001b[43m,\u001b[49m\u001b[43m \u001b[49m\u001b[43mprobs\u001b[49m\u001b[43m,\u001b[49m\u001b[43m \u001b[49m\u001b[43mmulti_class\u001b[49m\u001b[43m=\u001b[49m\u001b[33;43m'\u001b[39;49m\u001b[33;43movr\u001b[39;49m\u001b[33;43m'\u001b[39;49m\u001b[43m,\u001b[49m\u001b[43m \u001b[49m\u001b[43maverage\u001b[49m\u001b[43m=\u001b[49m\u001b[33;43m'\u001b[39;49m\u001b[33;43mweighted\u001b[39;49m\u001b[33;43m'\u001b[39;49m\u001b[43m)\u001b[49m\n\u001b[32m     37\u001b[39m \u001b[38;5;28;01mreturn\u001b[39;00m acc, f1, auc, y_true.numpy(), preds\n",
      "\u001b[36mFile \u001b[39m\u001b[32m~/codes/codes_25_01/RNAP/Parkinson-Diagnosis-Deeplearning/.venv/lib/python3.12/site-packages/sklearn/utils/_param_validation.py:216\u001b[39m, in \u001b[36mvalidate_params.<locals>.decorator.<locals>.wrapper\u001b[39m\u001b[34m(*args, **kwargs)\u001b[39m\n\u001b[32m    210\u001b[39m \u001b[38;5;28;01mtry\u001b[39;00m:\n\u001b[32m    211\u001b[39m     \u001b[38;5;28;01mwith\u001b[39;00m config_context(\n\u001b[32m    212\u001b[39m         skip_parameter_validation=(\n\u001b[32m    213\u001b[39m             prefer_skip_nested_validation \u001b[38;5;129;01mor\u001b[39;00m global_skip_validation\n\u001b[32m    214\u001b[39m         )\n\u001b[32m    215\u001b[39m     ):\n\u001b[32m--> \u001b[39m\u001b[32m216\u001b[39m         \u001b[38;5;28;01mreturn\u001b[39;00m \u001b[43mfunc\u001b[49m\u001b[43m(\u001b[49m\u001b[43m*\u001b[49m\u001b[43margs\u001b[49m\u001b[43m,\u001b[49m\u001b[43m \u001b[49m\u001b[43m*\u001b[49m\u001b[43m*\u001b[49m\u001b[43mkwargs\u001b[49m\u001b[43m)\u001b[49m\n\u001b[32m    217\u001b[39m \u001b[38;5;28;01mexcept\u001b[39;00m InvalidParameterError \u001b[38;5;28;01mas\u001b[39;00m e:\n\u001b[32m    218\u001b[39m     \u001b[38;5;66;03m# When the function is just a wrapper around an estimator, we allow\u001b[39;00m\n\u001b[32m    219\u001b[39m     \u001b[38;5;66;03m# the function to delegate validation to the estimator, but we replace\u001b[39;00m\n\u001b[32m    220\u001b[39m     \u001b[38;5;66;03m# the name of the estimator by the name of the function in the error\u001b[39;00m\n\u001b[32m    221\u001b[39m     \u001b[38;5;66;03m# message to avoid confusion.\u001b[39;00m\n\u001b[32m    222\u001b[39m     msg = re.sub(\n\u001b[32m    223\u001b[39m         \u001b[33mr\u001b[39m\u001b[33m\"\u001b[39m\u001b[33mparameter of \u001b[39m\u001b[33m\\\u001b[39m\u001b[33mw+ must be\u001b[39m\u001b[33m\"\u001b[39m,\n\u001b[32m    224\u001b[39m         \u001b[33mf\u001b[39m\u001b[33m\"\u001b[39m\u001b[33mparameter of \u001b[39m\u001b[38;5;132;01m{\u001b[39;00mfunc.\u001b[34m__qualname__\u001b[39m\u001b[38;5;132;01m}\u001b[39;00m\u001b[33m must be\u001b[39m\u001b[33m\"\u001b[39m,\n\u001b[32m    225\u001b[39m         \u001b[38;5;28mstr\u001b[39m(e),\n\u001b[32m    226\u001b[39m     )\n",
      "\u001b[36mFile \u001b[39m\u001b[32m~/codes/codes_25_01/RNAP/Parkinson-Diagnosis-Deeplearning/.venv/lib/python3.12/site-packages/sklearn/metrics/_ranking.py:620\u001b[39m, in \u001b[36mroc_auc_score\u001b[39m\u001b[34m(y_true, y_score, average, sample_weight, max_fpr, multi_class, labels)\u001b[39m\n\u001b[32m    618\u001b[39m y_type = type_of_target(y_true, input_name=\u001b[33m\"\u001b[39m\u001b[33my_true\u001b[39m\u001b[33m\"\u001b[39m)\n\u001b[32m    619\u001b[39m y_true = check_array(y_true, ensure_2d=\u001b[38;5;28;01mFalse\u001b[39;00m, dtype=\u001b[38;5;28;01mNone\u001b[39;00m)\n\u001b[32m--> \u001b[39m\u001b[32m620\u001b[39m y_score = \u001b[43mcheck_array\u001b[49m\u001b[43m(\u001b[49m\u001b[43my_score\u001b[49m\u001b[43m,\u001b[49m\u001b[43m \u001b[49m\u001b[43mensure_2d\u001b[49m\u001b[43m=\u001b[49m\u001b[38;5;28;43;01mFalse\u001b[39;49;00m\u001b[43m)\u001b[49m\n\u001b[32m    622\u001b[39m \u001b[38;5;28;01mif\u001b[39;00m y_type == \u001b[33m\"\u001b[39m\u001b[33mmulticlass\u001b[39m\u001b[33m\"\u001b[39m \u001b[38;5;129;01mor\u001b[39;00m (\n\u001b[32m    623\u001b[39m     y_type == \u001b[33m\"\u001b[39m\u001b[33mbinary\u001b[39m\u001b[33m\"\u001b[39m \u001b[38;5;129;01mand\u001b[39;00m y_score.ndim == \u001b[32m2\u001b[39m \u001b[38;5;129;01mand\u001b[39;00m y_score.shape[\u001b[32m1\u001b[39m] > \u001b[32m2\u001b[39m\n\u001b[32m    624\u001b[39m ):\n\u001b[32m    625\u001b[39m     \u001b[38;5;66;03m# do not support partial ROC computation for multiclass\u001b[39;00m\n\u001b[32m    626\u001b[39m     \u001b[38;5;28;01mif\u001b[39;00m max_fpr \u001b[38;5;129;01mis\u001b[39;00m \u001b[38;5;129;01mnot\u001b[39;00m \u001b[38;5;28;01mNone\u001b[39;00m \u001b[38;5;129;01mand\u001b[39;00m max_fpr != \u001b[32m1.0\u001b[39m:\n",
      "\u001b[36mFile \u001b[39m\u001b[32m~/codes/codes_25_01/RNAP/Parkinson-Diagnosis-Deeplearning/.venv/lib/python3.12/site-packages/sklearn/utils/validation.py:1107\u001b[39m, in \u001b[36mcheck_array\u001b[39m\u001b[34m(array, accept_sparse, accept_large_sparse, dtype, order, copy, force_writeable, force_all_finite, ensure_all_finite, ensure_non_negative, ensure_2d, allow_nd, ensure_min_samples, ensure_min_features, estimator, input_name)\u001b[39m\n\u001b[32m   1101\u001b[39m     \u001b[38;5;28;01mraise\u001b[39;00m \u001b[38;5;167;01mValueError\u001b[39;00m(\n\u001b[32m   1102\u001b[39m         \u001b[33m\"\u001b[39m\u001b[33mFound array with dim \u001b[39m\u001b[38;5;132;01m%d\u001b[39;00m\u001b[33m. \u001b[39m\u001b[38;5;132;01m%s\u001b[39;00m\u001b[33m expected <= 2.\u001b[39m\u001b[33m\"\u001b[39m\n\u001b[32m   1103\u001b[39m         % (array.ndim, estimator_name)\n\u001b[32m   1104\u001b[39m     )\n\u001b[32m   1106\u001b[39m \u001b[38;5;28;01mif\u001b[39;00m ensure_all_finite:\n\u001b[32m-> \u001b[39m\u001b[32m1107\u001b[39m     \u001b[43m_assert_all_finite\u001b[49m\u001b[43m(\u001b[49m\n\u001b[32m   1108\u001b[39m \u001b[43m        \u001b[49m\u001b[43marray\u001b[49m\u001b[43m,\u001b[49m\n\u001b[32m   1109\u001b[39m \u001b[43m        \u001b[49m\u001b[43minput_name\u001b[49m\u001b[43m=\u001b[49m\u001b[43minput_name\u001b[49m\u001b[43m,\u001b[49m\n\u001b[32m   1110\u001b[39m \u001b[43m        \u001b[49m\u001b[43mestimator_name\u001b[49m\u001b[43m=\u001b[49m\u001b[43mestimator_name\u001b[49m\u001b[43m,\u001b[49m\n\u001b[32m   1111\u001b[39m \u001b[43m        \u001b[49m\u001b[43mallow_nan\u001b[49m\u001b[43m=\u001b[49m\u001b[43mensure_all_finite\u001b[49m\u001b[43m \u001b[49m\u001b[43m==\u001b[49m\u001b[43m \u001b[49m\u001b[33;43m\"\u001b[39;49m\u001b[33;43mallow-nan\u001b[39;49m\u001b[33;43m\"\u001b[39;49m\u001b[43m,\u001b[49m\n\u001b[32m   1112\u001b[39m \u001b[43m    \u001b[49m\u001b[43m)\u001b[49m\n\u001b[32m   1114\u001b[39m \u001b[38;5;28;01mif\u001b[39;00m copy:\n\u001b[32m   1115\u001b[39m     \u001b[38;5;28;01mif\u001b[39;00m _is_numpy_namespace(xp):\n\u001b[32m   1116\u001b[39m         \u001b[38;5;66;03m# only make a copy if `array` and `array_orig` may share memory`\u001b[39;00m\n",
      "\u001b[36mFile \u001b[39m\u001b[32m~/codes/codes_25_01/RNAP/Parkinson-Diagnosis-Deeplearning/.venv/lib/python3.12/site-packages/sklearn/utils/validation.py:120\u001b[39m, in \u001b[36m_assert_all_finite\u001b[39m\u001b[34m(X, allow_nan, msg_dtype, estimator_name, input_name)\u001b[39m\n\u001b[32m    117\u001b[39m \u001b[38;5;28;01mif\u001b[39;00m first_pass_isfinite:\n\u001b[32m    118\u001b[39m     \u001b[38;5;28;01mreturn\u001b[39;00m\n\u001b[32m--> \u001b[39m\u001b[32m120\u001b[39m \u001b[43m_assert_all_finite_element_wise\u001b[49m\u001b[43m(\u001b[49m\n\u001b[32m    121\u001b[39m \u001b[43m    \u001b[49m\u001b[43mX\u001b[49m\u001b[43m,\u001b[49m\n\u001b[32m    122\u001b[39m \u001b[43m    \u001b[49m\u001b[43mxp\u001b[49m\u001b[43m=\u001b[49m\u001b[43mxp\u001b[49m\u001b[43m,\u001b[49m\n\u001b[32m    123\u001b[39m \u001b[43m    \u001b[49m\u001b[43mallow_nan\u001b[49m\u001b[43m=\u001b[49m\u001b[43mallow_nan\u001b[49m\u001b[43m,\u001b[49m\n\u001b[32m    124\u001b[39m \u001b[43m    \u001b[49m\u001b[43mmsg_dtype\u001b[49m\u001b[43m=\u001b[49m\u001b[43mmsg_dtype\u001b[49m\u001b[43m,\u001b[49m\n\u001b[32m    125\u001b[39m \u001b[43m    \u001b[49m\u001b[43mestimator_name\u001b[49m\u001b[43m=\u001b[49m\u001b[43mestimator_name\u001b[49m\u001b[43m,\u001b[49m\n\u001b[32m    126\u001b[39m \u001b[43m    \u001b[49m\u001b[43minput_name\u001b[49m\u001b[43m=\u001b[49m\u001b[43minput_name\u001b[49m\u001b[43m,\u001b[49m\n\u001b[32m    127\u001b[39m \u001b[43m\u001b[49m\u001b[43m)\u001b[49m\n",
      "\u001b[36mFile \u001b[39m\u001b[32m~/codes/codes_25_01/RNAP/Parkinson-Diagnosis-Deeplearning/.venv/lib/python3.12/site-packages/sklearn/utils/validation.py:169\u001b[39m, in \u001b[36m_assert_all_finite_element_wise\u001b[39m\u001b[34m(X, xp, allow_nan, msg_dtype, estimator_name, input_name)\u001b[39m\n\u001b[32m    152\u001b[39m \u001b[38;5;28;01mif\u001b[39;00m estimator_name \u001b[38;5;129;01mand\u001b[39;00m input_name == \u001b[33m\"\u001b[39m\u001b[33mX\u001b[39m\u001b[33m\"\u001b[39m \u001b[38;5;129;01mand\u001b[39;00m has_nan_error:\n\u001b[32m    153\u001b[39m     \u001b[38;5;66;03m# Improve the error message on how to handle missing values in\u001b[39;00m\n\u001b[32m    154\u001b[39m     \u001b[38;5;66;03m# scikit-learn.\u001b[39;00m\n\u001b[32m    155\u001b[39m     msg_err += (\n\u001b[32m    156\u001b[39m         \u001b[33mf\u001b[39m\u001b[33m\"\u001b[39m\u001b[38;5;130;01m\\n\u001b[39;00m\u001b[38;5;132;01m{\u001b[39;00mestimator_name\u001b[38;5;132;01m}\u001b[39;00m\u001b[33m does not accept missing values\u001b[39m\u001b[33m\"\u001b[39m\n\u001b[32m    157\u001b[39m         \u001b[33m\"\u001b[39m\u001b[33m encoded as NaN natively. For supervised learning, you might want\u001b[39m\u001b[33m\"\u001b[39m\n\u001b[32m   (...)\u001b[39m\u001b[32m    167\u001b[39m         \u001b[33m\"\u001b[39m\u001b[33m#estimators-that-handle-nan-values\u001b[39m\u001b[33m\"\u001b[39m\n\u001b[32m    168\u001b[39m     )\n\u001b[32m--> \u001b[39m\u001b[32m169\u001b[39m \u001b[38;5;28;01mraise\u001b[39;00m \u001b[38;5;167;01mValueError\u001b[39;00m(msg_err)\n",
      "\u001b[31mValueError\u001b[39m: Input contains NaN."
     ]
    }
   ],
   "source": [
    "model = GCNNet(\n",
    "    in_channels=pyg_dataset[0].num_node_features,\n",
    "    hidden_channels=16, # Hyperparameter to tune\n",
    "    num_classes=NUM_CLASSES,\n",
    "    dropout=0.4 # Hyperparameter to tune\n",
    ").to(DEVICE)\n",
    "\n",
    "optimizer = torch.optim.Adam(model.parameters(), lr=LEARNING_RATE, weight_decay=WEIGHT_DECAY)\n",
    "criterion = torch.nn.CrossEntropyLoss()\n",
    "\n",
    "best_val_auc = 0\n",
    "patience_counter = 0\n",
    "os.makedirs('../weights/3_gnn_corrected/', exist_ok=True)\n",
    "model_save_path = '../weights/3_gnn_corrected/best_model.pt'\n",
    "\n",
    "print(f\"--- Starting Training on {DEVICE} ---\")\n",
    "for epoch in range(1, EPOCHS + 1):\n",
    "    loss = train_epoch(model, train_loader, optimizer, criterion, DEVICE)\n",
    "    val_acc, val_f1, val_auc, _, _ = evaluate(model, val_loader, DEVICE)\n",
    "\n",
    "    print(f\"Epoch: {epoch:02d} | Loss: {loss:.4f} | Val Acc: {val_acc:.4f} | Val AUC: {val_auc:.4f}\")\n",
    "\n",
    "    if val_auc > best_val_auc:\n",
    "        best_val_auc = val_auc\n",
    "        torch.save(model.state_dict(), model_save_path)\n",
    "        print(f\"  -> New best model saved with Val AUC: {best_val_auc:.4f}\")\n",
    "        patience_counter = 0\n",
    "    else:\n",
    "        patience_counter += 1\n",
    "        if patience_counter >= PATIENCE:\n",
    "            print(f\"--- Early stopping triggered after {epoch} epochs. ---\")\n",
    "            break\n",
    "\n",
    "print(\"\\n--- Training Finished ---\")"
   ]
  },
  {
   "cell_type": "code",
   "execution_count": 78,
   "id": "bd74099b",
   "metadata": {},
   "outputs": [
    {
     "name": "stdout",
     "output_type": "stream",
     "text": [
      "\n",
      "--- Evaluating on Test Set ---\n",
      "\n",
      "Test Accuracy: 0.1585\n",
      "Test F1-Score (Weighted): 0.0434\n",
      "Test ROC-AUC (Weighted OVR): 0.3899\n",
      "\n",
      "Classification Report:\n",
      "              precision    recall  f1-score   support\n",
      "\n",
      "     Control       0.16      1.00      0.27        13\n",
      "   Prodromal       0.00      0.00      0.00        31\n",
      " Parkinson's       0.00      0.00      0.00        38\n",
      "\n",
      "    accuracy                           0.16        82\n",
      "   macro avg       0.05      0.33      0.09        82\n",
      "weighted avg       0.03      0.16      0.04        82\n",
      "\n",
      "Confusion Matrix:\n"
     ]
    },
    {
     "data": {
      "image/png": "[encoded data removed]",
      "text/plain": [
       "<Figure size 640x480 with 2 Axes>"
      ]
     },
     "metadata": {},
     "output_type": "display_data"
    }
   ],
   "source": [
    "\n",
    "# --- Final Evaluation on the Test Set ---\n",
    "print(\"\\n--- Evaluating on Test Set ---\")\n",
    "model.load_state_dict(torch.load(model_save_path))\n",
    "test_acc, test_f1, test_auc, y_true, y_pred = evaluate(model, test_loader, DEVICE)\n",
    "\n",
    "print(f\"\\nTest Accuracy: {test_acc:.4f}\")\n",
    "print(f\"Test F1-Score (Weighted): {test_f1:.4f}\")\n",
    "print(f\"Test ROC-AUC (Weighted OVR): {test_auc:.4f}\")\n",
    "\n",
    "# --- Classification Report and Confusion Matrix ---\n",
    "target_names = ['Control', 'Prodromal', 'Parkinson\\'s']\n",
    "print(\"\\nClassification Report:\")\n",
    "print(classification_report(y_true, y_pred, target_names=target_names, zero_division=0))\n",
    "\n",
    "print(\"Confusion Matrix:\")\n",
    "cm = confusion_matrix(y_true, y_pred)\n",
    "sns.heatmap(cm, annot=True, fmt='d', cmap='Blues', xticklabels=target_names, yticklabels=target_names)\n",
    "plt.xlabel(\"Predicted Label\")\n",
    "plt.ylabel(\"True Label\")\n",
    "plt.title(\"Confusion Matrix\")\n",
    "plt.show()"
   ]
  }
 ],
 "metadata": {
  "kernelspec": {
   "display_name": "parkinson-py3.12",
   "language": "python",
   "name": "python3"
  },
  "language_info": {
   "codemirror_mode": {
    "name": "ipython",
    "version": 3
   },
   "file_extension": ".py",
   "mimetype": "text/x-python",
   "name": "python",
   "nbconvert_exporter": "python",
   "pygments_lexer": "ipython3",
   "version": "3.12.11"
  }
 },
 "nbformat": 4,
 "nbformat_minor": 5
}
