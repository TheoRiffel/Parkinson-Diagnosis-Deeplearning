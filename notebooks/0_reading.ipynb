{
 "cells": [
  {
   "cell_type": "markdown",
   "id": "fc7b43c2",
   "metadata": {},
   "source": [
    "# Reading Files"
   ]
  },
  {
   "cell_type": "code",
   "execution_count": 181,
   "id": "f10d2033",
   "metadata": {},
   "outputs": [],
   "source": [
    "import os\n",
    "\n",
    "import pandas as pd\n",
    "import networkx as nx\n",
    "import numpy as np\n",
    "\n",
    "from fastdtw import fastdtw\n",
    "from tqdm import tqdm\n",
    "from node2vec import Node2Vec\n",
    "from sklearn.neural_network import MLPClassifier\n",
    "from sklearn.model_selection import train_test_split, RandomizedSearchCV"
   ]
  },
  {
   "cell_type": "code",
   "execution_count": null,
   "id": "d7628160",
   "metadata": {},
   "outputs": [],
   "source": [
    "def batch_read(path: str) -> list[pd.DataFrame]:\n",
    "    df_list = []\n",
    "    for file in tqdm(os.listdir(path)):\n",
    "        df = pd.read_csv(f'{path}/{file}')\n",
    "        df_list.append(df)\n",
    "    return df_list"
   ]
  },
  {
   "cell_type": "code",
   "execution_count": 3,
   "id": "6f41a9b6",
   "metadata": {},
   "outputs": [
    {
     "name": "stderr",
     "output_type": "stream",
     "text": [
      "100%|██████████| 66/66 [00:04<00:00, 16.08it/s]\n"
     ]
    }
   ],
   "source": [
    "control_data = batch_read('../data/Controls_columns')"
   ]
  },
  {
   "cell_type": "code",
   "execution_count": 4,
   "id": "2042221d",
   "metadata": {},
   "outputs": [
    {
     "name": "stderr",
     "output_type": "stream",
     "text": [
      "100%|██████████| 113/113 [00:07<00:00, 16.02it/s]\n"
     ]
    }
   ],
   "source": [
    "parkinson_data = batch_read('../data/PDs_columns')"
   ]
  },
  {
   "cell_type": "markdown",
   "id": "4f73063b",
   "metadata": {},
   "source": [
    "## Create Graphs\n",
    "\n",
    "Demora muito para calcular a rede funcional com DTW"
   ]
  },
  {
   "cell_type": "code",
   "execution_count": 219,
   "id": "f8482fda",
   "metadata": {},
   "outputs": [],
   "source": [
    "def dtw_distance(time_series1: np.array, time_series2: np.array) -> float:\n",
    "    distance, _ = fastdtw(time_series1.reshape(-1, 1), time_series2.reshape(-1, 1), dist=euclidean)\n",
    "    return distance\n",
    "\n",
    "def compute_functional_network(time_series: np.array, distance_function: callable) -> np.array:\n",
    "    n = time_series.shape[0]\n",
    "    functional_network = np.zeros((n, n))\n",
    "    for i in tqdm(range(1, n), leave=True):\n",
    "        for j in tqdm(range(i+1, n), leave=False):\n",
    "            distance = distance_function(time_series[i].reshape(-1, 1), time_series[j].reshape(-1, 1))\n",
    "            functional_network[i, j] = distance\n",
    "            functional_network[j, i] = distance\n",
    "    return functional_network"
   ]
  },
  {
   "cell_type": "code",
   "execution_count": null,
   "id": "ae1d0ff7",
   "metadata": {},
   "outputs": [],
   "source": [
    "compute_functional_network(parkinson_data[0].to_numpy(), dtw_distance)"
   ]
  },
  {
   "cell_type": "markdown",
   "id": "11920f53",
   "metadata": {},
   "source": [
    "Vamos utilizar Pearson"
   ]
  },
  {
   "cell_type": "markdown",
   "id": "2e7c0f93",
   "metadata": {},
   "source": [
    "### Teste com a Triangular Superior"
   ]
  },
  {
   "cell_type": "code",
   "execution_count": 156,
   "id": "ec7e31ff",
   "metadata": {},
   "outputs": [],
   "source": [
    "upper_triangular_indices = np.triu_indices(240)\n",
    "\n",
    "parkinson_correlation_matrix = [time_series.T.corr().to_numpy()[upper_triangular_indices] for time_series in parkinson_data]\n",
    "control_correlation_matrix = [time_series.T.corr().to_numpy()[upper_triangular_indices] for time_series in control_data]"
   ]
  },
  {
   "cell_type": "code",
   "execution_count": null,
   "id": "b9182a8b",
   "metadata": {},
   "outputs": [],
   "source": [
    "X = np.concatenate([\n",
    "    parkinson_correlation_matrix,\n",
    "    control_correlation_matrix\n",
    "], axis=0)"
   ]
  },
  {
   "cell_type": "code",
   "execution_count": 160,
   "id": "dec63803",
   "metadata": {},
   "outputs": [],
   "source": [
    "y = np.concatenate([\n",
    "    [1 for _ in range(len(parkinson_data))],\n",
    "    [0 for _ in range(len(control_data))]\n",
    "])"
   ]
  },
  {
   "cell_type": "markdown",
   "id": "24f0abc4",
   "metadata": {},
   "source": [
    "#### Train/Test Split"
   ]
  },
  {
   "cell_type": "code",
   "execution_count": 163,
   "id": "c2d4a205",
   "metadata": {},
   "outputs": [],
   "source": [
    "X_train, X_test, y_train, y_test = train_test_split(X, y)"
   ]
  },
  {
   "cell_type": "code",
   "execution_count": 202,
   "id": "6886c60e",
   "metadata": {},
   "outputs": [],
   "source": [
    "params = {\n",
    "    'hidden_layer_sizes': (100, 100, 100),\n",
    "    'alpha': np.arange(1e-4, 1e-2, 1e-3),\n",
    "    'learning_rate': ['constant', 'adaptive'],\n",
    "}"
   ]
  },
  {
   "cell_type": "markdown",
   "id": "1ffe69c4",
   "metadata": {},
   "source": [
    "#### Training"
   ]
  },
  {
   "cell_type": "code",
   "execution_count": 210,
   "id": "d68a8675",
   "metadata": {},
   "outputs": [
    {
     "data": {
      "text/plain": [
       "{'learning_rate': 'constant', 'hidden_layer_sizes': 100, 'alpha': 0.0001}"
      ]
     },
     "execution_count": 210,
     "metadata": {},
     "output_type": "execute_result"
    }
   ],
   "source": [
    "model = MLPClassifier(early_stopping=True)\n",
    "hyperparam_optimization = RandomizedSearchCV(model, params, random_state=1)\n",
    "search = hyperparam_optimization.fit(X_train, y_train)\n",
    "search.best_params_"
   ]
  },
  {
   "cell_type": "code",
   "execution_count": 211,
   "id": "ea4602b2",
   "metadata": {},
   "outputs": [
    {
     "data": {
      "text/plain": [
       "0.5777777777777777"
      ]
     },
     "execution_count": 211,
     "metadata": {},
     "output_type": "execute_result"
    }
   ],
   "source": [
    "optimized_model = MLPClassifier(early_stopping=True, **search.best_params_).fit(X_train, y_train)\n",
    "optimized_model.score(X_test, y_test)"
   ]
  },
  {
   "cell_type": "code",
   "execution_count": 213,
   "id": "7a98d393",
   "metadata": {},
   "outputs": [
    {
     "data": {
      "text/plain": [
       "array([1, 1, 1, 1, 0, 1, 0, 0, 1, 1, 1, 1, 1, 1, 0, 0, 1, 1, 0, 1, 0, 1,\n",
       "       1, 0, 1, 1, 0, 1, 0, 1, 1, 1, 1, 0, 0, 0, 0, 1, 1, 1, 1, 0, 0, 1,\n",
       "       1, 1, 0, 1, 1, 0, 1, 0, 1, 1, 1, 1, 0, 1, 0, 0, 1, 1, 0, 1, 1, 1,\n",
       "       1, 1, 0, 1, 1, 1, 1, 0, 1, 1, 1, 0, 0, 0, 1, 1, 0, 0, 1, 0, 1, 1,\n",
       "       1, 0, 1, 0, 1, 1, 0, 1, 1, 0, 0, 1, 1, 1, 1, 0, 1, 1, 0, 0, 1, 0,\n",
       "       0, 1, 1, 0, 1, 1, 1, 0, 0, 0, 1, 1, 1, 1, 1, 0, 0, 1, 1, 0, 0, 1,\n",
       "       1, 1])"
      ]
     },
     "execution_count": 213,
     "metadata": {},
     "output_type": "execute_result"
    }
   ],
   "source": [
    "optimized_model.predict(X_train)"
   ]
  },
  {
   "cell_type": "markdown",
   "id": "e0ec6689",
   "metadata": {},
   "source": [
    "### Node2Vec\n",
    "\n",
    "Não tá funfando por hora. Talvez a matriz de correlação/Grafo precise ser Positiva Semi Definida (não pode ter valores negativos e umas propriedades a mais ai)"
   ]
  },
  {
   "cell_type": "code",
   "execution_count": 216,
   "id": "635156f6",
   "metadata": {},
   "outputs": [
    {
     "name": "stderr",
     "output_type": "stream",
     "text": [
      "Computing transition probabilities: 100%|██████████| 240/240 [00:28<00:00,  8.39it/s]\n",
      "Generating walks (CPU: 1):   0%|          | 0/50 [00:00<?, ?it/s]"
     ]
    },
    {
     "ename": "ValueError",
     "evalue": "probabilities are not non-negative",
     "output_type": "error",
     "traceback": [
      "\u001b[0;31m---------------------------------------------------------------------------\u001b[0m",
      "\u001b[0;31m_RemoteTraceback\u001b[0m                          Traceback (most recent call last)",
      "\u001b[0;31m_RemoteTraceback\u001b[0m: \n\"\"\"\nTraceback (most recent call last):\n  File \"/home/vitor/miniforge3/envs/parkinson/lib/python3.9/site-packages/joblib/externals/loky/process_executor.py\", line 490, in _process_worker\n    r = call_item()\n  File \"/home/vitor/miniforge3/envs/parkinson/lib/python3.9/site-packages/joblib/externals/loky/process_executor.py\", line 291, in __call__\n    return self.fn(*self.args, **self.kwargs)\n  File \"/home/vitor/miniforge3/envs/parkinson/lib/python3.9/site-packages/joblib/parallel.py\", line 607, in __call__\n    return [func(*args, **kwargs) for func, args, kwargs in self.items]\n  File \"/home/vitor/miniforge3/envs/parkinson/lib/python3.9/site-packages/joblib/parallel.py\", line 607, in <listcomp>\n    return [func(*args, **kwargs) for func, args, kwargs in self.items]\n  File \"/home/vitor/miniforge3/envs/parkinson/lib/python3.9/site-packages/node2vec/parallel.py\", line 59, in parallel_generate_walks\n    walk_to = np.random.choice(walk_options, size=1, p=probabilities)[0]\n  File \"numpy/random/mtrand.pyx\", line 973, in numpy.random.mtrand.RandomState.choice\nValueError: probabilities are not non-negative\n\"\"\"",
      "\nThe above exception was the direct cause of the following exception:\n",
      "\u001b[0;31mValueError\u001b[0m                                Traceback (most recent call last)",
      "Cell \u001b[0;32mIn[216], line 5\u001b[0m\n\u001b[1;32m      1\u001b[0m graph \u001b[38;5;241m=\u001b[39m nx\u001b[38;5;241m.\u001b[39mfrom_numpy_array(\n\u001b[1;32m      2\u001b[0m     parkinson_data[\u001b[38;5;241m0\u001b[39m]\u001b[38;5;241m.\u001b[39mT\u001b[38;5;241m.\u001b[39mcorr()\u001b[38;5;241m.\u001b[39mto_numpy()\n\u001b[1;32m      3\u001b[0m )\n\u001b[0;32m----> 5\u001b[0m node2vec \u001b[38;5;241m=\u001b[39m \u001b[43mNode2Vec\u001b[49m\u001b[43m(\u001b[49m\u001b[43mgraph\u001b[49m\u001b[43m,\u001b[49m\u001b[43m \u001b[49m\u001b[43mdimensions\u001b[49m\u001b[38;5;241;43m=\u001b[39;49m\u001b[38;5;241;43m64\u001b[39;49m\u001b[43m,\u001b[49m\u001b[43m \u001b[49m\u001b[43mwalk_length\u001b[49m\u001b[38;5;241;43m=\u001b[39;49m\u001b[38;5;241;43m30\u001b[39;49m\u001b[43m,\u001b[49m\u001b[43m \u001b[49m\u001b[43mnum_walks\u001b[49m\u001b[38;5;241;43m=\u001b[39;49m\u001b[38;5;241;43m200\u001b[39;49m\u001b[43m,\u001b[49m\u001b[43m \u001b[49m\u001b[43mworkers\u001b[49m\u001b[38;5;241;43m=\u001b[39;49m\u001b[38;5;241;43m4\u001b[39;49m\u001b[43m)\u001b[49m\n\u001b[1;32m      7\u001b[0m n2v_model \u001b[38;5;241m=\u001b[39m node2vec\u001b[38;5;241m.\u001b[39mfit(window\u001b[38;5;241m=\u001b[39m\u001b[38;5;241m10\u001b[39m, min_count\u001b[38;5;241m=\u001b[39m\u001b[38;5;241m1\u001b[39m, batch_words\u001b[38;5;241m=\u001b[39m\u001b[38;5;241m4\u001b[39m)\n",
      "File \u001b[0;32m~/miniforge3/envs/parkinson/lib/python3.9/site-packages/node2vec/node2vec.py:71\u001b[0m, in \u001b[0;36mNode2Vec.__init__\u001b[0;34m(self, graph, dimensions, walk_length, num_walks, p, q, weight_key, workers, sampling_strategy, quiet, temp_folder)\u001b[0m\n\u001b[1;32m     68\u001b[0m     \u001b[38;5;28mself\u001b[39m\u001b[38;5;241m.\u001b[39mrequire \u001b[38;5;241m=\u001b[39m \u001b[38;5;124m\"\u001b[39m\u001b[38;5;124msharedmem\u001b[39m\u001b[38;5;124m\"\u001b[39m\n\u001b[1;32m     70\u001b[0m \u001b[38;5;28mself\u001b[39m\u001b[38;5;241m.\u001b[39m_precompute_probabilities()\n\u001b[0;32m---> 71\u001b[0m \u001b[38;5;28mself\u001b[39m\u001b[38;5;241m.\u001b[39mwalks \u001b[38;5;241m=\u001b[39m \u001b[38;5;28;43mself\u001b[39;49m\u001b[38;5;241;43m.\u001b[39;49m\u001b[43m_generate_walks\u001b[49m\u001b[43m(\u001b[49m\u001b[43m)\u001b[49m\n",
      "File \u001b[0;32m~/miniforge3/envs/parkinson/lib/python3.9/site-packages/node2vec/node2vec.py:145\u001b[0m, in \u001b[0;36mNode2Vec._generate_walks\u001b[0;34m(self)\u001b[0m\n\u001b[1;32m    142\u001b[0m \u001b[38;5;66;03m# Split num_walks for each worker\u001b[39;00m\n\u001b[1;32m    143\u001b[0m num_walks_lists \u001b[38;5;241m=\u001b[39m np\u001b[38;5;241m.\u001b[39marray_split(\u001b[38;5;28mrange\u001b[39m(\u001b[38;5;28mself\u001b[39m\u001b[38;5;241m.\u001b[39mnum_walks), \u001b[38;5;28mself\u001b[39m\u001b[38;5;241m.\u001b[39mworkers)\n\u001b[0;32m--> 145\u001b[0m walk_results \u001b[38;5;241m=\u001b[39m \u001b[43mParallel\u001b[49m\u001b[43m(\u001b[49m\u001b[43mn_jobs\u001b[49m\u001b[38;5;241;43m=\u001b[39;49m\u001b[38;5;28;43mself\u001b[39;49m\u001b[38;5;241;43m.\u001b[39;49m\u001b[43mworkers\u001b[49m\u001b[43m,\u001b[49m\u001b[43m \u001b[49m\u001b[43mtemp_folder\u001b[49m\u001b[38;5;241;43m=\u001b[39;49m\u001b[38;5;28;43mself\u001b[39;49m\u001b[38;5;241;43m.\u001b[39;49m\u001b[43mtemp_folder\u001b[49m\u001b[43m,\u001b[49m\u001b[43m \u001b[49m\u001b[43mrequire\u001b[49m\u001b[38;5;241;43m=\u001b[39;49m\u001b[38;5;28;43mself\u001b[39;49m\u001b[38;5;241;43m.\u001b[39;49m\u001b[43mrequire\u001b[49m\u001b[43m)\u001b[49m\u001b[43m(\u001b[49m\n\u001b[1;32m    146\u001b[0m \u001b[43m    \u001b[49m\u001b[43mdelayed\u001b[49m\u001b[43m(\u001b[49m\u001b[43mparallel_generate_walks\u001b[49m\u001b[43m)\u001b[49m\u001b[43m(\u001b[49m\u001b[38;5;28;43mself\u001b[39;49m\u001b[38;5;241;43m.\u001b[39;49m\u001b[43md_graph\u001b[49m\u001b[43m,\u001b[49m\n\u001b[1;32m    147\u001b[0m \u001b[43m                                     \u001b[49m\u001b[38;5;28;43mself\u001b[39;49m\u001b[38;5;241;43m.\u001b[39;49m\u001b[43mwalk_length\u001b[49m\u001b[43m,\u001b[49m\n\u001b[1;32m    148\u001b[0m \u001b[43m                                     \u001b[49m\u001b[38;5;28;43mlen\u001b[39;49m\u001b[43m(\u001b[49m\u001b[43mnum_walks\u001b[49m\u001b[43m)\u001b[49m\u001b[43m,\u001b[49m\n\u001b[1;32m    149\u001b[0m \u001b[43m                                     \u001b[49m\u001b[43midx\u001b[49m\u001b[43m,\u001b[49m\n\u001b[1;32m    150\u001b[0m \u001b[43m                                     \u001b[49m\u001b[38;5;28;43mself\u001b[39;49m\u001b[38;5;241;43m.\u001b[39;49m\u001b[43msampling_strategy\u001b[49m\u001b[43m,\u001b[49m\n\u001b[1;32m    151\u001b[0m \u001b[43m                                     \u001b[49m\u001b[38;5;28;43mself\u001b[39;49m\u001b[38;5;241;43m.\u001b[39;49m\u001b[43mNUM_WALKS_KEY\u001b[49m\u001b[43m,\u001b[49m\n\u001b[1;32m    152\u001b[0m \u001b[43m                                     \u001b[49m\u001b[38;5;28;43mself\u001b[39;49m\u001b[38;5;241;43m.\u001b[39;49m\u001b[43mWALK_LENGTH_KEY\u001b[49m\u001b[43m,\u001b[49m\n\u001b[1;32m    153\u001b[0m \u001b[43m                                     \u001b[49m\u001b[38;5;28;43mself\u001b[39;49m\u001b[38;5;241;43m.\u001b[39;49m\u001b[43mNEIGHBORS_KEY\u001b[49m\u001b[43m,\u001b[49m\n\u001b[1;32m    154\u001b[0m \u001b[43m                                     \u001b[49m\u001b[38;5;28;43mself\u001b[39;49m\u001b[38;5;241;43m.\u001b[39;49m\u001b[43mPROBABILITIES_KEY\u001b[49m\u001b[43m,\u001b[49m\n\u001b[1;32m    155\u001b[0m \u001b[43m                                     \u001b[49m\u001b[38;5;28;43mself\u001b[39;49m\u001b[38;5;241;43m.\u001b[39;49m\u001b[43mFIRST_TRAVEL_KEY\u001b[49m\u001b[43m,\u001b[49m\n\u001b[1;32m    156\u001b[0m \u001b[43m                                     \u001b[49m\u001b[38;5;28;43mself\u001b[39;49m\u001b[38;5;241;43m.\u001b[39;49m\u001b[43mquiet\u001b[49m\u001b[43m)\u001b[49m\u001b[43m \u001b[49m\u001b[38;5;28;43;01mfor\u001b[39;49;00m\n\u001b[1;32m    157\u001b[0m \u001b[43m    \u001b[49m\u001b[43midx\u001b[49m\u001b[43m,\u001b[49m\u001b[43m \u001b[49m\u001b[43mnum_walks\u001b[49m\n\u001b[1;32m    158\u001b[0m \u001b[43m    \u001b[49m\u001b[38;5;129;43;01min\u001b[39;49;00m\u001b[43m \u001b[49m\u001b[38;5;28;43menumerate\u001b[39;49m\u001b[43m(\u001b[49m\u001b[43mnum_walks_lists\u001b[49m\u001b[43m,\u001b[49m\u001b[43m \u001b[49m\u001b[38;5;241;43m1\u001b[39;49m\u001b[43m)\u001b[49m\u001b[43m)\u001b[49m\n\u001b[1;32m    160\u001b[0m walks \u001b[38;5;241m=\u001b[39m flatten(walk_results)\n\u001b[1;32m    162\u001b[0m \u001b[38;5;28;01mreturn\u001b[39;00m walks\n",
      "File \u001b[0;32m~/miniforge3/envs/parkinson/lib/python3.9/site-packages/joblib/parallel.py:2072\u001b[0m, in \u001b[0;36mParallel.__call__\u001b[0;34m(self, iterable)\u001b[0m\n\u001b[1;32m   2066\u001b[0m \u001b[38;5;66;03m# The first item from the output is blank, but it makes the interpreter\u001b[39;00m\n\u001b[1;32m   2067\u001b[0m \u001b[38;5;66;03m# progress until it enters the Try/Except block of the generator and\u001b[39;00m\n\u001b[1;32m   2068\u001b[0m \u001b[38;5;66;03m# reaches the first `yield` statement. This starts the asynchronous\u001b[39;00m\n\u001b[1;32m   2069\u001b[0m \u001b[38;5;66;03m# dispatch of the tasks to the workers.\u001b[39;00m\n\u001b[1;32m   2070\u001b[0m \u001b[38;5;28mnext\u001b[39m(output)\n\u001b[0;32m-> 2072\u001b[0m \u001b[38;5;28;01mreturn\u001b[39;00m output \u001b[38;5;28;01mif\u001b[39;00m \u001b[38;5;28mself\u001b[39m\u001b[38;5;241m.\u001b[39mreturn_generator \u001b[38;5;28;01melse\u001b[39;00m \u001b[38;5;28;43mlist\u001b[39;49m\u001b[43m(\u001b[49m\u001b[43moutput\u001b[49m\u001b[43m)\u001b[49m\n",
      "File \u001b[0;32m~/miniforge3/envs/parkinson/lib/python3.9/site-packages/joblib/parallel.py:1682\u001b[0m, in \u001b[0;36mParallel._get_outputs\u001b[0;34m(self, iterator, pre_dispatch)\u001b[0m\n\u001b[1;32m   1679\u001b[0m     \u001b[38;5;28;01myield\u001b[39;00m\n\u001b[1;32m   1681\u001b[0m     \u001b[38;5;28;01mwith\u001b[39;00m \u001b[38;5;28mself\u001b[39m\u001b[38;5;241m.\u001b[39m_backend\u001b[38;5;241m.\u001b[39mretrieval_context():\n\u001b[0;32m-> 1682\u001b[0m         \u001b[38;5;28;01myield from\u001b[39;00m \u001b[38;5;28mself\u001b[39m\u001b[38;5;241m.\u001b[39m_retrieve()\n\u001b[1;32m   1684\u001b[0m \u001b[38;5;28;01mexcept\u001b[39;00m \u001b[38;5;167;01mGeneratorExit\u001b[39;00m:\n\u001b[1;32m   1685\u001b[0m     \u001b[38;5;66;03m# The generator has been garbage collected before being fully\u001b[39;00m\n\u001b[1;32m   1686\u001b[0m     \u001b[38;5;66;03m# consumed. This aborts the remaining tasks if possible and warn\u001b[39;00m\n\u001b[1;32m   1687\u001b[0m     \u001b[38;5;66;03m# the user if necessary.\u001b[39;00m\n\u001b[1;32m   1688\u001b[0m     \u001b[38;5;28mself\u001b[39m\u001b[38;5;241m.\u001b[39m_exception \u001b[38;5;241m=\u001b[39m \u001b[38;5;28;01mTrue\u001b[39;00m\n",
      "File \u001b[0;32m~/miniforge3/envs/parkinson/lib/python3.9/site-packages/joblib/parallel.py:1784\u001b[0m, in \u001b[0;36mParallel._retrieve\u001b[0;34m(self)\u001b[0m\n\u001b[1;32m   1778\u001b[0m \u001b[38;5;28;01mwhile\u001b[39;00m \u001b[38;5;28mself\u001b[39m\u001b[38;5;241m.\u001b[39m_wait_retrieval():\n\u001b[1;32m   1779\u001b[0m     \u001b[38;5;66;03m# If the callback thread of a worker has signaled that its task\u001b[39;00m\n\u001b[1;32m   1780\u001b[0m     \u001b[38;5;66;03m# triggered an exception, or if the retrieval loop has raised an\u001b[39;00m\n\u001b[1;32m   1781\u001b[0m     \u001b[38;5;66;03m# exception (e.g. `GeneratorExit`), exit the loop and surface the\u001b[39;00m\n\u001b[1;32m   1782\u001b[0m     \u001b[38;5;66;03m# worker traceback.\u001b[39;00m\n\u001b[1;32m   1783\u001b[0m     \u001b[38;5;28;01mif\u001b[39;00m \u001b[38;5;28mself\u001b[39m\u001b[38;5;241m.\u001b[39m_aborting:\n\u001b[0;32m-> 1784\u001b[0m         \u001b[38;5;28;43mself\u001b[39;49m\u001b[38;5;241;43m.\u001b[39;49m\u001b[43m_raise_error_fast\u001b[49m\u001b[43m(\u001b[49m\u001b[43m)\u001b[49m\n\u001b[1;32m   1785\u001b[0m         \u001b[38;5;28;01mbreak\u001b[39;00m\n\u001b[1;32m   1787\u001b[0m     nb_jobs \u001b[38;5;241m=\u001b[39m \u001b[38;5;28mlen\u001b[39m(\u001b[38;5;28mself\u001b[39m\u001b[38;5;241m.\u001b[39m_jobs)\n",
      "File \u001b[0;32m~/miniforge3/envs/parkinson/lib/python3.9/site-packages/joblib/parallel.py:1859\u001b[0m, in \u001b[0;36mParallel._raise_error_fast\u001b[0;34m(self)\u001b[0m\n\u001b[1;32m   1855\u001b[0m \u001b[38;5;66;03m# If this error job exists, immediately raise the error by\u001b[39;00m\n\u001b[1;32m   1856\u001b[0m \u001b[38;5;66;03m# calling get_result. This job might not exists if abort has been\u001b[39;00m\n\u001b[1;32m   1857\u001b[0m \u001b[38;5;66;03m# called directly or if the generator is gc'ed.\u001b[39;00m\n\u001b[1;32m   1858\u001b[0m \u001b[38;5;28;01mif\u001b[39;00m error_job \u001b[38;5;129;01mis\u001b[39;00m \u001b[38;5;129;01mnot\u001b[39;00m \u001b[38;5;28;01mNone\u001b[39;00m:\n\u001b[0;32m-> 1859\u001b[0m     \u001b[43merror_job\u001b[49m\u001b[38;5;241;43m.\u001b[39;49m\u001b[43mget_result\u001b[49m\u001b[43m(\u001b[49m\u001b[38;5;28;43mself\u001b[39;49m\u001b[38;5;241;43m.\u001b[39;49m\u001b[43mtimeout\u001b[49m\u001b[43m)\u001b[49m\n",
      "File \u001b[0;32m~/miniforge3/envs/parkinson/lib/python3.9/site-packages/joblib/parallel.py:758\u001b[0m, in \u001b[0;36mBatchCompletionCallBack.get_result\u001b[0;34m(self, timeout)\u001b[0m\n\u001b[1;32m    752\u001b[0m backend \u001b[38;5;241m=\u001b[39m \u001b[38;5;28mself\u001b[39m\u001b[38;5;241m.\u001b[39mparallel\u001b[38;5;241m.\u001b[39m_backend\n\u001b[1;32m    754\u001b[0m \u001b[38;5;28;01mif\u001b[39;00m backend\u001b[38;5;241m.\u001b[39msupports_retrieve_callback:\n\u001b[1;32m    755\u001b[0m     \u001b[38;5;66;03m# We assume that the result has already been retrieved by the\u001b[39;00m\n\u001b[1;32m    756\u001b[0m     \u001b[38;5;66;03m# callback thread, and is stored internally. It's just waiting to\u001b[39;00m\n\u001b[1;32m    757\u001b[0m     \u001b[38;5;66;03m# be returned.\u001b[39;00m\n\u001b[0;32m--> 758\u001b[0m     \u001b[38;5;28;01mreturn\u001b[39;00m \u001b[38;5;28;43mself\u001b[39;49m\u001b[38;5;241;43m.\u001b[39;49m\u001b[43m_return_or_raise\u001b[49m\u001b[43m(\u001b[49m\u001b[43m)\u001b[49m\n\u001b[1;32m    760\u001b[0m \u001b[38;5;66;03m# For other backends, the main thread needs to run the retrieval step.\u001b[39;00m\n\u001b[1;32m    761\u001b[0m \u001b[38;5;28;01mtry\u001b[39;00m:\n",
      "File \u001b[0;32m~/miniforge3/envs/parkinson/lib/python3.9/site-packages/joblib/parallel.py:773\u001b[0m, in \u001b[0;36mBatchCompletionCallBack._return_or_raise\u001b[0;34m(self)\u001b[0m\n\u001b[1;32m    771\u001b[0m \u001b[38;5;28;01mtry\u001b[39;00m:\n\u001b[1;32m    772\u001b[0m     \u001b[38;5;28;01mif\u001b[39;00m \u001b[38;5;28mself\u001b[39m\u001b[38;5;241m.\u001b[39mstatus \u001b[38;5;241m==\u001b[39m TASK_ERROR:\n\u001b[0;32m--> 773\u001b[0m         \u001b[38;5;28;01mraise\u001b[39;00m \u001b[38;5;28mself\u001b[39m\u001b[38;5;241m.\u001b[39m_result\n\u001b[1;32m    774\u001b[0m     \u001b[38;5;28;01mreturn\u001b[39;00m \u001b[38;5;28mself\u001b[39m\u001b[38;5;241m.\u001b[39m_result\n\u001b[1;32m    775\u001b[0m \u001b[38;5;28;01mfinally\u001b[39;00m:\n",
      "\u001b[0;31mValueError\u001b[0m: probabilities are not non-negative"
     ]
    }
   ],
   "source": [
    "graph = nx.from_numpy_array(\n",
    "    parkinson_data[0].T.corr().to_numpy()\n",
    ")\n",
    "\n",
    "node2vec = Node2Vec(graph, dimensions=64, walk_length=30, num_walks=200, workers=4)\n",
    "\n",
    "n2v_model = node2vec.fit(window=10, min_count=1, batch_words=4)"
   ]
  },
  {
   "cell_type": "code",
   "execution_count": 224,
   "id": "2d4dbea1",
   "metadata": {},
   "outputs": [
    {
     "data": {
      "text/plain": [
       "array([[ 4.10542369e-01, -8.13800544e-02,  1.05252430e-01,\n",
       "         3.20213556e-01,  2.94262171e-01, -8.20183694e-01,\n",
       "        -7.89105952e-01, -1.98348071e-02,  6.49442732e-01,\n",
       "         2.30842590e-01],\n",
       "       [ 4.11620647e-01,  4.74907979e-02,  1.99726164e-01,\n",
       "         2.47501627e-01,  2.30991051e-01, -8.57504308e-01,\n",
       "        -7.93270350e-01, -4.75351214e-02,  6.18805051e-01,\n",
       "         3.10785681e-01],\n",
       "       [ 3.62728894e-01, -3.80808376e-02,  1.49629399e-01,\n",
       "         3.38716775e-01,  2.45367005e-01, -8.47277462e-01,\n",
       "        -7.47303724e-01,  3.06409388e-03,  6.56970203e-01,\n",
       "         3.15002412e-01],\n",
       "       [ 3.93635809e-01, -1.44947495e-03,  1.27001777e-01,\n",
       "         3.04565161e-01,  3.16155165e-01, -8.29582632e-01,\n",
       "        -7.38255560e-01, -5.62160928e-03,  6.67009890e-01,\n",
       "         3.20622265e-01],\n",
       "       [ 3.99246514e-01,  1.95658579e-02,  1.65241390e-01,\n",
       "         3.42297286e-01,  3.17477643e-01, -7.76112199e-01,\n",
       "        -7.18523741e-01, -4.24726196e-02,  7.02263057e-01,\n",
       "         3.43389153e-01],\n",
       "       [ 4.24533576e-01, -6.93719164e-02,  1.76870257e-01,\n",
       "         2.97516704e-01,  2.87789613e-01, -8.23549688e-01,\n",
       "        -7.27277637e-01, -8.26642364e-02,  7.00008571e-01,\n",
       "         2.28597000e-01],\n",
       "       [ 4.25712079e-01, -3.58879752e-02,  1.50957435e-01,\n",
       "         2.54100174e-01,  2.88511395e-01, -7.88274884e-01,\n",
       "        -7.17635572e-01, -1.99018698e-02,  7.40522087e-01,\n",
       "         3.03752095e-01],\n",
       "       [ 4.84541237e-01, -4.84289310e-04,  1.81218728e-01,\n",
       "         2.65901208e-01,  3.38073760e-01, -7.66217411e-01,\n",
       "        -7.67905474e-01, -3.86108458e-02,  7.30056524e-01,\n",
       "         2.49443531e-01],\n",
       "       [ 3.94593686e-01, -4.03571278e-02,  2.01123103e-01,\n",
       "         3.21968019e-01,  2.26738676e-01, -7.97739744e-01,\n",
       "        -7.32981682e-01, -6.37222081e-02,  6.86545074e-01,\n",
       "         3.27775031e-01],\n",
       "       [ 4.60298449e-01, -2.89605241e-02,  1.08544968e-01,\n",
       "         3.26059282e-01,  2.53038466e-01, -8.33090544e-01,\n",
       "        -6.90840244e-01, -2.11560763e-02,  7.17753887e-01,\n",
       "         2.36758485e-01],\n",
       "       [ 4.12963778e-01, -1.53129259e-02,  1.03121601e-01,\n",
       "         2.89750993e-01,  3.18358183e-01, -7.68258035e-01,\n",
       "        -7.31695354e-01, -4.34833467e-02,  6.98618948e-01,\n",
       "         3.57328027e-01],\n",
       "       [ 3.86757284e-01, -2.49270704e-02,  1.14076234e-01,\n",
       "         3.26102972e-01,  2.39447877e-01, -8.30012202e-01,\n",
       "        -7.78245687e-01,  2.80547943e-02,  6.50320053e-01,\n",
       "         3.12961340e-01],\n",
       "       [ 4.58045542e-01, -3.72739173e-02,  2.06424773e-01,\n",
       "         3.42944771e-01,  2.41372854e-01, -8.37872684e-01,\n",
       "        -6.57282829e-01,  2.06076372e-02,  6.81536257e-01,\n",
       "         2.94618040e-01],\n",
       "       [ 4.57621336e-01, -8.02878961e-02,  1.41445875e-01,\n",
       "         1.96541831e-01,  3.11873704e-01, -8.14600229e-01,\n",
       "        -7.23182440e-01, -5.97031228e-02,  7.37082601e-01,\n",
       "         3.14201891e-01],\n",
       "       [ 3.58644724e-01, -5.18138222e-02,  2.05460712e-01,\n",
       "         2.71688521e-01,  2.19590396e-01, -8.45336974e-01,\n",
       "        -7.33762443e-01, -4.39808518e-02,  7.09906638e-01,\n",
       "         2.94488102e-01],\n",
       "       [ 3.89553875e-01,  3.03929280e-02,  1.58132732e-01,\n",
       "         3.45940948e-01,  2.56857306e-01, -7.36720204e-01,\n",
       "        -7.76536822e-01,  1.08023798e-02,  7.02611208e-01,\n",
       "         3.35213244e-01],\n",
       "       [ 4.24428225e-01, -2.19941232e-02,  1.03038155e-01,\n",
       "         3.42412412e-01,  3.26971829e-01, -8.36362362e-01,\n",
       "        -6.52437508e-01, -7.53798410e-02,  7.00764000e-01,\n",
       "         2.59021163e-01],\n",
       "       [ 4.35264856e-01, -7.92534277e-02,  1.84853211e-01,\n",
       "         2.31069565e-01,  3.63682300e-01, -7.77936459e-01,\n",
       "        -7.71534503e-01,  2.78524868e-03,  6.83613420e-01,\n",
       "         2.28666022e-01],\n",
       "       [ 4.72920716e-01, -9.70350672e-03,  1.69701338e-01,\n",
       "         2.23066613e-01,  3.04570705e-01, -8.35089028e-01,\n",
       "        -6.49497390e-01, -7.31611848e-02,  7.16812134e-01,\n",
       "         3.01789373e-01],\n",
       "       [ 4.37886924e-01, -6.49741814e-02,  1.69386193e-01,\n",
       "         2.42384106e-01,  2.92811394e-01, -8.47639799e-01,\n",
       "        -7.31576681e-01, -1.77762248e-02,  6.42617226e-01,\n",
       "         3.14061642e-01],\n",
       "       [ 3.53829205e-01,  2.33900417e-02,  1.39358103e-01,\n",
       "         3.53737980e-01,  3.25126261e-01, -8.62108350e-01,\n",
       "        -6.82314694e-01, -1.67417862e-02,  6.98977947e-01,\n",
       "         2.73916602e-01],\n",
       "       [ 4.52860355e-01, -1.05750645e-02,  8.45651701e-02,\n",
       "         2.09700853e-01,  3.01911175e-01, -8.29690158e-01,\n",
       "        -7.14437068e-01,  2.12693438e-02,  7.06473053e-01,\n",
       "         3.04081142e-01],\n",
       "       [ 4.21020508e-01, -1.03724487e-02,  1.55883819e-01,\n",
       "         3.08182895e-01,  2.66259432e-01, -8.77279639e-01,\n",
       "        -6.53912365e-01, -9.36711878e-02,  6.66154981e-01,\n",
       "         3.46574187e-01],\n",
       "       [ 4.58422065e-01, -6.04583621e-02,  1.94772825e-01,\n",
       "         2.86950469e-01,  2.87272573e-01, -7.79268503e-01,\n",
       "        -7.60080397e-01, -6.89417422e-02,  6.19358242e-01,\n",
       "         3.48204643e-01],\n",
       "       [ 3.98455828e-01, -6.12057708e-02,  1.89253867e-01,\n",
       "         2.48756766e-01,  3.06581229e-01, -7.91401267e-01,\n",
       "        -7.13700652e-01, -4.75271195e-02,  7.02339828e-01,\n",
       "         3.18778872e-01],\n",
       "       [ 4.60499674e-01, -2.14537438e-02,  1.21570550e-01,\n",
       "         3.84331673e-01,  2.72210598e-01, -7.53609478e-01,\n",
       "        -7.64955997e-01,  3.35808583e-02,  6.70547187e-01,\n",
       "         3.01887482e-01],\n",
       "       [ 4.27022427e-01, -3.90169509e-02,  1.60871044e-01,\n",
       "         2.04505146e-01,  2.79459029e-01, -7.99254000e-01,\n",
       "        -7.47964263e-01,  2.48547625e-02,  7.30706275e-01,\n",
       "         3.44460934e-01],\n",
       "       [ 4.48902905e-01, -7.68063292e-02,  1.67813376e-01,\n",
       "         3.31271023e-01,  2.54234016e-01, -8.18708360e-01,\n",
       "        -7.56335616e-01, -4.49317023e-02,  6.31987989e-01,\n",
       "         2.92427152e-01],\n",
       "       [ 4.15607274e-01,  5.37384488e-03,  1.13727257e-01,\n",
       "         3.58411163e-01,  3.49852622e-01, -7.95990407e-01,\n",
       "        -7.39915192e-01,  2.93353107e-02,  6.44944191e-01,\n",
       "         3.08788210e-01],\n",
       "       [ 4.38942492e-01, -1.06778415e-02,  2.18845621e-01,\n",
       "         3.33318502e-01,  3.13543081e-01, -7.94527471e-01,\n",
       "        -6.93983912e-01, -3.71326804e-02,  6.80039942e-01,\n",
       "         3.23684126e-01],\n",
       "       [ 4.18385386e-01,  1.15263984e-02,  1.64186195e-01,\n",
       "         2.35488504e-01,  3.16023260e-01, -8.02225530e-01,\n",
       "        -8.01045716e-01, -2.20014788e-02,  6.86037242e-01,\n",
       "         2.54301161e-01],\n",
       "       [ 4.56787825e-01, -8.71888995e-02,  2.04904497e-01,\n",
       "         2.70015180e-01,  2.14884505e-01, -8.82011294e-01,\n",
       "        -6.46219075e-01,  1.72014516e-02,  7.32336998e-01,\n",
       "         2.47336894e-01],\n",
       "       [ 4.80811030e-01, -1.63982026e-02,  1.14688396e-01,\n",
       "         3.16155195e-01,  3.47914815e-01, -7.71196842e-01,\n",
       "        -7.65695095e-01, -6.40872866e-02,  6.52168095e-01,\n",
       "         2.40103453e-01],\n",
       "       [ 4.05165076e-01, -2.71868892e-02,  2.07494915e-01,\n",
       "         2.88271666e-01,  2.76312113e-01, -9.03812408e-01,\n",
       "        -6.72164261e-01, -2.59908661e-02,  6.50722325e-01,\n",
       "         2.98682570e-01],\n",
       "       [ 4.64869946e-01,  3.50126326e-02,  2.15862840e-01,\n",
       "         3.51243466e-01,  2.57758856e-01, -7.77978420e-01,\n",
       "        -7.06517100e-01, -3.50696361e-03,  7.14234769e-01,\n",
       "         2.28440210e-01],\n",
       "       [ 4.28267539e-01, -1.02163203e-01,  2.29682580e-01,\n",
       "         2.24759012e-01,  2.49486297e-01, -7.97006011e-01,\n",
       "        -7.85857618e-01, -8.48970339e-02,  6.54634416e-01,\n",
       "         3.39425862e-01],\n",
       "       [ 4.22480285e-01, -3.49183306e-02,  2.38551706e-01,\n",
       "         3.71086925e-01,  2.85789818e-01, -7.64852643e-01,\n",
       "        -7.96556771e-01,  3.93445641e-02,  6.29896998e-01,\n",
       "         2.47646689e-01],\n",
       "       [ 4.68336314e-01, -1.19721796e-02,  1.61830038e-01,\n",
       "         2.44880915e-01,  2.08681121e-01, -7.79840708e-01,\n",
       "        -7.49831915e-01, -8.74630059e-04,  7.39004731e-01,\n",
       "         3.03580552e-01],\n",
       "       [ 3.93090934e-01, -1.59655046e-02,  1.21855266e-01,\n",
       "         3.37292880e-01,  3.11599642e-01, -8.28577876e-01,\n",
       "        -7.18965650e-01,  4.07436304e-02,  7.17597365e-01,\n",
       "         2.50031471e-01],\n",
       "       [ 4.26498771e-01, -4.24827375e-02,  8.47086683e-02,\n",
       "         2.49321818e-01,  2.88926661e-01, -8.59946966e-01,\n",
       "        -6.79481924e-01, -1.04664499e-02,  7.28980303e-01,\n",
       "         3.06603998e-01],\n",
       "       [ 4.24524456e-01,  4.29957360e-02,  2.21382752e-01,\n",
       "         2.36548051e-01,  2.79702276e-01, -8.34360838e-01,\n",
       "        -7.39038646e-01, -4.74071056e-02,  6.12371981e-01,\n",
       "         3.44092786e-01],\n",
       "       [ 4.83022839e-01,  1.63461380e-02,  1.48713246e-01,\n",
       "         2.98774838e-01,  2.63876498e-01, -8.10055435e-01,\n",
       "        -6.92195654e-01, -6.52416870e-02,  7.06640720e-01,\n",
       "         2.40790382e-01],\n",
       "       [ 4.28758532e-01,  1.36533910e-02,  2.22216278e-01,\n",
       "         3.14622730e-01,  2.49411777e-01, -7.62959719e-01,\n",
       "        -8.61547053e-01,  2.36345287e-02,  6.23660684e-01,\n",
       "         2.65568942e-01],\n",
       "       [ 4.49246496e-01, -2.76298132e-02,  1.96925789e-01,\n",
       "         2.00175151e-01,  2.57167697e-01, -8.47412825e-01,\n",
       "        -6.90316916e-01, -1.02906100e-01,  6.49416685e-01,\n",
       "         3.38341475e-01],\n",
       "       [ 4.10747707e-01,  2.98781320e-02,  1.70084223e-01,\n",
       "         3.09985191e-01,  3.10613543e-01, -7.91630328e-01,\n",
       "        -7.81633615e-01, -6.74385652e-02,  6.54882848e-01,\n",
       "         2.96928525e-01],\n",
       "       [ 4.92411613e-01, -4.60653603e-02,  1.75382718e-01,\n",
       "         2.35729009e-01,  2.10583523e-01, -7.95561194e-01,\n",
       "        -6.94762290e-01, -5.41078895e-02,  7.18488038e-01,\n",
       "         2.88603067e-01],\n",
       "       [ 4.71320659e-01, -7.27792829e-02,  1.83363810e-01,\n",
       "         3.49090189e-01,  3.12630415e-01, -8.16286802e-01,\n",
       "        -7.03439415e-01, -4.57202755e-02,  6.54621601e-01,\n",
       "         2.42884949e-01],\n",
       "       [ 4.76707608e-01, -3.94421928e-02,  1.30121529e-01,\n",
       "         2.80139327e-01,  2.90140837e-01, -8.47697794e-01,\n",
       "        -7.00669825e-01, -6.56386167e-02,  6.51677668e-01,\n",
       "         2.61097342e-01],\n",
       "       [ 3.98480177e-01, -4.06265855e-02,  1.26538768e-01,\n",
       "         2.40425333e-01,  3.05908382e-01, -7.86284268e-01,\n",
       "        -7.73173332e-01,  2.57746819e-02,  6.96549356e-01,\n",
       "         3.16682667e-01],\n",
       "       [ 4.36536074e-01, -1.94102954e-02,  1.61536753e-01,\n",
       "         2.18505040e-01,  2.51281738e-01, -8.37708890e-01,\n",
       "        -7.11392164e-01, -4.12754565e-02,  7.03929603e-01,\n",
       "         3.10254097e-01],\n",
       "       [ 4.02502179e-01,  4.47446927e-02,  1.50134653e-01,\n",
       "         3.45503032e-01,  2.94150144e-01, -8.18722486e-01,\n",
       "        -7.52320647e-01, -2.50832690e-03,  6.90585494e-01,\n",
       "         2.24886805e-01],\n",
       "       [ 5.04640579e-01,  3.40882465e-02,  1.17226534e-01,\n",
       "         3.59028459e-01,  2.49585643e-01, -7.68635750e-01,\n",
       "        -7.65487015e-01,  4.33689356e-02,  6.85464561e-01,\n",
       "         2.95263261e-01],\n",
       "       [ 4.07410264e-01,  2.17946768e-02,  1.81438342e-01,\n",
       "         2.33575165e-01,  2.92100251e-01, -8.75646651e-01,\n",
       "        -7.48829067e-01, -3.26812156e-02,  6.36567235e-01,\n",
       "         3.30106854e-01],\n",
       "       [ 4.09149408e-01, -8.13094992e-03,  1.69701800e-01,\n",
       "         2.06796795e-01,  2.71526009e-01, -7.84919322e-01,\n",
       "        -7.10665286e-01, -2.73128599e-02,  7.68539190e-01,\n",
       "         3.28639627e-01],\n",
       "       [ 3.82520825e-01, -1.55089255e-02,  1.05398126e-01,\n",
       "         3.10028583e-01,  2.69143820e-01, -8.50618005e-01,\n",
       "        -7.55646765e-01,  2.21099276e-02,  6.94995046e-01,\n",
       "         2.82834530e-01],\n",
       "       [ 3.90659928e-01, -8.52139890e-02,  1.61825955e-01,\n",
       "         2.81672835e-01,  3.50368798e-01, -8.31389904e-01,\n",
       "        -7.25260198e-01, -1.02413096e-01,  6.86131537e-01,\n",
       "         2.90574342e-01],\n",
       "       [ 4.24484968e-01,  4.91899624e-02,  1.34750023e-01,\n",
       "         3.41772974e-01,  2.54236937e-01, -7.94954598e-01,\n",
       "        -6.87480509e-01, -6.74192533e-02,  7.22732067e-01,\n",
       "         3.33604634e-01],\n",
       "       [ 3.83220792e-01, -3.56053486e-02,  2.29177728e-01,\n",
       "         2.66217142e-01,  2.29211256e-01, -8.37455034e-01,\n",
       "        -7.44840562e-01,  2.49892648e-04,  6.96713567e-01,\n",
       "         3.13469112e-01],\n",
       "       [ 4.38730627e-01,  4.38589156e-02,  1.41007334e-01,\n",
       "         2.60135829e-01,  3.45679730e-01, -7.79510796e-01,\n",
       "        -7.60239184e-01, -2.85890047e-02,  7.05356181e-01,\n",
       "         2.87466794e-01],\n",
       "       [ 4.09570873e-01, -5.26883872e-03,  1.88031569e-01,\n",
       "         2.90532947e-01,  3.20561111e-01, -8.01016867e-01,\n",
       "        -7.51805246e-01, -8.99240896e-02,  6.69043243e-01,\n",
       "         2.85063148e-01],\n",
       "       [ 4.68850553e-01,  4.59126607e-02,  1.58366546e-01,\n",
       "         2.92306900e-01,  3.61394972e-01, -7.36829937e-01,\n",
       "        -7.53955960e-01, -9.23473164e-02,  6.94230139e-01,\n",
       "         2.80466348e-01],\n",
       "       [ 4.42272991e-01, -6.74607456e-02,  1.47530988e-01,\n",
       "         2.02086389e-01,  2.57422328e-01, -8.21315467e-01,\n",
       "        -7.10807562e-01, -4.24905866e-02,  7.18840480e-01,\n",
       "         3.44893426e-01],\n",
       "       [ 4.05588210e-01,  7.60093331e-02,  1.48847893e-01,\n",
       "         3.30030680e-01,  2.78567046e-01, -8.31984639e-01,\n",
       "        -7.30053127e-01, -1.02680929e-01,  6.92175567e-01,\n",
       "         2.80373126e-01],\n",
       "       [ 3.91426176e-01,  3.54029872e-02,  2.20778048e-01,\n",
       "         2.95553118e-01,  3.23749006e-01, -7.91442215e-01,\n",
       "        -7.47166991e-01, -1.09138973e-01,  6.88436925e-01,\n",
       "         3.41931880e-01],\n",
       "       [ 4.70640332e-01,  2.53832191e-02,  1.14992842e-01,\n",
       "         3.01144272e-01,  3.34916323e-01, -7.96411216e-01,\n",
       "        -7.36561775e-01, -5.77308685e-02,  6.69073284e-01,\n",
       "         2.87261069e-01],\n",
       "       [ 4.09960032e-01,  4.47593816e-02,  1.97608501e-01,\n",
       "         3.26131284e-01,  2.37097934e-01, -8.79456997e-01,\n",
       "        -6.63577080e-01,  4.43335772e-02,  6.69519722e-01,\n",
       "         3.19376051e-01],\n",
       "       [ 3.97433966e-01,  7.64965042e-02,  1.20331995e-01,\n",
       "         3.15575391e-01,  2.50561327e-01, -8.65981817e-01,\n",
       "        -7.38189936e-01,  2.90455966e-04,  6.78632259e-01,\n",
       "         2.56810576e-01],\n",
       "       [ 4.09528732e-01, -2.70243362e-02,  1.43806547e-01,\n",
       "         3.64785433e-01,  2.37500384e-01, -8.25646043e-01,\n",
       "        -6.95377946e-01, -2.69072428e-02,  6.98896289e-01,\n",
       "         2.85273373e-01],\n",
       "       [ 4.50309575e-01, -8.87192786e-02,  1.36252388e-01,\n",
       "         2.23190382e-01,  3.33223730e-01, -8.79113913e-01,\n",
       "        -6.78352594e-01, -6.54739439e-02,  6.68252647e-01,\n",
       "         3.48750889e-01],\n",
       "       [ 3.80469978e-01,  6.55435026e-02,  1.08262502e-01,\n",
       "         3.28977793e-01,  2.77016401e-01, -7.92793751e-01,\n",
       "        -7.13608742e-01,  1.92397535e-02,  7.36945510e-01,\n",
       "         3.27194184e-01],\n",
       "       [ 3.96843582e-01,  4.35289927e-02,  1.40202686e-01,\n",
       "         2.85507917e-01,  2.50557095e-01, -7.47764111e-01,\n",
       "        -8.19734514e-01,  9.06991423e-04,  6.71720445e-01,\n",
       "         3.41886848e-01],\n",
       "       [ 3.76350254e-01,  1.92326289e-02,  1.31083399e-01,\n",
       "         3.13890100e-01,  2.86537856e-01, -7.90948808e-01,\n",
       "        -7.80184627e-01,  2.68686116e-02,  6.94634676e-01,\n",
       "         2.32255638e-01],\n",
       "       [ 3.72237056e-01,  3.27926911e-02,  1.64903939e-01,\n",
       "         3.22170645e-01,  2.71236151e-01, -7.90103495e-01,\n",
       "        -7.49151409e-01,  6.07117079e-02,  7.21015036e-01,\n",
       "         2.37693027e-01],\n",
       "       [ 4.44685280e-01, -2.88079549e-02,  1.17761634e-01,\n",
       "         3.01021367e-01,  2.47846812e-01, -8.00307691e-01,\n",
       "        -7.05499589e-01, -3.85265681e-03,  7.22829044e-01,\n",
       "         3.02742124e-01],\n",
       "       [ 3.80450308e-01, -3.31275351e-02,  2.24825382e-01,\n",
       "         2.76997209e-01,  2.77195364e-01, -8.12370181e-01,\n",
       "        -7.12224722e-01, -9.65876132e-02,  6.91234589e-01,\n",
       "         2.94126034e-01],\n",
       "       [ 4.77998227e-01,  2.43791305e-02,  1.86217040e-01,\n",
       "         3.18912268e-01,  3.05641592e-01, -7.48472869e-01,\n",
       "        -7.56739438e-01, -6.47531226e-02,  6.76011503e-01,\n",
       "         2.55782485e-01],\n",
       "       [ 3.56370986e-01, -1.77598055e-02,  1.38135910e-01,\n",
       "         2.28736296e-01,  3.39896947e-01, -8.97002041e-01,\n",
       "        -7.13046253e-01,  9.55255888e-03,  6.54570341e-01,\n",
       "         3.09045255e-01],\n",
       "       [ 4.69067365e-01,  2.17545088e-02,  1.03205144e-01,\n",
       "         3.18497509e-01,  2.26028755e-01, -8.19405437e-01,\n",
       "        -7.13670015e-01, -5.90855591e-02,  7.40079463e-01,\n",
       "         2.31688499e-01],\n",
       "       [ 3.82247061e-01,  3.44375484e-02,  1.50579259e-01,\n",
       "         3.09990525e-01,  3.19034547e-01, -7.52129436e-01,\n",
       "        -7.60508239e-01, -3.85682806e-02,  7.04954505e-01,\n",
       "         2.49382168e-01],\n",
       "       [ 4.42313462e-01, -8.80618617e-02,  1.17349252e-01,\n",
       "         2.96242088e-01,  2.40416124e-01, -7.96117306e-01,\n",
       "        -7.53973007e-01, -6.29052073e-02,  7.31297851e-01,\n",
       "         2.30431050e-01],\n",
       "       [ 3.82332832e-01, -7.27268588e-03,  1.92844540e-01,\n",
       "         2.91813612e-01,  2.84330755e-01, -8.13072145e-01,\n",
       "        -7.31796861e-01, -2.93129291e-02,  7.18115389e-01,\n",
       "         3.18106860e-01],\n",
       "       [ 4.00671721e-01, -8.06603357e-02,  1.41313463e-01,\n",
       "         3.37301970e-01,  2.67711908e-01, -8.23343217e-01,\n",
       "        -7.37435162e-01,  1.94921643e-02,  6.51881874e-01,\n",
       "         2.87304580e-01],\n",
       "       [ 4.76196885e-01,  6.35369588e-03,  1.69340760e-01,\n",
       "         2.92054564e-01,  2.73807824e-01, -7.86409199e-01,\n",
       "        -7.96484649e-01, -3.06024821e-03,  6.50943577e-01,\n",
       "         2.43927598e-01],\n",
       "       [ 4.30092216e-01,  4.12499718e-02,  1.96104512e-01,\n",
       "         3.11091125e-01,  3.03025484e-01, -8.04895639e-01,\n",
       "        -7.17103660e-01, -9.95499715e-02,  6.73318148e-01,\n",
       "         3.33372384e-01],\n",
       "       [ 5.10559559e-01, -1.11453317e-03,  1.56528682e-01,\n",
       "         2.71883309e-01,  3.04920316e-01, -7.87664354e-01,\n",
       "        -7.80347764e-01, -6.46174997e-02,  6.36188507e-01,\n",
       "         2.46385902e-01],\n",
       "       [ 4.40079659e-01, -4.79269587e-02,  1.12315789e-01,\n",
       "         3.10900807e-01,  2.68817008e-01, -7.89814532e-01,\n",
       "        -7.62315571e-01,  3.22334915e-02,  7.06018150e-01,\n",
       "         2.96011358e-01],\n",
       "       [ 4.35038537e-01, -4.57877889e-02,  2.13519067e-01,\n",
       "         2.93556720e-01,  2.48047620e-01, -8.57448041e-01,\n",
       "        -7.24802315e-01, -5.28533272e-02,  6.68208122e-01,\n",
       "         2.44816050e-01],\n",
       "       [ 3.88762057e-01,  6.64753690e-02,  1.22065291e-01,\n",
       "         2.50781775e-01,  2.96947509e-01, -7.89190948e-01,\n",
       "        -8.19009006e-01, -6.78036874e-03,  6.39895201e-01,\n",
       "         2.97875822e-01],\n",
       "       [ 4.73515272e-01, -2.78560538e-02,  1.52203903e-01,\n",
       "         2.64466763e-01,  2.91191161e-01, -7.81996965e-01,\n",
       "        -7.14839637e-01,  2.57649086e-02,  6.88830554e-01,\n",
       "         3.26705694e-01],\n",
       "       [ 3.78757060e-01, -6.10643476e-02,  1.58735514e-01,\n",
       "         2.20186740e-01,  3.38952571e-01, -8.20146501e-01,\n",
       "        -7.01745868e-01, -4.37388420e-02,  7.10213840e-01,\n",
       "         3.24238300e-01],\n",
       "       [ 3.93519163e-01, -7.74337053e-02,  1.87883958e-01,\n",
       "         2.46386200e-01,  3.35041761e-01, -8.21377516e-01,\n",
       "        -7.71359742e-01, -9.47009400e-02,  6.81954086e-01,\n",
       "         2.69180089e-01],\n",
       "       [ 4.47735250e-01, -1.13623358e-01,  1.78821534e-01,\n",
       "         2.22523570e-01,  2.89141417e-01, -8.54099274e-01,\n",
       "        -6.76214218e-01, -4.00881954e-02,  7.24757671e-01,\n",
       "         2.21706018e-01],\n",
       "       [ 3.78435910e-01, -3.20885256e-02,  1.87915340e-01,\n",
       "         2.66113728e-01,  2.92305112e-01, -8.72748852e-01,\n",
       "        -7.64862299e-01,  1.00859962e-02,  6.40213728e-01,\n",
       "         2.67307997e-01],\n",
       "       [ 4.61314023e-01, -4.71313260e-02,  1.95294842e-01,\n",
       "         3.15465271e-01,  2.99250931e-01, -7.57762969e-01,\n",
       "        -6.96321368e-01, -7.63160363e-02,  7.35149741e-01,\n",
       "         2.98459411e-01],\n",
       "       [ 4.52782869e-01,  1.03532849e-02,  1.93851441e-01,\n",
       "         2.54397273e-01,  2.60982245e-01, -7.80914783e-01,\n",
       "        -7.33704269e-01, -1.83353499e-02,  7.03023016e-01,\n",
       "         2.74872571e-01],\n",
       "       [ 3.81663114e-01,  1.84670079e-03,  1.16029561e-01,\n",
       "         3.31257164e-01,  2.93095767e-01, -7.94285059e-01,\n",
       "        -7.33128190e-01,  7.06421444e-03,  7.10510433e-01,\n",
       "         2.91909695e-01],\n",
       "       [ 3.73323530e-01, -5.20672947e-02,  2.43139520e-01,\n",
       "         2.68193245e-01,  2.94248074e-01, -9.06311512e-01,\n",
       "        -6.62909985e-01, -5.33872023e-02,  6.18158817e-01,\n",
       "         3.69044334e-01],\n",
       "       [ 4.65787470e-01, -1.04033472e-02,  1.98396608e-01,\n",
       "         2.46983781e-01,  3.19169581e-01, -8.40861738e-01,\n",
       "        -7.48184085e-01, -7.33592287e-02,  6.47097349e-01,\n",
       "         2.47040674e-01],\n",
       "       [ 3.86681229e-01,  5.38508743e-02,  2.40349278e-01,\n",
       "         2.09111229e-01,  3.42484564e-01, -8.39987874e-01,\n",
       "        -7.67911136e-01, -1.05516970e-01,  6.23719573e-01,\n",
       "         3.26236516e-01],\n",
       "       [ 4.10914868e-01, -4.37526777e-02,  2.30519250e-01,\n",
       "         3.35388720e-01,  3.25745702e-01, -8.11464429e-01,\n",
       "        -6.93225026e-01, -5.90262935e-02,  6.73293889e-01,\n",
       "         2.53372878e-01]], dtype=float32)"
      ]
     },
     "execution_count": 224,
     "metadata": {},
     "output_type": "execute_result"
    }
   ],
   "source": [
    "model.wv.vectors # para encontrar o embedding"
   ]
  },
  {
   "cell_type": "code",
   "execution_count": null,
   "id": "4b9530f5",
   "metadata": {},
   "outputs": [],
   "source": []
  }
 ],
 "metadata": {
  "kernelspec": {
   "display_name": "parkinson",
   "language": "python",
   "name": "python3"
  },
  "language_info": {
   "codemirror_mode": {
    "name": "ipython",
    "version": 3
   },
   "file_extension": ".py",
   "mimetype": "text/x-python",
   "name": "python",
   "nbconvert_exporter": "python",
   "pygments_lexer": "ipython3",
   "version": "3.9.0"
  }
 },
 "nbformat": 4,
 "nbformat_minor": 5
}
