{
 "cells": [
  {
   "cell_type": "markdown",
   "id": "fc7b43c2",
   "metadata": {},
   "source": [
    "# Reading Files"
   ]
  },
  {
   "cell_type": "code",
   "execution_count": 11,
   "id": "f10d2033",
   "metadata": {},
   "outputs": [],
   "source": [
    "import os\n",
    "\n",
    "import pandas as pd\n",
    "\n",
    "from tqdm import tqdm"
   ]
  },
  {
   "cell_type": "code",
   "execution_count": 12,
   "id": "d7628160",
   "metadata": {},
   "outputs": [],
   "source": [
    "control_subject = []\n",
    "\n",
    "def batch_read(path: str) -> list[pd.DataFrame]:\n",
    "    df_list = []\n",
    "    for file in tqdm(os.listdir(path)):\n",
    "        df = pd.read_csv(f'{path}/{file}')\n",
    "        df_list.append(df)\n",
    "    return df_list"
   ]
  },
  {
   "cell_type": "code",
   "execution_count": 17,
   "id": "6f41a9b6",
   "metadata": {},
   "outputs": [
    {
     "name": "stderr",
     "output_type": "stream",
     "text": [
      "100%|██████████| 66/66 [00:03<00:00, 18.31it/s]\n"
     ]
    }
   ],
   "source": [
    "control_data = batch_read('../data/Controls_columns')"
   ]
  },
  {
   "cell_type": "code",
   "execution_count": 14,
   "id": "2042221d",
   "metadata": {},
   "outputs": [
    {
     "name": "stderr",
     "output_type": "stream",
     "text": [
      "100%|██████████| 113/113 [00:06<00:00, 16.61it/s]\n"
     ]
    }
   ],
   "source": [
    "parkinson_data = batch_read('../data/PDs_columns')"
   ]
  }
 ],
 "metadata": {
  "kernelspec": {
   "display_name": "parkinson",
   "language": "python",
   "name": "python3"
  },
  "language_info": {
   "codemirror_mode": {
    "name": "ipython",
    "version": 3
   },
   "file_extension": ".py",
   "mimetype": "text/x-python",
   "name": "python",
   "nbconvert_exporter": "python",
   "pygments_lexer": "ipython3",
   "version": "3.13.3"
  }
 },
 "nbformat": 4,
 "nbformat_minor": 5
}
